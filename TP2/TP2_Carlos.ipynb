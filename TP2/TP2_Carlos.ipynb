{
 "cells": [
  {
   "cell_type": "code",
   "execution_count": null,
   "metadata": {},
   "outputs": [],
   "source": [
    "# !pip install statsmodels"
   ]
  },
  {
   "cell_type": "code",
   "execution_count": null,
   "metadata": {},
   "outputs": [],
   "source": [
    "# !pip install sklearn\n"
   ]
  },
  {
   "cell_type": "code",
   "execution_count": null,
   "metadata": {},
   "outputs": [],
   "source": [
    "# !pip utils install utils"
   ]
  },
  {
   "cell_type": "code",
   "execution_count": 39,
   "metadata": {},
   "outputs": [],
   "source": [
    "# Importando librerías \n",
    "import pandas as pd\n",
    "import missingno as msno\n",
    "import seaborn as sns\n",
    "import numpy as np\n",
    "import matplotlib.pyplot as plt\n",
    "from matplotlib.pyplot import xlim\n",
    "from statistics import mode\n",
    "import statsmodels.api as sm\n",
    "from sklearn.model_selection import train_test_split\n",
    "from sklearn import linear_model\n",
    "from sklearn.linear_model import LinearRegression\n",
    "from sklearn import metrics\n",
    "from sklearn.metrics import mean_squared_error\n",
    "#from utils import tipo_propiedad_train\n",
    "from sklearn.preprocessing import StandardScaler\n",
    "from sklearn.linear_model import RidgeCV\n",
    "from sklearn.linear_model import Ridge\n",
    "from sklearn.linear_model import LassoCV\n"
   ]
  },
  {
   "cell_type": "code",
   "execution_count": 2,
   "metadata": {},
   "outputs": [],
   "source": [
    "def tipo_propiedad_train(property_type):\n",
    "    '''Evaluación del modelo sobre conjunto de datos de train'''\n",
    "    \n",
    "    property_type = prop_prueba.loc[prop_prueba['property_type'] == property_type]\n",
    "    \n",
    "    feature_cols = [x for x in property_type.columns if ((x != 'property_type') & (x != 'price_aprox_usd') & (x != 'place_name'))]\n",
    "    \n",
    "    # Generando Train y Test \n",
    "    X = property_type[feature_cols]\n",
    "    y = property_type['price_aprox_usd']\n",
    "\n",
    "    # División de los datos en train y test\n",
    "    # ==============================================================================    \n",
    "    X_train, X_test, y_train, y_test = train_test_split(\n",
    "                                        X,\n",
    "                                        y,\n",
    "                                        train_size   = 0.8,\n",
    "                                        random_state = 123,\n",
    "                                     ) \n",
    "\n",
    "    # Generando modelo \n",
    "\n",
    "    X = X_train[feature_cols]\n",
    "    y = y_train\n",
    "\n",
    "    # Tenemos que agregar explícitamente una constante:\n",
    "    X = sm.add_constant(X)\n",
    "\n",
    "    model = sm.OLS(y, X).fit()\n",
    "\n",
    "    return model.summary()"
   ]
  },
  {
   "cell_type": "code",
   "execution_count": 3,
   "metadata": {},
   "outputs": [],
   "source": [
    "def prediccion_modelo(property_type):\n",
    "    '''Evaluación del modelo sobre conjunto de datos de test'''\n",
    "    \n",
    "    property_type = prop_prueba.loc[prop_prueba['property_type'] == property_type]\n",
    "    \n",
    "    feature_cols = [x for x in property_type.columns if ((x != 'property_type') & (x != 'price_aprox_usd') & (x != 'place_name'))]\n",
    "    \n",
    "    # Generando Train y Test \n",
    "    X = property_type[feature_cols]\n",
    "    y = property_type['price_aprox_usd']\n",
    "\n",
    "    X_train, X_test, y_train, y_test = train_test_split(\n",
    "                                        X,\n",
    "                                        y,\n",
    "                                        train_size   = 0.8,\n",
    "                                        random_state = 123,\n",
    "                                     ) \n",
    "    # Haciendo predicción \n",
    "        \n",
    "    model = LinearRegression()\n",
    "    model.fit(X_train, y_train)\n",
    "        \n",
    "    print(pd.DataFrame(model.coef_, X.columns, columns = ['Coeff']))\n",
    "    \n",
    "    predictions = model.predict(X_test) \n",
    "    n = len(y_test)\n",
    "    p = len(feature_cols)\n",
    "    r2 = metrics.r2_score(y_test, predictions)\n",
    "    r2_ajustado = 1 - (1 - r2)*((n-1)/(n - p - 1))\n",
    "    \n",
    "    MAE = metrics.mean_absolute_error(y_test, predictions)\n",
    "    MSE = metrics.mean_squared_error(y_test, predictions)\n",
    "    RMSE = np.sqrt(metrics.mean_squared_error(y_test, predictions))\n",
    "\n",
    "    # Preguntar como sacar ambas gráficas \n",
    "    # plt.hist(y_test - predictions)\n",
    "    sns.set(style='whitegrid')\n",
    "    f = sns.scatterplot(x = y_test, y = predictions)\n",
    "    f.set_xlabel(\"Y_test\", fontsize = 20)\n",
    "    f.set_ylabel(\"Predicción\", fontsize = 20)\n",
    "\n",
    "    \n",
    "    return (\"R2_test: \", r2) , (\"R2 ajustado_test: \", r2_ajustado) , ('Mean Absolute Error_test:', MAE), ('Mean Squared Error_test:', MSE), ('Root Mean Squared Error_test:', RMSE)"
   ]
  },
  {
   "cell_type": "markdown",
   "metadata": {},
   "source": [
    "## 1. Lectura de DataFrame "
   ]
  },
  {
   "cell_type": "code",
   "execution_count": 4,
   "metadata": {},
   "outputs": [
    {
     "name": "stdout",
     "output_type": "stream",
     "text": [
      "El dataframe de properati está compuesto por 16 columnas y 107980 filas\n"
     ]
    },
    {
     "data": {
      "text/plain": [
       "(107980, 16)"
      ]
     },
     "execution_count": 4,
     "metadata": {},
     "output_type": "execute_result"
    }
   ],
   "source": [
    "data = pd.read_csv(r'propiedades.csv', sep = ',', index_col = 0)\n",
    "print(f'El dataframe de properati está compuesto por {data.shape[1]} columnas y {data.shape[0]} filas') \n",
    "data.sample(3)\n",
    "data.shape"
   ]
  },
  {
   "cell_type": "code",
   "execution_count": 5,
   "metadata": {},
   "outputs": [
    {
     "name": "stdout",
     "output_type": "stream",
     "text": [
      "El dataframe de properati está compuesto por 16 columnas y 31308 filas\n"
     ]
    }
   ],
   "source": [
    "# Considerando el volumen de datos y espacio geográfico abarcado por las diferentes provincias, \n",
    "# se procederá a estudiar la relación y variación de precios en propiedades en Capital Federal y posteriormente en Córdoba\n",
    "\n",
    "data = data.loc[data['state_name'] == 'Capital Federal']\n",
    "print(f'El dataframe de properati está compuesto por {data.shape[1]} columnas y {data.shape[0]} filas') "
   ]
  },
  {
   "cell_type": "markdown",
   "metadata": {},
   "source": [
    "## 2. Descripción breve del DataFrame.\n",
    "\n",
    "\n",
    "El DataFrame en estudio cuenta con 15 columnas y un total de 31308 filas (incluyendo valores nulos) por columna. \n",
    "\n",
    "Las columnas contenidas en el DataFrame son: \n",
    "\n",
    "2.1 property_Type. Compuesta por datos del tipo string, en la cual se describe el tipo de propiedad. Ejemplo: PH, apartment, etc. \n",
    "\n",
    "2.2 place_name. Compuesta por datos del tipo string, en la cual se describe localidad donde está ubicada la propiedad. Ejemplo: Villa Crespo, Belgrano.\n",
    "\n",
    "2.3 state_name. Compuesta por datos del tipo string, en la cual es informada la provincia en el cual se ubica la propiedad. Ejemplo: Capital Federal.\n",
    "\n",
    "2.4 surface_total_in_m2. Compuesta por valores del tipo float64, y muestra la superficie total en metros cuadrados (m2) que abarca la propiedad. Ejemplo: 55.0.\n",
    "\n",
    "2.5 surface_covered_in_m2. Compuesta por valores del tipo float64, y muestra la superficie cubierta en metros cuadrados (m2) dentro de la propiedad. Ejemplo: 40.0.\n",
    "\n",
    "2.6 'apartment', 'house' y 'store'. Columnas con valores dummies para informar tipo de propiedad. \n",
    "\n",
    "2.7 ''amb_2.0', 'amb_3.0', 'amb_4.0', 'amb_5.0', 'amb_Mayor a 5', 'amb_No Informado'. Columnas con valores dummies para informar el número de ambientes en la propiedad. "
   ]
  },
  {
   "cell_type": "code",
   "execution_count": 6,
   "metadata": {},
   "outputs": [
    {
     "name": "stdout",
     "output_type": "stream",
     "text": [
      "\n",
      "\n",
      "-----------Tipo de datos por columna-----------\n",
      "property_type             object\n",
      "place_name                object\n",
      "state_name                object\n",
      "price_aprox_usd          float64\n",
      "surface_total_in_m2      float64\n",
      "surface_covered_in_m2    float64\n",
      "price_usd_per_m2         float64\n",
      "apartment                  int64\n",
      "house                      int64\n",
      "store                      int64\n",
      "amb_2.0                    int64\n",
      "amb_3.0                    int64\n",
      "amb_4.0                    int64\n",
      "amb_5.0                    int64\n",
      "amb_Mayor a 5              int64\n",
      "amb_No Informado           int64\n",
      "dtype: object\n"
     ]
    }
   ],
   "source": [
    "# Resumen de nombre y tipo de dato por columna\n",
    "\n",
    "print('\\n')\n",
    "print('-----------Tipo de datos por columna-----------')\n",
    "print(data.dtypes)"
   ]
  },
  {
   "cell_type": "markdown",
   "metadata": {},
   "source": [
    "## 3. Distribución de los datos.  "
   ]
  },
  {
   "cell_type": "code",
   "execution_count": 7,
   "metadata": {},
   "outputs": [
    {
     "data": {
      "text/plain": [
       "<AxesSubplot:>"
      ]
     },
     "execution_count": 7,
     "metadata": {},
     "output_type": "execute_result"
    },
    {
     "data": {
      "image/png": "[encoded data removed]",
      "text/plain": [
       "<Figure size 2500x1000 with 3 Axes>"
      ]
     },
     "metadata": {},
     "output_type": "display_data"
    }
   ],
   "source": [
    "# Para saber valores no nulos\n",
    "\n",
    "msno.bar(data)"
   ]
  },
  {
   "cell_type": "markdown",
   "metadata": {},
   "source": [
    "MENCIONAR VARIABILIDAD DE LOS DATOS (HAY QUE COMPLETARLO)\n",
    "\n",
    "Aproximadamente el 40% de las columnas contienen datos diferentes de NaN dentro de su estructura en el DataFrame. El restante 60% está distribuido de la siguiente manera: \n",
    " - Columnas que contienen entre 50% y 80% de datos completos. (50%)\n",
    " - Columnas que contienen por debajo del 40% de datos completos. (10%)"
   ]
  },
  {
   "cell_type": "markdown",
   "metadata": {},
   "source": [
    "TOMAR DECISIÓN RESPECTO A ¿CUÁL SERÁ NUESTRA VARIABLE TARGET? \n",
    "\n",
    "Según el análisis que hicimos para TP1 , propongo tomar como variable target la columna PRICE, QUE TENDRÍAMOS QUE RECUPERAR DEL DATAFRAME PRINCIPAL DE PROPERATTI O EN TAL CASO TOMAR LA COLUMNA PRICE_APROX_USD"
   ]
  },
  {
   "cell_type": "markdown",
   "metadata": {},
   "source": [
    "## 4. Eliminación de datos."
   ]
  },
  {
   "cell_type": "markdown",
   "metadata": {},
   "source": [
    "Eliminar columna que tiene relación con precios y no son nuestra variable target, o ya fueron convertidas en variables dummies "
   ]
  },
  {
   "cell_type": "code",
   "execution_count": 8,
   "metadata": {},
   "outputs": [],
   "source": [
    "# data.drop(['price_usd_per_m2', 'property_type'], axis = 1, inplace = True)\n",
    "data.drop(['price_usd_per_m2'], axis = 1, inplace = True)"
   ]
  },
  {
   "cell_type": "markdown",
   "metadata": {},
   "source": [
    "Eliminar columnas donde existan valores nulos para la variable a predecir (price_aprox_usd)"
   ]
  },
  {
   "cell_type": "code",
   "execution_count": 9,
   "metadata": {},
   "outputs": [],
   "source": [
    "data.dropna(axis = 0, subset = ['price_aprox_usd'], inplace = True)"
   ]
  },
  {
   "cell_type": "code",
   "execution_count": null,
   "metadata": {},
   "outputs": [],
   "source": [
    "msno.bar(data)"
   ]
  },
  {
   "cell_type": "code",
   "execution_count": null,
   "metadata": {},
   "outputs": [],
   "source": [
    "data.sample(3)"
   ]
  },
  {
   "cell_type": "markdown",
   "metadata": {},
   "source": [
    "## 5. Creación de Variables Dummies."
   ]
  },
  {
   "cell_type": "markdown",
   "metadata": {},
   "source": [
    "Continuando con el análisis, la propuesta ahora es generar variables dummy para aquellas variables categóricas que podrían aportar información valiosa al momento de clasificar las propiedades.\n",
    "\n",
    "Analizando el DataFrame , será creado un nuevo grupo de propiedades en el cual estarán agrupadas todas aquellos Barrios dentro de Capital Federal que posean un número de propiedades menor o igual a 100."
   ]
  },
  {
   "cell_type": "code",
   "execution_count": 10,
   "metadata": {},
   "outputs": [
    {
     "data": {
      "text/plain": [
       "place_name\n",
       "Belgrano           2516\n",
       "Palermo            2473\n",
       "Caballito          2031\n",
       "Recoleta           1403\n",
       "Villa Urquiza      1350\n",
       "                   ... \n",
       "Agronomía            37\n",
       "Velez Sarsfield      34\n",
       "Villa Soldati        15\n",
       "Villa Riachuelo       5\n",
       "Catalinas             2\n",
       "Name: place_name, Length: 62, dtype: int64"
      ]
     },
     "metadata": {},
     "output_type": "display_data"
    }
   ],
   "source": [
    "place_group = (data.groupby(['place_name'])['place_name'].count()).sort_values(ascending=False)\n",
    "display(place_group)"
   ]
  },
  {
   "cell_type": "code",
   "execution_count": 11,
   "metadata": {},
   "outputs": [
    {
     "data": {
      "text/plain": [
       "Index(['Palermo Hollywood', 'Villa del Parque', 'San Cristobal', 'Floresta',\n",
       "       'Barracas', 'Villa Devoto', 'Mataderos', 'Villa Luro', 'Colegiales',\n",
       "       'Palermo Soho', 'Liniers', 'Parque Patricios', 'Congreso', 'Coghlan',\n",
       "       'Retiro', 'Centro / Microcentro', 'Chacarita', 'Boca', 'Constitución',\n",
       "       'Palermo Chico', 'Villa Lugano', 'Villa Pueyrredón', 'San Nicolás',\n",
       "       'Paternal', 'Once', 'Parque Chacabuco', 'Las Cañitas', 'Abasto',\n",
       "       'Tribunales', 'Villa Ortuzar', 'Monte Castro', 'Parque Centenario',\n",
       "       'Pompeya', 'Villa Santa Rita', 'Parque Avellaneda', 'Versalles',\n",
       "       'Villa General Mitre', 'Parque Chas', 'Palermo Viejo', 'Villa Real',\n",
       "       'Agronomía', 'Velez Sarsfield', 'Villa Soldati', 'Villa Riachuelo',\n",
       "       'Catalinas'],\n",
       "      dtype='object')"
      ]
     },
     "execution_count": 11,
     "metadata": {},
     "output_type": "execute_result"
    }
   ],
   "source": [
    "# Convertimos a DataFrame\n",
    "place = pd.DataFrame(place_group)\n",
    "place.index.name = None\n",
    "\n",
    "# Generamos nuevo DataFrame con Barrios dentro de Capital Federal con 500 propiedades o menos \n",
    "pocas_propiedades = place[place['place_name'] <= 500]\n",
    "\n",
    "pocas_prop = pocas_propiedades.index\n",
    "pocas_prop"
   ]
  },
  {
   "cell_type": "code",
   "execution_count": 12,
   "metadata": {},
   "outputs": [
    {
     "name": "stderr",
     "output_type": "stream",
     "text": [
      "C:\\Users\\ana mario\\AppData\\Local\\Temp\\ipykernel_18352\\636339655.py:2: SettingWithCopyWarning: \n",
      "A value is trying to be set on a copy of a slice from a DataFrame\n",
      "\n",
      "See the caveats in the documentation: https://pandas.pydata.org/pandas-docs/stable/user_guide/indexing.html#returning-a-view-versus-a-copy\n",
      "  data['place_name'][data['place_name'].isin(pocas_prop)] = 'Otros Barrios'\n"
     ]
    },
    {
     "data": {
      "text/html": [
       "<div>\n",
       "<style scoped>\n",
       "    .dataframe tbody tr th:only-of-type {\n",
       "        vertical-align: middle;\n",
       "    }\n",
       "\n",
       "    .dataframe tbody tr th {\n",
       "        vertical-align: top;\n",
       "    }\n",
       "\n",
       "    .dataframe thead th {\n",
       "        text-align: right;\n",
       "    }\n",
       "</style>\n",
       "<table border=\"1\" class=\"dataframe\">\n",
       "  <thead>\n",
       "    <tr style=\"text-align: right;\">\n",
       "      <th></th>\n",
       "      <th>property_type</th>\n",
       "      <th>place_name</th>\n",
       "      <th>state_name</th>\n",
       "      <th>price_aprox_usd</th>\n",
       "      <th>surface_total_in_m2</th>\n",
       "      <th>surface_covered_in_m2</th>\n",
       "      <th>apartment</th>\n",
       "      <th>house</th>\n",
       "      <th>store</th>\n",
       "      <th>amb_2.0</th>\n",
       "      <th>amb_3.0</th>\n",
       "      <th>amb_4.0</th>\n",
       "      <th>amb_5.0</th>\n",
       "      <th>amb_Mayor a 5</th>\n",
       "      <th>amb_No Informado</th>\n",
       "    </tr>\n",
       "  </thead>\n",
       "  <tbody>\n",
       "    <tr>\n",
       "      <th>119162</th>\n",
       "      <td>apartment</td>\n",
       "      <td>Villa Urquiza</td>\n",
       "      <td>Capital Federal</td>\n",
       "      <td>108900.0</td>\n",
       "      <td>41.000000</td>\n",
       "      <td>37.0</td>\n",
       "      <td>1</td>\n",
       "      <td>0</td>\n",
       "      <td>0</td>\n",
       "      <td>0</td>\n",
       "      <td>0</td>\n",
       "      <td>0</td>\n",
       "      <td>0</td>\n",
       "      <td>0</td>\n",
       "      <td>1</td>\n",
       "    </tr>\n",
       "    <tr>\n",
       "      <th>114484</th>\n",
       "      <td>apartment</td>\n",
       "      <td>Nuñez</td>\n",
       "      <td>Capital Federal</td>\n",
       "      <td>165000.0</td>\n",
       "      <td>60.000000</td>\n",
       "      <td>45.0</td>\n",
       "      <td>1</td>\n",
       "      <td>0</td>\n",
       "      <td>0</td>\n",
       "      <td>1</td>\n",
       "      <td>0</td>\n",
       "      <td>0</td>\n",
       "      <td>0</td>\n",
       "      <td>0</td>\n",
       "      <td>0</td>\n",
       "    </tr>\n",
       "    <tr>\n",
       "      <th>114286</th>\n",
       "      <td>apartment</td>\n",
       "      <td>Belgrano</td>\n",
       "      <td>Capital Federal</td>\n",
       "      <td>165000.0</td>\n",
       "      <td>105.431797</td>\n",
       "      <td>60.0</td>\n",
       "      <td>1</td>\n",
       "      <td>0</td>\n",
       "      <td>0</td>\n",
       "      <td>0</td>\n",
       "      <td>1</td>\n",
       "      <td>0</td>\n",
       "      <td>0</td>\n",
       "      <td>0</td>\n",
       "      <td>0</td>\n",
       "    </tr>\n",
       "  </tbody>\n",
       "</table>\n",
       "</div>"
      ],
      "text/plain": [
       "       property_type     place_name       state_name  price_aprox_usd  \\\n",
       "119162     apartment  Villa Urquiza  Capital Federal         108900.0   \n",
       "114484     apartment          Nuñez  Capital Federal         165000.0   \n",
       "114286     apartment       Belgrano  Capital Federal         165000.0   \n",
       "\n",
       "        surface_total_in_m2  surface_covered_in_m2  apartment  house  store  \\\n",
       "119162            41.000000                   37.0          1      0      0   \n",
       "114484            60.000000                   45.0          1      0      0   \n",
       "114286           105.431797                   60.0          1      0      0   \n",
       "\n",
       "        amb_2.0  amb_3.0  amb_4.0  amb_5.0  amb_Mayor a 5  amb_No Informado  \n",
       "119162        0        0        0        0              0                 1  \n",
       "114484        1        0        0        0              0                 0  \n",
       "114286        0        1        0        0              0                 0  "
      ]
     },
     "execution_count": 12,
     "metadata": {},
     "output_type": "execute_result"
    }
   ],
   "source": [
    "# Cambiamos el nombre de los Barrios por 'Otros Barrios' para aquellos Barrios encontradas en el paso anterior \n",
    "data['place_name'][data['place_name'].isin(pocas_prop)] = 'Otros Barrios'\n",
    "data.sample(3)"
   ]
  },
  {
   "cell_type": "code",
   "execution_count": 13,
   "metadata": {},
   "outputs": [
    {
     "data": {
      "text/html": [
       "<div>\n",
       "<style scoped>\n",
       "    .dataframe tbody tr th:only-of-type {\n",
       "        vertical-align: middle;\n",
       "    }\n",
       "\n",
       "    .dataframe tbody tr th {\n",
       "        vertical-align: top;\n",
       "    }\n",
       "\n",
       "    .dataframe thead th {\n",
       "        text-align: right;\n",
       "    }\n",
       "</style>\n",
       "<table border=\"1\" class=\"dataframe\">\n",
       "  <thead>\n",
       "    <tr style=\"text-align: right;\">\n",
       "      <th>place_name</th>\n",
       "      <th>Almagro</th>\n",
       "      <th>Balvanera</th>\n",
       "      <th>Barrio Norte</th>\n",
       "      <th>Belgrano</th>\n",
       "      <th>Boedo</th>\n",
       "      <th>Caballito</th>\n",
       "      <th>Capital Federal</th>\n",
       "      <th>Flores</th>\n",
       "      <th>Monserrat</th>\n",
       "      <th>Nuñez</th>\n",
       "      <th>Otros Barrios</th>\n",
       "      <th>Palermo</th>\n",
       "      <th>Puerto Madero</th>\n",
       "      <th>Recoleta</th>\n",
       "      <th>Saavedra</th>\n",
       "      <th>San Telmo</th>\n",
       "      <th>Villa Crespo</th>\n",
       "      <th>Villa Urquiza</th>\n",
       "    </tr>\n",
       "    <tr>\n",
       "      <th>property_type</th>\n",
       "      <th></th>\n",
       "      <th></th>\n",
       "      <th></th>\n",
       "      <th></th>\n",
       "      <th></th>\n",
       "      <th></th>\n",
       "      <th></th>\n",
       "      <th></th>\n",
       "      <th></th>\n",
       "      <th></th>\n",
       "      <th></th>\n",
       "      <th></th>\n",
       "      <th></th>\n",
       "      <th></th>\n",
       "      <th></th>\n",
       "      <th></th>\n",
       "      <th></th>\n",
       "      <th></th>\n",
       "    </tr>\n",
       "  </thead>\n",
       "  <tbody>\n",
       "    <tr>\n",
       "      <th>PH</th>\n",
       "      <td>63</td>\n",
       "      <td>34</td>\n",
       "      <td>12</td>\n",
       "      <td>43</td>\n",
       "      <td>31</td>\n",
       "      <td>72</td>\n",
       "      <td>39</td>\n",
       "      <td>95</td>\n",
       "      <td>16</td>\n",
       "      <td>28</td>\n",
       "      <td>953</td>\n",
       "      <td>102</td>\n",
       "      <td>0</td>\n",
       "      <td>10</td>\n",
       "      <td>44</td>\n",
       "      <td>27</td>\n",
       "      <td>83</td>\n",
       "      <td>85</td>\n",
       "    </tr>\n",
       "    <tr>\n",
       "      <th>apartment</th>\n",
       "      <td>847</td>\n",
       "      <td>547</td>\n",
       "      <td>935</td>\n",
       "      <td>2325</td>\n",
       "      <td>720</td>\n",
       "      <td>1866</td>\n",
       "      <td>408</td>\n",
       "      <td>1016</td>\n",
       "      <td>434</td>\n",
       "      <td>613</td>\n",
       "      <td>6127</td>\n",
       "      <td>2222</td>\n",
       "      <td>550</td>\n",
       "      <td>1313</td>\n",
       "      <td>409</td>\n",
       "      <td>1063</td>\n",
       "      <td>993</td>\n",
       "      <td>1187</td>\n",
       "    </tr>\n",
       "    <tr>\n",
       "      <th>house</th>\n",
       "      <td>29</td>\n",
       "      <td>5</td>\n",
       "      <td>7</td>\n",
       "      <td>99</td>\n",
       "      <td>38</td>\n",
       "      <td>61</td>\n",
       "      <td>420</td>\n",
       "      <td>86</td>\n",
       "      <td>4</td>\n",
       "      <td>39</td>\n",
       "      <td>805</td>\n",
       "      <td>60</td>\n",
       "      <td>4</td>\n",
       "      <td>3</td>\n",
       "      <td>42</td>\n",
       "      <td>11</td>\n",
       "      <td>30</td>\n",
       "      <td>59</td>\n",
       "    </tr>\n",
       "    <tr>\n",
       "      <th>store</th>\n",
       "      <td>32</td>\n",
       "      <td>32</td>\n",
       "      <td>48</td>\n",
       "      <td>49</td>\n",
       "      <td>21</td>\n",
       "      <td>32</td>\n",
       "      <td>65</td>\n",
       "      <td>54</td>\n",
       "      <td>52</td>\n",
       "      <td>22</td>\n",
       "      <td>387</td>\n",
       "      <td>89</td>\n",
       "      <td>9</td>\n",
       "      <td>77</td>\n",
       "      <td>9</td>\n",
       "      <td>48</td>\n",
       "      <td>75</td>\n",
       "      <td>19</td>\n",
       "    </tr>\n",
       "  </tbody>\n",
       "</table>\n",
       "</div>"
      ],
      "text/plain": [
       "place_name     Almagro  Balvanera  Barrio Norte  Belgrano  Boedo  Caballito  \\\n",
       "property_type                                                                 \n",
       "PH                  63         34            12        43     31         72   \n",
       "apartment          847        547           935      2325    720       1866   \n",
       "house               29          5             7        99     38         61   \n",
       "store               32         32            48        49     21         32   \n",
       "\n",
       "place_name     Capital Federal  Flores  Monserrat  Nuñez  Otros Barrios  \\\n",
       "property_type                                                             \n",
       "PH                          39      95         16     28            953   \n",
       "apartment                  408    1016        434    613           6127   \n",
       "house                      420      86          4     39            805   \n",
       "store                       65      54         52     22            387   \n",
       "\n",
       "place_name     Palermo  Puerto Madero  Recoleta  Saavedra  San Telmo  \\\n",
       "property_type                                                          \n",
       "PH                 102              0        10        44         27   \n",
       "apartment         2222            550      1313       409       1063   \n",
       "house               60              4         3        42         11   \n",
       "store               89              9        77         9         48   \n",
       "\n",
       "place_name     Villa Crespo  Villa Urquiza  \n",
       "property_type                               \n",
       "PH                       83             85  \n",
       "apartment               993           1187  \n",
       "house                    30             59  \n",
       "store                    75             19  "
      ]
     },
     "execution_count": 13,
     "metadata": {},
     "output_type": "execute_result"
    }
   ],
   "source": [
    "# Previo a la eliminación de la columna place_name agrupamos las propiedades para conocer tendencias \n",
    "data.groupby(['property_type','place_name']).size().unstack(fill_value=0)"
   ]
  },
  {
   "cell_type": "code",
   "execution_count": 14,
   "metadata": {},
   "outputs": [],
   "source": [
    "# Generación de variables Dummies para state_name\n",
    "\n",
    "place_name_dummies = pd.get_dummies(data['place_name'])\n",
    "\n",
    "# Para incorporar nuevas columnas dummies al DataFrame\n",
    "propiedades = data.join([place_name_dummies])"
   ]
  },
  {
   "cell_type": "code",
   "execution_count": 15,
   "metadata": {},
   "outputs": [
    {
     "data": {
      "text/plain": [
       "(19962, 31)"
      ]
     },
     "execution_count": 15,
     "metadata": {},
     "output_type": "execute_result"
    }
   ],
   "source": [
    "# Eliminamos la columna dummy Otros Barrios para evitar multicolinealidad en el DataFrame y además la columna state_name\n",
    "propiedades.drop(['Otros Barrios', 'state_name'], axis = 1, inplace=True)\n",
    "\n",
    "# Para eliminar filas que contengan Otros Barrios\n",
    "propiedades = propiedades[propiedades['place_name'] != 'Otros Barrios']\n",
    "propiedades.shape"
   ]
  },
  {
   "cell_type": "code",
   "execution_count": null,
   "metadata": {},
   "outputs": [],
   "source": [
    "msno.bar(propiedades)"
   ]
  },
  {
   "cell_type": "code",
   "execution_count": null,
   "metadata": {},
   "outputs": [],
   "source": [
    "# Generamos algunas gráficas para ver distribución de los datos \n",
    "sns.boxplot(data=propiedades[[\"price_aprox_usd\"]], orient=\"v\")"
   ]
  },
  {
   "cell_type": "code",
   "execution_count": null,
   "metadata": {},
   "outputs": [],
   "source": [
    "sns.boxplot(data=propiedades[['surface_total_in_m2']], orient=\"v\")"
   ]
  },
  {
   "cell_type": "code",
   "execution_count": null,
   "metadata": {},
   "outputs": [],
   "source": [
    "sns.boxplot(data=propiedades[['surface_covered_in_m2']], orient=\"v\")"
   ]
  },
  {
   "cell_type": "code",
   "execution_count": null,
   "metadata": {},
   "outputs": [],
   "source": [
    "# Estudiamos la existencia de correlación lineal entre la superficie (cubierta y total) con precio aproximado en USD de la propiedad\n",
    "\n",
    "plt.figure(figsize=(20,10))\n",
    "tipo_propiedad = sns.scatterplot(x='surface_total_in_m2', y=\"price_aprox_usd\",  data=propiedades, hue='property_type')\n",
    "tipo_propiedad.set(xlim = (0,6000))\n",
    "# tipo_propiedad.set(ylim = (0, 500000))"
   ]
  },
  {
   "cell_type": "code",
   "execution_count": null,
   "metadata": {},
   "outputs": [],
   "source": [
    "# Estudiamos la existencia de correlación lineal entre la superficie (cubierta y total) con precio aproximado en USD de la propiedad\n",
    "\n",
    "plt.figure(figsize=(20,10))\n",
    "tipo_propiedad = sns.scatterplot(x='surface_covered_in_m2', y=\"price_aprox_usd\",  data=propiedades, hue='property_type')\n",
    "tipo_propiedad.set(xlim = (0,6000))\n",
    "# tipo_propiedad.set(ylim = (0, 500000))"
   ]
  },
  {
   "cell_type": "markdown",
   "metadata": {},
   "source": [
    "En la gráfica se evidencia cierta correlación lineal positiva entre superficie (total y cubierta) y precio de la propiedad, independientemente del tipo de propiedad. Con mayores pendientes para los tipos de propiedades apartment y store en comparación con house y PH. "
   ]
  },
  {
   "cell_type": "code",
   "execution_count": null,
   "metadata": {},
   "outputs": [],
   "source": [
    "# Para garantizar que no existen valores nulos en el DataFrame\n",
    "propiedades.isnull().sum()"
   ]
  },
  {
   "cell_type": "markdown",
   "metadata": {},
   "source": [
    "## 6. MODELO OLS - MÍNIMO CUADRADOS"
   ]
  },
  {
   "cell_type": "markdown",
   "metadata": {},
   "source": [
    "## 6.1. Considerando todos los tipos de propiedades - 1era Aproximación."
   ]
  },
  {
   "cell_type": "markdown",
   "metadata": {},
   "source": [
    "Buscando diferentes aproximaciones a la solución que resuelva la relación entre precio de las propiedades y el grupo de features, en primer lugar consideramos todos los tipos de propiedades (house, apartment, PH, store).\n",
    "\n",
    "Antes de ejecutar los números tenemos que definir una hipótesis nula y una hipótesis alternativa:\n",
    "\n",
    "Hipótesis nula (H0): No existe asociación entre el tipo de propiedad y el valor aproximado de la propiedad en USD(considerando los factores de confusión elegidos);\n",
    "\n",
    "Hipótesis Alternativa (H1): Existe asociación entre el tipo de propiedad y el valor aproximado de la propiedad en USD.\n"
   ]
  },
  {
   "cell_type": "code",
   "execution_count": 16,
   "metadata": {},
   "outputs": [
    {
     "data": {
      "text/plain": [
       "(19962, 31)"
      ]
     },
     "execution_count": 16,
     "metadata": {},
     "output_type": "execute_result"
    }
   ],
   "source": [
    "# Creando copia del DataFrame original \n",
    "prop_prueba = propiedades.copy()\n",
    "prop_prueba.shape"
   ]
  },
  {
   "cell_type": "code",
   "execution_count": 17,
   "metadata": {},
   "outputs": [],
   "source": [
    "# Para considerar las variables predictoras\n",
    "feature_cols = [x for x in propiedades.columns if ((x != 'property_type') & (x != 'price_aprox_usd') & (x != 'place_name'))]"
   ]
  },
  {
   "cell_type": "code",
   "execution_count": 18,
   "metadata": {},
   "outputs": [],
   "source": [
    "# División de los datos en train y test\n",
    "# ==============================================================================\n",
    "X = prop_prueba[feature_cols]\n",
    "y = prop_prueba['price_aprox_usd']\n",
    "\n",
    "\n",
    "X_train, X_test, y_train, y_test = train_test_split(\n",
    "                                        X,\n",
    "                                        y,\n",
    "                                        train_size   = 0.8,\n",
    "                                        random_state = 123,\n",
    "                                     )   "
   ]
  },
  {
   "cell_type": "markdown",
   "metadata": {},
   "source": [
    "Como 1er ejercicio vamos a considerar como features solo las columnas relacionadas con superficie (cubierta y total). "
   ]
  },
  {
   "cell_type": "code",
   "execution_count": 19,
   "metadata": {},
   "outputs": [
    {
     "name": "stdout",
     "output_type": "stream",
     "text": [
      "                            OLS Regression Results                            \n",
      "==============================================================================\n",
      "Dep. Variable:        price_aprox_usd   R-squared:                       0.255\n",
      "Model:                            OLS   Adj. R-squared:                  0.255\n",
      "Method:                 Least Squares   F-statistic:                     2729.\n",
      "Date:                Sat, 03 Dec 2022   Prob (F-statistic):               0.00\n",
      "Time:                        08:12:17   Log-Likelihood:            -2.2475e+05\n",
      "No. Observations:               15969   AIC:                         4.495e+05\n",
      "Df Residuals:                   15966   BIC:                         4.495e+05\n",
      "Df Model:                           2                                         \n",
      "Covariance Type:            nonrobust                                         \n",
      "=========================================================================================\n",
      "                            coef    std err          t      P>|t|      [0.025      0.975]\n",
      "-----------------------------------------------------------------------------------------\n",
      "const                  1.718e+05   2895.946     59.337      0.000    1.66e+05    1.78e+05\n",
      "surface_total_in_m2    -325.7753     23.649    -13.775      0.000    -372.131    -279.420\n",
      "surface_covered_in_m2  1685.1475     40.944     41.158      0.000    1604.893    1765.402\n",
      "==============================================================================\n",
      "Omnibus:                    13273.073   Durbin-Watson:                   2.002\n",
      "Prob(Omnibus):                  0.000   Jarque-Bera (JB):          8964723.992\n",
      "Skew:                           2.848   Prob(JB):                         0.00\n",
      "Kurtosis:                     118.934   Cond. No.                         397.\n",
      "==============================================================================\n",
      "\n",
      "Notes:\n",
      "[1] Standard Errors assume that the covariance matrix of the errors is correctly specified.\n"
     ]
    }
   ],
   "source": [
    "# Para armar el modelo basados en OLS (Ordinary Least Squares) - Mínimos cuadrados\n",
    "X = X_train[['surface_total_in_m2',\n",
    " 'surface_covered_in_m2']]\n",
    "y = y_train\n",
    "\n",
    "# Será agregada explícitamente una constante:\n",
    "X = sm.add_constant(X)\n",
    "\n",
    "model = sm.OLS(y, X).fit()\n",
    "print (model.summary())"
   ]
  },
  {
   "cell_type": "markdown",
   "metadata": {},
   "source": [
    "El bajo R2 obtenido (<30%) indica que ambas features por si sólo no son suficientes para explicar la variablidad de la mayoría de los resultados en el conjunto de datos de test. \n",
    "\n",
    "Por ello, vamos a considerar todas las features en los sucesivos modelos a probar. "
   ]
  },
  {
   "cell_type": "code",
   "execution_count": 20,
   "metadata": {},
   "outputs": [
    {
     "name": "stdout",
     "output_type": "stream",
     "text": [
      "                            OLS Regression Results                            \n",
      "==============================================================================\n",
      "Dep. Variable:        price_aprox_usd   R-squared:                       0.424\n",
      "Model:                            OLS   Adj. R-squared:                  0.423\n",
      "Method:                 Least Squares   F-statistic:                     434.7\n",
      "Date:                Sat, 03 Dec 2022   Prob (F-statistic):               0.00\n",
      "Time:                        08:12:21   Log-Likelihood:            -2.2270e+05\n",
      "No. Observations:               15969   AIC:                         4.454e+05\n",
      "Df Residuals:                   15941   BIC:                         4.457e+05\n",
      "Df Model:                          27                                         \n",
      "Covariance Type:            nonrobust                                         \n",
      "=========================================================================================\n",
      "                            coef    std err          t      P>|t|      [0.025      0.975]\n",
      "-----------------------------------------------------------------------------------------\n",
      "const                  6.175e+04   1.24e+04      4.973      0.000    3.74e+04    8.61e+04\n",
      "surface_total_in_m2    -280.6221     23.220    -12.085      0.000    -326.137    -235.108\n",
      "surface_covered_in_m2  1355.0355     39.252     34.522      0.000    1278.098    1431.973\n",
      "apartment              7.423e+04   1.15e+04      6.456      0.000    5.17e+04    9.68e+04\n",
      "house                  2.149e+05   1.58e+04     13.607      0.000    1.84e+05    2.46e+05\n",
      "store                  2.001e+05   1.64e+04     12.181      0.000    1.68e+05    2.32e+05\n",
      "amb_2.0                 -2.9e+04   9264.558     -3.130      0.002   -4.72e+04   -1.08e+04\n",
      "amb_3.0                3.598e+04   9356.169      3.846      0.000    1.76e+04    5.43e+04\n",
      "amb_4.0                1.391e+05   1.01e+04     13.747      0.000    1.19e+05    1.59e+05\n",
      "amb_5.0                3.006e+05   1.41e+04     21.380      0.000    2.73e+05    3.28e+05\n",
      "amb_Mayor a 5           4.42e+05    1.8e+04     24.597      0.000    4.07e+05    4.77e+05\n",
      "amb_No Informado       5.067e+04   7340.053      6.904      0.000    3.63e+04    6.51e+04\n",
      "Almagro               -9.471e+04   9697.564     -9.766      0.000   -1.14e+05   -7.57e+04\n",
      "Balvanera             -1.325e+05   1.19e+04    -11.115      0.000   -1.56e+05   -1.09e+05\n",
      "Barrio Norte           1247.6494   9595.410      0.130      0.897   -1.76e+04    2.01e+04\n",
      "Belgrano               3.487e+04   6376.384      5.469      0.000    2.24e+04    4.74e+04\n",
      "Boedo                  9.829e+04    1.1e+04      8.973      0.000    7.68e+04     1.2e+05\n",
      "Caballito             -7.767e+04   6933.130    -11.203      0.000   -9.13e+04   -6.41e+04\n",
      "Capital Federal        3.153e+04   1.15e+04      2.744      0.006    9005.072     5.4e+04\n",
      "Flores                -1.093e+05   8580.245    -12.742      0.000   -1.26e+05   -9.25e+04\n",
      "Monserrat               -1.2e+05   1.35e+04     -8.900      0.000   -1.46e+05   -9.36e+04\n",
      "Nuñez                  1.108e+05   1.11e+04      9.981      0.000     8.9e+04    1.33e+05\n",
      "Palermo                4.827e+04   6415.835      7.523      0.000    3.57e+04    6.08e+04\n",
      "Puerto Madero          5.615e+05   1.28e+04     43.748      0.000    5.36e+05    5.87e+05\n",
      "Recoleta               5.113e+04   8514.671      6.005      0.000    3.44e+04    6.78e+04\n",
      "Saavedra              -7.489e+04   1.31e+04     -5.734      0.000      -1e+05   -4.93e+04\n",
      "San Telmo             -1.105e+05   8948.423    -12.347      0.000   -1.28e+05   -9.29e+04\n",
      "Villa Crespo          -8.229e+04   8784.746     -9.367      0.000   -9.95e+04   -6.51e+04\n",
      "Villa Urquiza         -7.396e+04   8311.930     -8.898      0.000   -9.03e+04   -5.77e+04\n",
      "==============================================================================\n",
      "Omnibus:                    16832.618   Durbin-Watson:                   1.998\n",
      "Prob(Omnibus):                  0.000   Jarque-Bera (JB):          9586773.797\n",
      "Skew:                           4.531   Prob(JB):                         0.00\n",
      "Kurtosis:                     122.691   Cond. No.                     1.26e+17\n",
      "==============================================================================\n",
      "\n",
      "Notes:\n",
      "[1] Standard Errors assume that the covariance matrix of the errors is correctly specified.\n",
      "[2] The smallest eigenvalue is 1.16e-25. This might indicate that there are\n",
      "strong multicollinearity problems or that the design matrix is singular.\n"
     ]
    }
   ],
   "source": [
    "# Para armar el modelo basados en OLS (Ordinary Least Squares) - Mínimos cuadrados\n",
    "X = X_train[feature_cols]\n",
    "y = y_train\n",
    "\n",
    "# Será agregada explícitamente una constante:\n",
    "X = sm.add_constant(X)\n",
    "\n",
    "model = sm.OLS(y, X).fit()\n",
    "print (model.summary())"
   ]
  },
  {
   "cell_type": "markdown",
   "metadata": {},
   "source": [
    "A partir del análisis de la tabla resumen, se extrae lo siguiente: \n",
    "* El modelo logra explicar el 42% de la variabilidad de los resultados, según el R2 ajustado. \n",
    "\n",
    "* Considerando el Intervalo de Confianza (IC) del 95% obtenido para la feature Capital Federal con p-value < 0.05 y que incluye el 0 dentro de dicho intervalo, sugiriendo que la asociación no es estadísticamente significativa, por lo que no se puede rechazar la hipótesis nula de no asociación. Respecto a la variable surface_covered_in_m2 parecería ser la feature con mayor influencia con un alto valor de coeficiente respecto a surface_covered_in_m2, p-valur menor a 0.05, coeficiente cercano a 1500 e IC entre 1278.098 y 1431.973. "
   ]
  },
  {
   "cell_type": "code",
   "execution_count": 21,
   "metadata": {},
   "outputs": [
    {
     "name": "stdout",
     "output_type": "stream",
     "text": [
      "                            OLS Regression Results                            \n",
      "==============================================================================\n",
      "Dep. Variable:        price_aprox_usd   R-squared:                       0.424\n",
      "Model:                            OLS   Adj. R-squared:                  0.423\n",
      "Method:                 Least Squares   F-statistic:                     434.7\n",
      "Date:                Sat, 03 Dec 2022   Prob (F-statistic):               0.00\n",
      "Time:                        08:12:26   Log-Likelihood:            -2.2270e+05\n",
      "No. Observations:               15969   AIC:                         4.454e+05\n",
      "Df Residuals:                   15941   BIC:                         4.457e+05\n",
      "Df Model:                          27                                         \n",
      "Covariance Type:            nonrobust                                         \n",
      "=========================================================================================\n",
      "                            coef    std err          t      P>|t|      [0.025      0.975]\n",
      "-----------------------------------------------------------------------------------------\n",
      "const                  9.328e+04   1.76e+04      5.301      0.000    5.88e+04    1.28e+05\n",
      "surface_total_in_m2    -280.6221     23.220    -12.085      0.000    -326.137    -235.108\n",
      "surface_covered_in_m2  1355.0355     39.252     34.522      0.000    1278.098    1431.973\n",
      "apartment              7.423e+04   1.15e+04      6.456      0.000    5.17e+04    9.68e+04\n",
      "house                  2.149e+05   1.58e+04     13.607      0.000    1.84e+05    2.46e+05\n",
      "store                  2.001e+05   1.64e+04     12.181      0.000    1.68e+05    2.32e+05\n",
      "amb_2.0                 -2.9e+04   9264.558     -3.130      0.002   -4.72e+04   -1.08e+04\n",
      "amb_3.0                3.598e+04   9356.169      3.846      0.000    1.76e+04    5.43e+04\n",
      "amb_4.0                1.391e+05   1.01e+04     13.747      0.000    1.19e+05    1.59e+05\n",
      "amb_5.0                3.006e+05   1.41e+04     21.380      0.000    2.73e+05    3.28e+05\n",
      "amb_Mayor a 5           4.42e+05    1.8e+04     24.597      0.000    4.07e+05    4.77e+05\n",
      "amb_No Informado       5.067e+04   7340.053      6.904      0.000    3.63e+04    6.51e+04\n",
      "Almagro               -1.262e+05   1.56e+04     -8.096      0.000   -1.57e+05   -9.57e+04\n",
      "Balvanera              -1.64e+05   1.73e+04     -9.504      0.000   -1.98e+05    -1.3e+05\n",
      "Barrio Norte          -3.028e+04   1.56e+04     -1.943      0.052   -6.08e+04     260.712\n",
      "Belgrano               3348.2286   1.33e+04      0.251      0.802   -2.28e+04    2.95e+04\n",
      "Boedo                  6.677e+04   1.66e+04      4.020      0.000    3.42e+04    9.93e+04\n",
      "Caballito             -1.092e+05   1.37e+04     -7.963      0.000   -1.36e+05   -8.23e+04\n",
      "Flores                -1.409e+05   1.46e+04     -9.653      0.000   -1.69e+05   -1.12e+05\n",
      "Monserrat             -1.516e+05   1.85e+04     -8.203      0.000   -1.88e+05   -1.15e+05\n",
      "Nuñez                  7.927e+04   1.64e+04      4.837      0.000    4.71e+04    1.11e+05\n",
      "Palermo                1.674e+04   1.34e+04      1.249      0.212   -9532.594     4.3e+04\n",
      "Puerto Madero          5.299e+05    1.8e+04     29.422      0.000    4.95e+05    5.65e+05\n",
      "Recoleta               1.961e+04   1.49e+04      1.315      0.188   -9608.581    4.88e+04\n",
      "Saavedra              -1.064e+05   1.78e+04     -5.970      0.000   -1.41e+05   -7.15e+04\n",
      "San Telmo              -1.42e+05    1.5e+04     -9.474      0.000   -1.71e+05   -1.13e+05\n",
      "Villa Crespo          -1.138e+05   1.48e+04     -7.680      0.000   -1.43e+05   -8.48e+04\n",
      "Villa Urquiza         -1.055e+05   1.44e+04     -7.326      0.000   -1.34e+05   -7.73e+04\n",
      "==============================================================================\n",
      "Omnibus:                    16832.618   Durbin-Watson:                   1.998\n",
      "Prob(Omnibus):                  0.000   Jarque-Bera (JB):          9586773.797\n",
      "Skew:                           4.531   Prob(JB):                         0.00\n",
      "Kurtosis:                     122.691   Cond. No.                     7.85e+03\n",
      "==============================================================================\n",
      "\n",
      "Notes:\n",
      "[1] Standard Errors assume that the covariance matrix of the errors is correctly specified.\n",
      "[2] The condition number is large, 7.85e+03. This might indicate that there are\n",
      "strong multicollinearity or other numerical problems.\n"
     ]
    }
   ],
   "source": [
    "# Considerando los valores obtenidos para p-values e IC con 95% de confianza, será eliminada la feature Capital Federal \n",
    "X_train.drop(['Capital Federal'], axis = 1, inplace =True)\n",
    "feature_cols = [x for x in X_train.columns if ((x != 'property_type') & (x != 'price_aprox_usd') & (x != 'place_name'))]\n",
    "\n",
    "\n",
    "# Para armar el modelo basados en OLS (Ordinary Least Squares) - Mínimos cuadrados\n",
    "X = X_train[feature_cols]\n",
    "y = y_train\n",
    "\n",
    "# Será agregada explícitamente una constante:\n",
    "X = sm.add_constant(X)\n",
    "\n",
    "model = sm.OLS(y, X).fit()\n",
    "print (model.summary())"
   ]
  },
  {
   "cell_type": "markdown",
   "metadata": {},
   "source": [
    "Al eliminar la feature Capital Federal no se observa mejoría del R2 para el modelo. En esta 1era aproximación, sin discriminar por tipo de propiedad, el modelo logra explicar solo en un 42% la variabilidad de los resultados. \n",
    "\n",
    "Por ello, en una 2da aproximación y en búsqueda de mejorar el modelo serán realizadas otras aproximaciones, por ejemplo: considerar el tipo de propiedad."
   ]
  },
  {
   "cell_type": "markdown",
   "metadata": {},
   "source": [
    "## 6.2. Discriminando por tipo de propiedad"
   ]
  },
  {
   "cell_type": "code",
   "execution_count": 22,
   "metadata": {},
   "outputs": [
    {
     "data": {
      "text/plain": [
       "(19962, 31)"
      ]
     },
     "execution_count": 22,
     "metadata": {},
     "output_type": "execute_result"
    }
   ],
   "source": [
    "# Creando copia del DataFrame original \n",
    "prop_prueba = propiedades.copy()\n",
    "prop_prueba.shape"
   ]
  },
  {
   "cell_type": "markdown",
   "metadata": {},
   "source": [
    "# 6.2.1. Modelo para Tipo de Propiedad PH"
   ]
  },
  {
   "cell_type": "code",
   "execution_count": 23,
   "metadata": {},
   "outputs": [
    {
     "data": {
      "text/html": [
       "<table class=\"simpletable\">\n",
       "<caption>OLS Regression Results</caption>\n",
       "<tr>\n",
       "  <th>Dep. Variable:</th>     <td>price_aprox_usd</td> <th>  R-squared:         </th> <td>   0.718</td> \n",
       "</tr>\n",
       "<tr>\n",
       "  <th>Model:</th>                   <td>OLS</td>       <th>  Adj. R-squared:    </th> <td>   0.707</td> \n",
       "</tr>\n",
       "<tr>\n",
       "  <th>Method:</th>             <td>Least Squares</td>  <th>  F-statistic:       </th> <td>   66.72</td> \n",
       "</tr>\n",
       "<tr>\n",
       "  <th>Date:</th>             <td>Sat, 03 Dec 2022</td> <th>  Prob (F-statistic):</th> <td>6.84e-149</td>\n",
       "</tr>\n",
       "<tr>\n",
       "  <th>Time:</th>                 <td>08:12:41</td>     <th>  Log-Likelihood:    </th> <td> -7859.9</td> \n",
       "</tr>\n",
       "<tr>\n",
       "  <th>No. Observations:</th>      <td>   627</td>      <th>  AIC:               </th> <td>1.577e+04</td>\n",
       "</tr>\n",
       "<tr>\n",
       "  <th>Df Residuals:</th>          <td>   603</td>      <th>  BIC:               </th> <td>1.587e+04</td>\n",
       "</tr>\n",
       "<tr>\n",
       "  <th>Df Model:</th>              <td>    23</td>      <th>                     </th>     <td> </td>    \n",
       "</tr>\n",
       "<tr>\n",
       "  <th>Covariance Type:</th>      <td>nonrobust</td>    <th>                     </th>     <td> </td>    \n",
       "</tr>\n",
       "</table>\n",
       "<table class=\"simpletable\">\n",
       "<tr>\n",
       "            <td></td>               <th>coef</th>     <th>std err</th>      <th>t</th>      <th>P>|t|</th>  <th>[0.025</th>    <th>0.975]</th>  \n",
       "</tr>\n",
       "<tr>\n",
       "  <th>const</th>                 <td> 5.941e+04</td> <td> 1.95e+04</td> <td>    3.040</td> <td> 0.002</td> <td>  2.1e+04</td> <td> 9.78e+04</td>\n",
       "</tr>\n",
       "<tr>\n",
       "  <th>surface_total_in_m2</th>   <td>  415.7442</td> <td>   67.263</td> <td>    6.181</td> <td> 0.000</td> <td>  283.645</td> <td>  547.843</td>\n",
       "</tr>\n",
       "<tr>\n",
       "  <th>surface_covered_in_m2</th> <td>  554.0399</td> <td>   88.797</td> <td>    6.239</td> <td> 0.000</td> <td>  379.652</td> <td>  728.428</td>\n",
       "</tr>\n",
       "<tr>\n",
       "  <th>apartment</th>             <td>-1.247e-11</td> <td> 2.13e-11</td> <td>   -0.585</td> <td> 0.559</td> <td>-5.44e-11</td> <td> 2.94e-11</td>\n",
       "</tr>\n",
       "<tr>\n",
       "  <th>house</th>                 <td> 6.744e-11</td> <td> 3.06e-11</td> <td>    2.205</td> <td> 0.028</td> <td> 7.36e-12</td> <td> 1.28e-10</td>\n",
       "</tr>\n",
       "<tr>\n",
       "  <th>store</th>                 <td>-6.099e-11</td> <td> 9.02e-12</td> <td>   -6.761</td> <td> 0.000</td> <td>-7.87e-11</td> <td>-4.33e-11</td>\n",
       "</tr>\n",
       "<tr>\n",
       "  <th>amb_2.0</th>               <td>-2321.3990</td> <td> 2.31e+04</td> <td>   -0.101</td> <td> 0.920</td> <td>-4.76e+04</td> <td>  4.3e+04</td>\n",
       "</tr>\n",
       "<tr>\n",
       "  <th>amb_3.0</th>               <td> 2.139e+04</td> <td> 2.19e+04</td> <td>    0.976</td> <td> 0.329</td> <td>-2.17e+04</td> <td> 6.44e+04</td>\n",
       "</tr>\n",
       "<tr>\n",
       "  <th>amb_4.0</th>               <td> 5.866e+04</td> <td> 2.21e+04</td> <td>    2.655</td> <td> 0.008</td> <td> 1.53e+04</td> <td> 1.02e+05</td>\n",
       "</tr>\n",
       "<tr>\n",
       "  <th>amb_5.0</th>               <td> 8.222e+04</td> <td> 2.29e+04</td> <td>    3.588</td> <td> 0.000</td> <td> 3.72e+04</td> <td> 1.27e+05</td>\n",
       "</tr>\n",
       "<tr>\n",
       "  <th>amb_Mayor a 5</th>         <td> 8.895e+04</td> <td> 2.52e+04</td> <td>    3.525</td> <td> 0.000</td> <td> 3.94e+04</td> <td> 1.39e+05</td>\n",
       "</tr>\n",
       "<tr>\n",
       "  <th>amb_No Informado</th>      <td> 3.877e+04</td> <td> 2.19e+04</td> <td>    1.774</td> <td> 0.077</td> <td>-4155.047</td> <td> 8.17e+04</td>\n",
       "</tr>\n",
       "<tr>\n",
       "  <th>Almagro</th>               <td>-1.316e+04</td> <td> 9604.817</td> <td>   -1.370</td> <td> 0.171</td> <td> -3.2e+04</td> <td> 5705.218</td>\n",
       "</tr>\n",
       "<tr>\n",
       "  <th>Balvanera</th>             <td>-5.307e+04</td> <td> 1.32e+04</td> <td>   -4.021</td> <td> 0.000</td> <td> -7.9e+04</td> <td>-2.72e+04</td>\n",
       "</tr>\n",
       "<tr>\n",
       "  <th>Barrio Norte</th>          <td> 3.648e+04</td> <td> 2.08e+04</td> <td>    1.755</td> <td> 0.080</td> <td>-4337.132</td> <td> 7.73e+04</td>\n",
       "</tr>\n",
       "<tr>\n",
       "  <th>Belgrano</th>              <td> 8.472e+04</td> <td> 1.11e+04</td> <td>    7.608</td> <td> 0.000</td> <td> 6.29e+04</td> <td> 1.07e+05</td>\n",
       "</tr>\n",
       "<tr>\n",
       "  <th>Boedo</th>                 <td>-3.888e+04</td> <td> 1.35e+04</td> <td>   -2.890</td> <td> 0.004</td> <td>-6.53e+04</td> <td>-1.25e+04</td>\n",
       "</tr>\n",
       "<tr>\n",
       "  <th>Caballito</th>             <td> -523.9281</td> <td> 9360.770</td> <td>   -0.056</td> <td> 0.955</td> <td>-1.89e+04</td> <td> 1.79e+04</td>\n",
       "</tr>\n",
       "<tr>\n",
       "  <th>Capital Federal</th>       <td>-5.543e+04</td> <td> 1.26e+04</td> <td>   -4.408</td> <td> 0.000</td> <td>-8.01e+04</td> <td>-3.07e+04</td>\n",
       "</tr>\n",
       "<tr>\n",
       "  <th>Flores</th>                <td>-4.999e+04</td> <td> 8769.839</td> <td>   -5.700</td> <td> 0.000</td> <td>-6.72e+04</td> <td>-3.28e+04</td>\n",
       "</tr>\n",
       "<tr>\n",
       "  <th>Monserrat</th>             <td>-5.213e+04</td> <td> 2.02e+04</td> <td>   -2.586</td> <td> 0.010</td> <td>-9.17e+04</td> <td>-1.25e+04</td>\n",
       "</tr>\n",
       "<tr>\n",
       "  <th>Nuñez</th>                 <td> 6.846e+04</td> <td> 1.37e+04</td> <td>    4.980</td> <td> 0.000</td> <td> 4.15e+04</td> <td> 9.55e+04</td>\n",
       "</tr>\n",
       "<tr>\n",
       "  <th>Palermo</th>               <td> 7.404e+04</td> <td> 8069.270</td> <td>    9.175</td> <td> 0.000</td> <td> 5.82e+04</td> <td> 8.99e+04</td>\n",
       "</tr>\n",
       "<tr>\n",
       "  <th>Puerto Madero</th>         <td>-1.229e-12</td> <td> 2.48e-13</td> <td>   -4.948</td> <td> 0.000</td> <td>-1.72e-12</td> <td>-7.41e-13</td>\n",
       "</tr>\n",
       "<tr>\n",
       "  <th>Recoleta</th>              <td> 5.759e+04</td> <td> 2.21e+04</td> <td>    2.608</td> <td> 0.009</td> <td> 1.42e+04</td> <td> 1.01e+05</td>\n",
       "</tr>\n",
       "<tr>\n",
       "  <th>Saavedra</th>              <td> 1.355e+04</td> <td> 1.19e+04</td> <td>    1.137</td> <td> 0.256</td> <td>-9853.702</td> <td> 3.69e+04</td>\n",
       "</tr>\n",
       "<tr>\n",
       "  <th>San Telmo</th>             <td>-2.353e+04</td> <td> 1.42e+04</td> <td>   -1.659</td> <td> 0.098</td> <td>-5.14e+04</td> <td> 4331.305</td>\n",
       "</tr>\n",
       "<tr>\n",
       "  <th>Villa Crespo</th>          <td> 3266.6333</td> <td> 8795.880</td> <td>    0.371</td> <td> 0.710</td> <td> -1.4e+04</td> <td> 2.05e+04</td>\n",
       "</tr>\n",
       "<tr>\n",
       "  <th>Villa Urquiza</th>         <td> 8022.3396</td> <td> 8934.340</td> <td>    0.898</td> <td> 0.370</td> <td>-9523.863</td> <td> 2.56e+04</td>\n",
       "</tr>\n",
       "</table>\n",
       "<table class=\"simpletable\">\n",
       "<tr>\n",
       "  <th>Omnibus:</th>       <td>158.235</td> <th>  Durbin-Watson:     </th> <td>   2.105</td> \n",
       "</tr>\n",
       "<tr>\n",
       "  <th>Prob(Omnibus):</th> <td> 0.000</td>  <th>  Jarque-Bera (JB):  </th> <td> 665.884</td> \n",
       "</tr>\n",
       "<tr>\n",
       "  <th>Skew:</th>          <td> 1.090</td>  <th>  Prob(JB):          </th> <td>2.54e-145</td>\n",
       "</tr>\n",
       "<tr>\n",
       "  <th>Kurtosis:</th>      <td> 7.553</td>  <th>  Cond. No.          </th> <td>7.28e+17</td> \n",
       "</tr>\n",
       "</table><br/><br/>Notes:<br/>[1] Standard Errors assume that the covariance matrix of the errors is correctly specified.<br/>[2] The smallest eigenvalue is 5.45e-29. This might indicate that there are<br/>strong multicollinearity problems or that the design matrix is singular."
      ],
      "text/plain": [
       "<class 'statsmodels.iolib.summary.Summary'>\n",
       "\"\"\"\n",
       "                            OLS Regression Results                            \n",
       "==============================================================================\n",
       "Dep. Variable:        price_aprox_usd   R-squared:                       0.718\n",
       "Model:                            OLS   Adj. R-squared:                  0.707\n",
       "Method:                 Least Squares   F-statistic:                     66.72\n",
       "Date:                Sat, 03 Dec 2022   Prob (F-statistic):          6.84e-149\n",
       "Time:                        08:12:41   Log-Likelihood:                -7859.9\n",
       "No. Observations:                 627   AIC:                         1.577e+04\n",
       "Df Residuals:                     603   BIC:                         1.587e+04\n",
       "Df Model:                          23                                         \n",
       "Covariance Type:            nonrobust                                         \n",
       "=========================================================================================\n",
       "                            coef    std err          t      P>|t|      [0.025      0.975]\n",
       "-----------------------------------------------------------------------------------------\n",
       "const                  5.941e+04   1.95e+04      3.040      0.002     2.1e+04    9.78e+04\n",
       "surface_total_in_m2     415.7442     67.263      6.181      0.000     283.645     547.843\n",
       "surface_covered_in_m2   554.0399     88.797      6.239      0.000     379.652     728.428\n",
       "apartment             -1.247e-11   2.13e-11     -0.585      0.559   -5.44e-11    2.94e-11\n",
       "house                  6.744e-11   3.06e-11      2.205      0.028    7.36e-12    1.28e-10\n",
       "store                 -6.099e-11   9.02e-12     -6.761      0.000   -7.87e-11   -4.33e-11\n",
       "amb_2.0               -2321.3990   2.31e+04     -0.101      0.920   -4.76e+04     4.3e+04\n",
       "amb_3.0                2.139e+04   2.19e+04      0.976      0.329   -2.17e+04    6.44e+04\n",
       "amb_4.0                5.866e+04   2.21e+04      2.655      0.008    1.53e+04    1.02e+05\n",
       "amb_5.0                8.222e+04   2.29e+04      3.588      0.000    3.72e+04    1.27e+05\n",
       "amb_Mayor a 5          8.895e+04   2.52e+04      3.525      0.000    3.94e+04    1.39e+05\n",
       "amb_No Informado       3.877e+04   2.19e+04      1.774      0.077   -4155.047    8.17e+04\n",
       "Almagro               -1.316e+04   9604.817     -1.370      0.171    -3.2e+04    5705.218\n",
       "Balvanera             -5.307e+04   1.32e+04     -4.021      0.000    -7.9e+04   -2.72e+04\n",
       "Barrio Norte           3.648e+04   2.08e+04      1.755      0.080   -4337.132    7.73e+04\n",
       "Belgrano               8.472e+04   1.11e+04      7.608      0.000    6.29e+04    1.07e+05\n",
       "Boedo                 -3.888e+04   1.35e+04     -2.890      0.004   -6.53e+04   -1.25e+04\n",
       "Caballito              -523.9281   9360.770     -0.056      0.955   -1.89e+04    1.79e+04\n",
       "Capital Federal       -5.543e+04   1.26e+04     -4.408      0.000   -8.01e+04   -3.07e+04\n",
       "Flores                -4.999e+04   8769.839     -5.700      0.000   -6.72e+04   -3.28e+04\n",
       "Monserrat             -5.213e+04   2.02e+04     -2.586      0.010   -9.17e+04   -1.25e+04\n",
       "Nuñez                  6.846e+04   1.37e+04      4.980      0.000    4.15e+04    9.55e+04\n",
       "Palermo                7.404e+04   8069.270      9.175      0.000    5.82e+04    8.99e+04\n",
       "Puerto Madero         -1.229e-12   2.48e-13     -4.948      0.000   -1.72e-12   -7.41e-13\n",
       "Recoleta               5.759e+04   2.21e+04      2.608      0.009    1.42e+04    1.01e+05\n",
       "Saavedra               1.355e+04   1.19e+04      1.137      0.256   -9853.702    3.69e+04\n",
       "San Telmo             -2.353e+04   1.42e+04     -1.659      0.098   -5.14e+04    4331.305\n",
       "Villa Crespo           3266.6333   8795.880      0.371      0.710    -1.4e+04    2.05e+04\n",
       "Villa Urquiza          8022.3396   8934.340      0.898      0.370   -9523.863    2.56e+04\n",
       "==============================================================================\n",
       "Omnibus:                      158.235   Durbin-Watson:                   2.105\n",
       "Prob(Omnibus):                  0.000   Jarque-Bera (JB):              665.884\n",
       "Skew:                           1.090   Prob(JB):                    2.54e-145\n",
       "Kurtosis:                       7.553   Cond. No.                     7.28e+17\n",
       "==============================================================================\n",
       "\n",
       "Notes:\n",
       "[1] Standard Errors assume that the covariance matrix of the errors is correctly specified.\n",
       "[2] The smallest eigenvalue is 5.45e-29. This might indicate that there are\n",
       "strong multicollinearity problems or that the design matrix is singular.\n",
       "\"\"\""
      ]
     },
     "execution_count": 23,
     "metadata": {},
     "output_type": "execute_result"
    }
   ],
   "source": [
    "tipo_propiedad_train('PH')"
   ]
  },
  {
   "cell_type": "code",
   "execution_count": 24,
   "metadata": {},
   "outputs": [
    {
     "data": {
      "text/plain": [
       "Index(['property_type', 'place_name', 'price_aprox_usd', 'surface_total_in_m2',\n",
       "       'surface_covered_in_m2', 'amb_4.0', 'amb_5.0', 'amb_Mayor a 5',\n",
       "       'amb_No Informado', 'Almagro', 'Balvanera', 'Barrio Norte', 'Belgrano',\n",
       "       'Boedo', 'Caballito', 'Capital Federal', 'Flores', 'Monserrat', 'Nuñez',\n",
       "       'Palermo', 'Puerto Madero', 'Recoleta', 'Saavedra', 'San Telmo',\n",
       "       'Villa Crespo', 'Villa Urquiza'],\n",
       "      dtype='object')"
      ]
     },
     "execution_count": 24,
     "metadata": {},
     "output_type": "execute_result"
    }
   ],
   "source": [
    "# Considerando los valores obtenidos para p-values e IC con 95% de confianza, serán eliminadas las columnas Dummies para Tipo de Propiedad y numero de ambientes \n",
    "prop_prueba.drop(['apartment', 'house', 'store', 'amb_2.0','amb_3.0'], axis = 1, inplace =True)\n",
    "prop_prueba.columns"
   ]
  },
  {
   "cell_type": "markdown",
   "metadata": {},
   "source": [
    "### 2da Ejecución (Tipo Propiedad PH)\n"
   ]
  },
  {
   "cell_type": "code",
   "execution_count": 25,
   "metadata": {},
   "outputs": [
    {
     "data": {
      "text/html": [
       "<table class=\"simpletable\">\n",
       "<caption>OLS Regression Results</caption>\n",
       "<tr>\n",
       "  <th>Dep. Variable:</th>     <td>price_aprox_usd</td> <th>  R-squared:         </th> <td>   0.716</td> \n",
       "</tr>\n",
       "<tr>\n",
       "  <th>Model:</th>                   <td>OLS</td>       <th>  Adj. R-squared:    </th> <td>   0.706</td> \n",
       "</tr>\n",
       "<tr>\n",
       "  <th>Method:</th>             <td>Least Squares</td>  <th>  F-statistic:       </th> <td>   72.52</td> \n",
       "</tr>\n",
       "<tr>\n",
       "  <th>Date:</th>             <td>Sat, 03 Dec 2022</td> <th>  Prob (F-statistic):</th> <td>9.65e-150</td>\n",
       "</tr>\n",
       "<tr>\n",
       "  <th>Time:</th>                 <td>08:12:51</td>     <th>  Log-Likelihood:    </th> <td> -7862.3</td> \n",
       "</tr>\n",
       "<tr>\n",
       "  <th>No. Observations:</th>      <td>   627</td>      <th>  AIC:               </th> <td>1.577e+04</td>\n",
       "</tr>\n",
       "<tr>\n",
       "  <th>Df Residuals:</th>          <td>   605</td>      <th>  BIC:               </th> <td>1.587e+04</td>\n",
       "</tr>\n",
       "<tr>\n",
       "  <th>Df Model:</th>              <td>    21</td>      <th>                     </th>     <td> </td>    \n",
       "</tr>\n",
       "<tr>\n",
       "  <th>Covariance Type:</th>      <td>nonrobust</td>    <th>                     </th>     <td> </td>    \n",
       "</tr>\n",
       "</table>\n",
       "<table class=\"simpletable\">\n",
       "<tr>\n",
       "            <td></td>               <th>coef</th>     <th>std err</th>      <th>t</th>      <th>P>|t|</th>  <th>[0.025</th>    <th>0.975]</th>  \n",
       "</tr>\n",
       "<tr>\n",
       "  <th>const</th>                 <td> 7.163e+04</td> <td> 5509.056</td> <td>   13.002</td> <td> 0.000</td> <td> 6.08e+04</td> <td> 8.24e+04</td>\n",
       "</tr>\n",
       "<tr>\n",
       "  <th>surface_total_in_m2</th>   <td>  422.4958</td> <td>   67.338</td> <td>    6.274</td> <td> 0.000</td> <td>  290.251</td> <td>  554.741</td>\n",
       "</tr>\n",
       "<tr>\n",
       "  <th>surface_covered_in_m2</th> <td>  552.4622</td> <td>   88.987</td> <td>    6.208</td> <td> 0.000</td> <td>  377.701</td> <td>  727.224</td>\n",
       "</tr>\n",
       "<tr>\n",
       "  <th>amb_4.0</th>               <td> 4.414e+04</td> <td> 8426.614</td> <td>    5.238</td> <td> 0.000</td> <td> 2.76e+04</td> <td> 6.07e+04</td>\n",
       "</tr>\n",
       "<tr>\n",
       "  <th>amb_5.0</th>               <td> 6.756e+04</td> <td> 1.03e+04</td> <td>    6.532</td> <td> 0.000</td> <td> 4.72e+04</td> <td> 8.79e+04</td>\n",
       "</tr>\n",
       "<tr>\n",
       "  <th>amb_Mayor a 5</th>         <td> 7.423e+04</td> <td> 1.51e+04</td> <td>    4.910</td> <td> 0.000</td> <td> 4.45e+04</td> <td> 1.04e+05</td>\n",
       "</tr>\n",
       "<tr>\n",
       "  <th>amb_No Informado</th>      <td> 2.412e+04</td> <td> 7558.751</td> <td>    3.191</td> <td> 0.001</td> <td> 9276.251</td> <td>  3.9e+04</td>\n",
       "</tr>\n",
       "<tr>\n",
       "  <th>Almagro</th>               <td>-1.274e+04</td> <td> 9622.721</td> <td>   -1.324</td> <td> 0.186</td> <td>-3.16e+04</td> <td> 6153.495</td>\n",
       "</tr>\n",
       "<tr>\n",
       "  <th>Balvanera</th>             <td> -5.31e+04</td> <td> 1.32e+04</td> <td>   -4.033</td> <td> 0.000</td> <td> -7.9e+04</td> <td>-2.72e+04</td>\n",
       "</tr>\n",
       "<tr>\n",
       "  <th>Barrio Norte</th>          <td> 3.852e+04</td> <td> 2.07e+04</td> <td>    1.859</td> <td> 0.064</td> <td>-2177.811</td> <td> 7.92e+04</td>\n",
       "</tr>\n",
       "<tr>\n",
       "  <th>Belgrano</th>              <td> 8.579e+04</td> <td>  1.1e+04</td> <td>    7.803</td> <td> 0.000</td> <td> 6.42e+04</td> <td> 1.07e+05</td>\n",
       "</tr>\n",
       "<tr>\n",
       "  <th>Boedo</th>                 <td>-3.736e+04</td> <td> 1.33e+04</td> <td>   -2.803</td> <td> 0.005</td> <td>-6.35e+04</td> <td>-1.12e+04</td>\n",
       "</tr>\n",
       "<tr>\n",
       "  <th>Caballito</th>             <td> 1387.0633</td> <td> 9243.982</td> <td>    0.150</td> <td> 0.881</td> <td>-1.68e+04</td> <td> 1.95e+04</td>\n",
       "</tr>\n",
       "<tr>\n",
       "  <th>Capital Federal</th>       <td>-5.365e+04</td> <td> 1.25e+04</td> <td>   -4.295</td> <td> 0.000</td> <td>-7.82e+04</td> <td>-2.91e+04</td>\n",
       "</tr>\n",
       "<tr>\n",
       "  <th>Flores</th>                <td>-4.851e+04</td> <td> 8585.337</td> <td>   -5.651</td> <td> 0.000</td> <td>-6.54e+04</td> <td>-3.17e+04</td>\n",
       "</tr>\n",
       "<tr>\n",
       "  <th>Monserrat</th>             <td>-5.749e+04</td> <td>  1.9e+04</td> <td>   -3.020</td> <td> 0.003</td> <td>-9.49e+04</td> <td>-2.01e+04</td>\n",
       "</tr>\n",
       "<tr>\n",
       "  <th>Nuñez</th>                 <td>  6.93e+04</td> <td> 1.37e+04</td> <td>    5.073</td> <td> 0.000</td> <td> 4.25e+04</td> <td> 9.61e+04</td>\n",
       "</tr>\n",
       "<tr>\n",
       "  <th>Palermo</th>               <td> 7.569e+04</td> <td> 7862.144</td> <td>    9.627</td> <td> 0.000</td> <td> 6.02e+04</td> <td> 9.11e+04</td>\n",
       "</tr>\n",
       "<tr>\n",
       "  <th>Puerto Madero</th>         <td> 2.315e-11</td> <td> 7.18e-12</td> <td>    3.226</td> <td> 0.001</td> <td> 9.06e-12</td> <td> 3.72e-11</td>\n",
       "</tr>\n",
       "<tr>\n",
       "  <th>Recoleta</th>              <td> 5.546e+04</td> <td> 2.19e+04</td> <td>    2.528</td> <td> 0.012</td> <td> 1.24e+04</td> <td> 9.85e+04</td>\n",
       "</tr>\n",
       "<tr>\n",
       "  <th>Saavedra</th>              <td> 1.453e+04</td> <td> 1.18e+04</td> <td>    1.234</td> <td> 0.218</td> <td>-8599.147</td> <td> 3.76e+04</td>\n",
       "</tr>\n",
       "<tr>\n",
       "  <th>San Telmo</th>             <td>-2.295e+04</td> <td> 1.42e+04</td> <td>   -1.618</td> <td> 0.106</td> <td>-5.08e+04</td> <td> 4898.247</td>\n",
       "</tr>\n",
       "<tr>\n",
       "  <th>Villa Crespo</th>          <td> 6067.4775</td> <td> 8545.483</td> <td>    0.710</td> <td> 0.478</td> <td>-1.07e+04</td> <td> 2.28e+04</td>\n",
       "</tr>\n",
       "<tr>\n",
       "  <th>Villa Urquiza</th>         <td> 1.072e+04</td> <td> 8719.811</td> <td>    1.229</td> <td> 0.220</td> <td>-6409.685</td> <td> 2.78e+04</td>\n",
       "</tr>\n",
       "</table>\n",
       "<table class=\"simpletable\">\n",
       "<tr>\n",
       "  <th>Omnibus:</th>       <td>155.959</td> <th>  Durbin-Watson:     </th> <td>   2.111</td> \n",
       "</tr>\n",
       "<tr>\n",
       "  <th>Prob(Omnibus):</th> <td> 0.000</td>  <th>  Jarque-Bera (JB):  </th> <td> 654.276</td> \n",
       "</tr>\n",
       "<tr>\n",
       "  <th>Skew:</th>          <td> 1.074</td>  <th>  Prob(JB):          </th> <td>8.43e-143</td>\n",
       "</tr>\n",
       "<tr>\n",
       "  <th>Kurtosis:</th>      <td> 7.520</td>  <th>  Cond. No.          </th> <td>8.72e+19</td> \n",
       "</tr>\n",
       "</table><br/><br/>Notes:<br/>[1] Standard Errors assume that the covariance matrix of the errors is correctly specified.<br/>[2] The smallest eigenvalue is 3.79e-33. This might indicate that there are<br/>strong multicollinearity problems or that the design matrix is singular."
      ],
      "text/plain": [
       "<class 'statsmodels.iolib.summary.Summary'>\n",
       "\"\"\"\n",
       "                            OLS Regression Results                            \n",
       "==============================================================================\n",
       "Dep. Variable:        price_aprox_usd   R-squared:                       0.716\n",
       "Model:                            OLS   Adj. R-squared:                  0.706\n",
       "Method:                 Least Squares   F-statistic:                     72.52\n",
       "Date:                Sat, 03 Dec 2022   Prob (F-statistic):          9.65e-150\n",
       "Time:                        08:12:51   Log-Likelihood:                -7862.3\n",
       "No. Observations:                 627   AIC:                         1.577e+04\n",
       "Df Residuals:                     605   BIC:                         1.587e+04\n",
       "Df Model:                          21                                         \n",
       "Covariance Type:            nonrobust                                         \n",
       "=========================================================================================\n",
       "                            coef    std err          t      P>|t|      [0.025      0.975]\n",
       "-----------------------------------------------------------------------------------------\n",
       "const                  7.163e+04   5509.056     13.002      0.000    6.08e+04    8.24e+04\n",
       "surface_total_in_m2     422.4958     67.338      6.274      0.000     290.251     554.741\n",
       "surface_covered_in_m2   552.4622     88.987      6.208      0.000     377.701     727.224\n",
       "amb_4.0                4.414e+04   8426.614      5.238      0.000    2.76e+04    6.07e+04\n",
       "amb_5.0                6.756e+04   1.03e+04      6.532      0.000    4.72e+04    8.79e+04\n",
       "amb_Mayor a 5          7.423e+04   1.51e+04      4.910      0.000    4.45e+04    1.04e+05\n",
       "amb_No Informado       2.412e+04   7558.751      3.191      0.001    9276.251     3.9e+04\n",
       "Almagro               -1.274e+04   9622.721     -1.324      0.186   -3.16e+04    6153.495\n",
       "Balvanera              -5.31e+04   1.32e+04     -4.033      0.000    -7.9e+04   -2.72e+04\n",
       "Barrio Norte           3.852e+04   2.07e+04      1.859      0.064   -2177.811    7.92e+04\n",
       "Belgrano               8.579e+04    1.1e+04      7.803      0.000    6.42e+04    1.07e+05\n",
       "Boedo                 -3.736e+04   1.33e+04     -2.803      0.005   -6.35e+04   -1.12e+04\n",
       "Caballito              1387.0633   9243.982      0.150      0.881   -1.68e+04    1.95e+04\n",
       "Capital Federal       -5.365e+04   1.25e+04     -4.295      0.000   -7.82e+04   -2.91e+04\n",
       "Flores                -4.851e+04   8585.337     -5.651      0.000   -6.54e+04   -3.17e+04\n",
       "Monserrat             -5.749e+04    1.9e+04     -3.020      0.003   -9.49e+04   -2.01e+04\n",
       "Nuñez                   6.93e+04   1.37e+04      5.073      0.000    4.25e+04    9.61e+04\n",
       "Palermo                7.569e+04   7862.144      9.627      0.000    6.02e+04    9.11e+04\n",
       "Puerto Madero          2.315e-11   7.18e-12      3.226      0.001    9.06e-12    3.72e-11\n",
       "Recoleta               5.546e+04   2.19e+04      2.528      0.012    1.24e+04    9.85e+04\n",
       "Saavedra               1.453e+04   1.18e+04      1.234      0.218   -8599.147    3.76e+04\n",
       "San Telmo             -2.295e+04   1.42e+04     -1.618      0.106   -5.08e+04    4898.247\n",
       "Villa Crespo           6067.4775   8545.483      0.710      0.478   -1.07e+04    2.28e+04\n",
       "Villa Urquiza          1.072e+04   8719.811      1.229      0.220   -6409.685    2.78e+04\n",
       "==============================================================================\n",
       "Omnibus:                      155.959   Durbin-Watson:                   2.111\n",
       "Prob(Omnibus):                  0.000   Jarque-Bera (JB):              654.276\n",
       "Skew:                           1.074   Prob(JB):                    8.43e-143\n",
       "Kurtosis:                       7.520   Cond. No.                     8.72e+19\n",
       "==============================================================================\n",
       "\n",
       "Notes:\n",
       "[1] Standard Errors assume that the covariance matrix of the errors is correctly specified.\n",
       "[2] The smallest eigenvalue is 3.79e-33. This might indicate that there are\n",
       "strong multicollinearity problems or that the design matrix is singular.\n",
       "\"\"\""
      ]
     },
     "execution_count": 25,
     "metadata": {},
     "output_type": "execute_result"
    }
   ],
   "source": [
    "tipo_propiedad_train('PH')"
   ]
  },
  {
   "cell_type": "code",
   "execution_count": 26,
   "metadata": {},
   "outputs": [
    {
     "data": {
      "text/plain": [
       "Index(['property_type', 'place_name', 'price_aprox_usd', 'surface_total_in_m2',\n",
       "       'surface_covered_in_m2', 'amb_4.0', 'amb_5.0', 'amb_Mayor a 5',\n",
       "       'amb_No Informado', 'Balvanera', 'Belgrano', 'Boedo', 'Capital Federal',\n",
       "       'Flores', 'Monserrat', 'Nuñez', 'Palermo', 'Recoleta'],\n",
       "      dtype='object')"
      ]
     },
     "execution_count": 26,
     "metadata": {},
     "output_type": "execute_result"
    }
   ],
   "source": [
    "# Considerando los valores obtenidos para p-values e IC con 95% de confianza, serán eliminadas las columnas Dummies para Tipo de Propiedad y numero de ambientes \n",
    "prop_prueba.drop(['Almagro','San Telmo', 'Barrio Norte', 'Caballito', 'Saavedra', 'Villa Crespo', 'Villa Urquiza', 'Puerto Madero'], axis = 1, inplace =True)\n",
    "prop_prueba.columns"
   ]
  },
  {
   "cell_type": "markdown",
   "metadata": {},
   "source": [
    "### 3era Ejecución (Tipo Propiedad PH)"
   ]
  },
  {
   "cell_type": "code",
   "execution_count": 27,
   "metadata": {},
   "outputs": [
    {
     "data": {
      "text/html": [
       "<table class=\"simpletable\">\n",
       "<caption>OLS Regression Results</caption>\n",
       "<tr>\n",
       "  <th>Dep. Variable:</th>     <td>price_aprox_usd</td> <th>  R-squared:         </th> <td>   0.711</td> \n",
       "</tr>\n",
       "<tr>\n",
       "  <th>Model:</th>                   <td>OLS</td>       <th>  Adj. R-squared:    </th> <td>   0.704</td> \n",
       "</tr>\n",
       "<tr>\n",
       "  <th>Method:</th>             <td>Least Squares</td>  <th>  F-statistic:       </th> <td>   100.2</td> \n",
       "</tr>\n",
       "<tr>\n",
       "  <th>Date:</th>             <td>Sat, 03 Dec 2022</td> <th>  Prob (F-statistic):</th> <td>1.75e-153</td>\n",
       "</tr>\n",
       "<tr>\n",
       "  <th>Time:</th>                 <td>08:12:59</td>     <th>  Log-Likelihood:    </th> <td> -7867.4</td> \n",
       "</tr>\n",
       "<tr>\n",
       "  <th>No. Observations:</th>      <td>   627</td>      <th>  AIC:               </th> <td>1.577e+04</td>\n",
       "</tr>\n",
       "<tr>\n",
       "  <th>Df Residuals:</th>          <td>   611</td>      <th>  BIC:               </th> <td>1.584e+04</td>\n",
       "</tr>\n",
       "<tr>\n",
       "  <th>Df Model:</th>              <td>    15</td>      <th>                     </th>     <td> </td>    \n",
       "</tr>\n",
       "<tr>\n",
       "  <th>Covariance Type:</th>      <td>nonrobust</td>    <th>                     </th>     <td> </td>    \n",
       "</tr>\n",
       "</table>\n",
       "<table class=\"simpletable\">\n",
       "<tr>\n",
       "            <td></td>               <th>coef</th>     <th>std err</th>      <th>t</th>      <th>P>|t|</th>  <th>[0.025</th>    <th>0.975]</th>  \n",
       "</tr>\n",
       "<tr>\n",
       "  <th>const</th>                 <td> 7.549e+04</td> <td> 6258.547</td> <td>   12.061</td> <td> 0.000</td> <td> 6.32e+04</td> <td> 8.78e+04</td>\n",
       "</tr>\n",
       "<tr>\n",
       "  <th>surface_total_in_m2</th>   <td>  437.5361</td> <td>   67.177</td> <td>    6.513</td> <td> 0.000</td> <td>  305.610</td> <td>  569.462</td>\n",
       "</tr>\n",
       "<tr>\n",
       "  <th>surface_covered_in_m2</th> <td>  517.4685</td> <td>   87.594</td> <td>    5.908</td> <td> 0.000</td> <td>  345.447</td> <td>  689.490</td>\n",
       "</tr>\n",
       "<tr>\n",
       "  <th>amb_4.0</th>               <td> 4.303e+04</td> <td> 8388.539</td> <td>    5.130</td> <td> 0.000</td> <td> 2.66e+04</td> <td> 5.95e+04</td>\n",
       "</tr>\n",
       "<tr>\n",
       "  <th>amb_5.0</th>               <td> 6.777e+04</td> <td> 1.03e+04</td> <td>    6.560</td> <td> 0.000</td> <td> 4.75e+04</td> <td> 8.81e+04</td>\n",
       "</tr>\n",
       "<tr>\n",
       "  <th>amb_Mayor a 5</th>         <td> 6.776e+04</td> <td> 1.49e+04</td> <td>    4.533</td> <td> 0.000</td> <td> 3.84e+04</td> <td> 9.71e+04</td>\n",
       "</tr>\n",
       "<tr>\n",
       "  <th>amb_No Informado</th>      <td> 2.677e+04</td> <td> 7508.953</td> <td>    3.565</td> <td> 0.000</td> <td>  1.2e+04</td> <td> 4.15e+04</td>\n",
       "</tr>\n",
       "<tr>\n",
       "  <th>Balvanera</th>             <td>-5.475e+04</td> <td> 1.42e+04</td> <td>   -3.858</td> <td> 0.000</td> <td>-8.26e+04</td> <td>-2.69e+04</td>\n",
       "</tr>\n",
       "<tr>\n",
       "  <th>Belgrano</th>              <td> 8.312e+04</td> <td> 1.19e+04</td> <td>    6.988</td> <td> 0.000</td> <td> 5.98e+04</td> <td> 1.06e+05</td>\n",
       "</tr>\n",
       "<tr>\n",
       "  <th>Boedo</th>                 <td>-3.988e+04</td> <td> 1.44e+04</td> <td>   -2.775</td> <td> 0.006</td> <td>-6.81e+04</td> <td>-1.17e+04</td>\n",
       "</tr>\n",
       "<tr>\n",
       "  <th>Capital Federal</th>       <td>-5.904e+04</td> <td> 1.34e+04</td> <td>   -4.402</td> <td> 0.000</td> <td>-8.54e+04</td> <td>-3.27e+04</td>\n",
       "</tr>\n",
       "<tr>\n",
       "  <th>Flores</th>                <td>-5.218e+04</td> <td> 9348.506</td> <td>   -5.582</td> <td> 0.000</td> <td>-7.05e+04</td> <td>-3.38e+04</td>\n",
       "</tr>\n",
       "<tr>\n",
       "  <th>Monserrat</th>             <td>-6.061e+04</td> <td> 2.05e+04</td> <td>   -2.963</td> <td> 0.003</td> <td>-1.01e+05</td> <td>-2.04e+04</td>\n",
       "</tr>\n",
       "<tr>\n",
       "  <th>Nuñez</th>                 <td> 6.701e+04</td> <td> 1.47e+04</td> <td>    4.562</td> <td> 0.000</td> <td> 3.82e+04</td> <td> 9.59e+04</td>\n",
       "</tr>\n",
       "<tr>\n",
       "  <th>Palermo</th>               <td> 7.255e+04</td> <td> 8649.427</td> <td>    8.388</td> <td> 0.000</td> <td> 5.56e+04</td> <td> 8.95e+04</td>\n",
       "</tr>\n",
       "<tr>\n",
       "  <th>Recoleta</th>              <td> 5.271e+04</td> <td> 2.35e+04</td> <td>    2.245</td> <td> 0.025</td> <td> 6598.612</td> <td> 9.88e+04</td>\n",
       "</tr>\n",
       "</table>\n",
       "<table class=\"simpletable\">\n",
       "<tr>\n",
       "  <th>Omnibus:</th>       <td>158.557</td> <th>  Durbin-Watson:     </th> <td>   2.092</td> \n",
       "</tr>\n",
       "<tr>\n",
       "  <th>Prob(Omnibus):</th> <td> 0.000</td>  <th>  Jarque-Bera (JB):  </th> <td> 657.196</td> \n",
       "</tr>\n",
       "<tr>\n",
       "  <th>Skew:</th>          <td> 1.098</td>  <th>  Prob(JB):          </th> <td>1.96e-143</td>\n",
       "</tr>\n",
       "<tr>\n",
       "  <th>Kurtosis:</th>      <td> 7.509</td>  <th>  Cond. No.          </th> <td>1.85e+03</td> \n",
       "</tr>\n",
       "</table><br/><br/>Notes:<br/>[1] Standard Errors assume that the covariance matrix of the errors is correctly specified.<br/>[2] The condition number is large, 1.85e+03. This might indicate that there are<br/>strong multicollinearity or other numerical problems."
      ],
      "text/plain": [
       "<class 'statsmodels.iolib.summary.Summary'>\n",
       "\"\"\"\n",
       "                            OLS Regression Results                            \n",
       "==============================================================================\n",
       "Dep. Variable:        price_aprox_usd   R-squared:                       0.711\n",
       "Model:                            OLS   Adj. R-squared:                  0.704\n",
       "Method:                 Least Squares   F-statistic:                     100.2\n",
       "Date:                Sat, 03 Dec 2022   Prob (F-statistic):          1.75e-153\n",
       "Time:                        08:12:59   Log-Likelihood:                -7867.4\n",
       "No. Observations:                 627   AIC:                         1.577e+04\n",
       "Df Residuals:                     611   BIC:                         1.584e+04\n",
       "Df Model:                          15                                         \n",
       "Covariance Type:            nonrobust                                         \n",
       "=========================================================================================\n",
       "                            coef    std err          t      P>|t|      [0.025      0.975]\n",
       "-----------------------------------------------------------------------------------------\n",
       "const                  7.549e+04   6258.547     12.061      0.000    6.32e+04    8.78e+04\n",
       "surface_total_in_m2     437.5361     67.177      6.513      0.000     305.610     569.462\n",
       "surface_covered_in_m2   517.4685     87.594      5.908      0.000     345.447     689.490\n",
       "amb_4.0                4.303e+04   8388.539      5.130      0.000    2.66e+04    5.95e+04\n",
       "amb_5.0                6.777e+04   1.03e+04      6.560      0.000    4.75e+04    8.81e+04\n",
       "amb_Mayor a 5          6.776e+04   1.49e+04      4.533      0.000    3.84e+04    9.71e+04\n",
       "amb_No Informado       2.677e+04   7508.953      3.565      0.000     1.2e+04    4.15e+04\n",
       "Balvanera             -5.475e+04   1.42e+04     -3.858      0.000   -8.26e+04   -2.69e+04\n",
       "Belgrano               8.312e+04   1.19e+04      6.988      0.000    5.98e+04    1.06e+05\n",
       "Boedo                 -3.988e+04   1.44e+04     -2.775      0.006   -6.81e+04   -1.17e+04\n",
       "Capital Federal       -5.904e+04   1.34e+04     -4.402      0.000   -8.54e+04   -3.27e+04\n",
       "Flores                -5.218e+04   9348.506     -5.582      0.000   -7.05e+04   -3.38e+04\n",
       "Monserrat             -6.061e+04   2.05e+04     -2.963      0.003   -1.01e+05   -2.04e+04\n",
       "Nuñez                  6.701e+04   1.47e+04      4.562      0.000    3.82e+04    9.59e+04\n",
       "Palermo                7.255e+04   8649.427      8.388      0.000    5.56e+04    8.95e+04\n",
       "Recoleta               5.271e+04   2.35e+04      2.245      0.025    6598.612    9.88e+04\n",
       "==============================================================================\n",
       "Omnibus:                      158.557   Durbin-Watson:                   2.092\n",
       "Prob(Omnibus):                  0.000   Jarque-Bera (JB):              657.196\n",
       "Skew:                           1.098   Prob(JB):                    1.96e-143\n",
       "Kurtosis:                       7.509   Cond. No.                     1.85e+03\n",
       "==============================================================================\n",
       "\n",
       "Notes:\n",
       "[1] Standard Errors assume that the covariance matrix of the errors is correctly specified.\n",
       "[2] The condition number is large, 1.85e+03. This might indicate that there are\n",
       "strong multicollinearity or other numerical problems.\n",
       "\"\"\""
      ]
     },
     "execution_count": 27,
     "metadata": {},
     "output_type": "execute_result"
    }
   ],
   "source": [
    "tipo_propiedad_train('PH')"
   ]
  },
  {
   "cell_type": "markdown",
   "metadata": {},
   "source": [
    "A partir de la eliminación de más del 40% de las features del conjunto de train no se logra una mejora considerable del R2 ajustado, manteniéndose alrededor de 0.7%. Considerando este valor será evaluado la predicción del modelo con el conjunto de test. "
   ]
  },
  {
   "cell_type": "markdown",
   "metadata": {},
   "source": [
    "## 6.2.1.1 Evaluando el modelo con datos del conjunto test"
   ]
  },
  {
   "cell_type": "code",
   "execution_count": 28,
   "metadata": {},
   "outputs": [
    {
     "name": "stdout",
     "output_type": "stream",
     "text": [
      "                              Coeff\n",
      "surface_total_in_m2      437.536068\n",
      "surface_covered_in_m2    517.468485\n",
      "amb_4.0                43029.559455\n",
      "amb_5.0                67769.067312\n",
      "amb_Mayor a 5          67759.873140\n",
      "amb_No Informado       26770.287607\n",
      "Balvanera             -54751.722034\n",
      "Belgrano               83120.347354\n",
      "Boedo                 -39876.950044\n",
      "Capital Federal       -59041.001828\n",
      "Flores                -52182.894058\n",
      "Monserrat             -60605.467026\n",
      "Nuñez                  67006.706658\n",
      "Palermo                72550.647402\n",
      "Recoleta               52714.291678\n"
     ]
    },
    {
     "data": {
      "text/plain": [
       "(('R2_test: ', 0.6573058503293399),\n",
       " ('R2 ajustado_test: ', 0.6208490258962909),\n",
       " ('Mean Absolute Error_test:', 41292.40923617976),\n",
       " ('Mean Squared Error_test:', 3223090469.7313395),\n",
       " ('Root Mean Squared Error_test:', 56772.26849203173))"
      ]
     },
     "execution_count": 28,
     "metadata": {},
     "output_type": "execute_result"
    },
    {
     "data": {
      "image/png": "[encoded data removed]",
      "text/plain": [
       "<Figure size 640x480 with 1 Axes>"
      ]
     },
     "metadata": {},
     "output_type": "display_data"
    }
   ],
   "source": [
    "prediccion_modelo('PH')"
   ]
  },
  {
   "cell_type": "code",
   "execution_count": 36,
   "metadata": {},
   "outputs": [
    {
     "data": {
      "text/plain": [
       "Index(['property_type', 'place_name', 'price_aprox_usd', 'surface_total_in_m2',\n",
       "       'surface_covered_in_m2', 'amb_4.0', 'amb_5.0', 'amb_Mayor a 5',\n",
       "       'amb_No Informado', 'Balvanera', 'Belgrano', 'Boedo', 'Capital Federal',\n",
       "       'Flores', 'Monserrat', 'Nuñez', 'Palermo', 'Recoleta'],\n",
       "      dtype='object')"
      ]
     },
     "execution_count": 36,
     "metadata": {},
     "output_type": "execute_result"
    }
   ],
   "source": [
    "prop_prueba.columns"
   ]
  },
  {
   "cell_type": "code",
   "execution_count": 37,
   "metadata": {},
   "outputs": [],
   "source": [
    "'''Cross Validation usando Lasso:\n",
    "Se necesita buscar el mejor valor para el hiperparámetro λ'''\n",
    "\n",
    "scaler = StandardScaler()\n",
    "X_std = scaler.fit_transform(X)\n",
    "y = prop_prueba['property_type']"
   ]
  },
  {
   "cell_type": "code",
   "execution_count": 51,
   "metadata": {},
   "outputs": [
    {
     "name": "stderr",
     "output_type": "stream",
     "text": [
      "c:\\Users\\ana mario\\anaconda3\\envs\\DH\\lib\\site-packages\\sklearn\\linear_model\\_base.py:148: FutureWarning: 'normalize' was deprecated in version 1.0 and will be removed in 1.2. Please leave the normalize parameter to its default value to silence this warning. The default behavior of this estimator is to not do any normalization. If normalization is needed please use sklearn.preprocessing.StandardScaler instead.\n",
      "  warnings.warn(\n"
     ]
    },
    {
     "name": "stdout",
     "output_type": "stream",
     "text": [
      "0.05\n",
      "0.4240699864145243\n"
     ]
    }
   ],
   "source": [
    "model_lasso_cv = linear_model.LassoCV(alphas= [0.05, 0.06, 0.07, 0.08, 0.09, 0.95, 0.97, 0.1, 0.12, 0.15, 0.2, 0.3, 1.0, 10.0], \n",
    "                                   fit_intercept=True, normalize=False, cv=10, max_iter=10000)\n",
    "model_fit_lasso_cv = model_lasso_cv.fit(X_train, y_train)\n",
    "\n",
    "print(model_fit_lasso_cv.alpha_)\n",
    "print(model_fit_lasso_cv.score(X_train, y_train))"
   ]
  },
  {
   "cell_type": "code",
   "execution_count": 52,
   "metadata": {},
   "outputs": [
    {
     "name": "stderr",
     "output_type": "stream",
     "text": [
      "c:\\Users\\ana mario\\anaconda3\\envs\\DH\\lib\\site-packages\\sklearn\\linear_model\\_base.py:148: FutureWarning: 'normalize' was deprecated in version 1.0 and will be removed in 1.2. Please leave the normalize parameter to its default value to silence this warning. The default behavior of this estimator is to not do any normalization. If normalization is needed please use sklearn.preprocessing.StandardScaler instead.\n",
      "  warnings.warn(\n"
     ]
    },
    {
     "name": "stdout",
     "output_type": "stream",
     "text": [
      "[-2.80620054e+02  1.35503476e+03  7.42224210e+04  2.14937967e+05\n",
      "  2.00070103e+05 -2.90030328e+04  3.59813507e+04  1.39107460e+05\n",
      "  3.00596244e+05  4.42033570e+05  5.06711974e+04 -1.26226157e+05\n",
      " -1.64021121e+05 -3.02720230e+04  3.35345037e+03  6.67692513e+04\n",
      " -1.09192111e+05 -1.40850671e+05 -1.51543279e+05  7.92782716e+04\n",
      "  1.67450268e+04  5.29941531e+05  1.96111790e+04 -1.06411925e+05\n",
      " -1.42002234e+05 -1.13810044e+05 -1.05478768e+05]\n",
      "93277.53037840288\n"
     ]
    },
    {
     "name": "stderr",
     "output_type": "stream",
     "text": [
      "c:\\Users\\ana mario\\anaconda3\\envs\\DH\\lib\\site-packages\\sklearn\\base.py:493: FutureWarning: The feature names should match those that were passed during fit. Starting version 1.2, an error will be raised.\n",
      "Feature names unseen at fit time:\n",
      "- Capital Federal\n",
      "\n",
      "  warnings.warn(message, FutureWarning)\n"
     ]
    },
    {
     "ename": "ValueError",
     "evalue": "X has 28 features, but Lasso is expecting 27 features as input.",
     "output_type": "error",
     "traceback": [
      "\u001b[1;31m---------------------------------------------------------------------------\u001b[0m",
      "\u001b[1;31mValueError\u001b[0m                                Traceback (most recent call last)",
      "\u001b[1;32mc:\\Users\\ana mario\\OneDrive - Secretaria de Educacion de Medellin\\Archivos\\Digital_House\\Practicas\\CLASE_26\\TP2_Carlos.ipynb Celda 68\u001b[0m in \u001b[0;36m<cell line: 6>\u001b[1;34m()\u001b[0m\n\u001b[0;32m      <a href='vscode-notebook-cell:/c%3A/Users/ana%20mario/OneDrive%20-%20Secretaria%20de%20Educacion%20de%20Medellin/Archivos/Digital_House/Practicas/CLASE_26/TP2_Carlos.ipynb#Y311sZmlsZQ%3D%3D?line=3'>4</a>\u001b[0m \u001b[39mprint\u001b[39m(model_fit_lasso\u001b[39m.\u001b[39mcoef_)\n\u001b[0;32m      <a href='vscode-notebook-cell:/c%3A/Users/ana%20mario/OneDrive%20-%20Secretaria%20de%20Educacion%20de%20Medellin/Archivos/Digital_House/Practicas/CLASE_26/TP2_Carlos.ipynb#Y311sZmlsZQ%3D%3D?line=4'>5</a>\u001b[0m \u001b[39mprint\u001b[39m(model_fit_lasso\u001b[39m.\u001b[39mintercept_)\n\u001b[1;32m----> <a href='vscode-notebook-cell:/c%3A/Users/ana%20mario/OneDrive%20-%20Secretaria%20de%20Educacion%20de%20Medellin/Archivos/Digital_House/Practicas/CLASE_26/TP2_Carlos.ipynb#Y311sZmlsZQ%3D%3D?line=5'>6</a>\u001b[0m \u001b[39mprint\u001b[39m(model_fit_lasso\u001b[39m.\u001b[39;49mscore(X_test, y_test))\n",
      "File \u001b[1;32mc:\\Users\\ana mario\\anaconda3\\envs\\DH\\lib\\site-packages\\sklearn\\base.py:720\u001b[0m, in \u001b[0;36mRegressorMixin.score\u001b[1;34m(self, X, y, sample_weight)\u001b[0m\n\u001b[0;32m    678\u001b[0m \u001b[39m\"\"\"Return the coefficient of determination of the prediction.\u001b[39;00m\n\u001b[0;32m    679\u001b[0m \n\u001b[0;32m    680\u001b[0m \u001b[39mThe coefficient of determination :math:`R^2` is defined as\u001b[39;00m\n\u001b[1;32m   (...)\u001b[0m\n\u001b[0;32m    715\u001b[0m \u001b[39m:class:`~sklearn.multioutput.MultiOutputRegressor`).\u001b[39;00m\n\u001b[0;32m    716\u001b[0m \u001b[39m\"\"\"\u001b[39;00m\n\u001b[0;32m    718\u001b[0m \u001b[39mfrom\u001b[39;00m \u001b[39m.\u001b[39;00m\u001b[39mmetrics\u001b[39;00m \u001b[39mimport\u001b[39;00m r2_score\n\u001b[1;32m--> 720\u001b[0m y_pred \u001b[39m=\u001b[39m \u001b[39mself\u001b[39;49m\u001b[39m.\u001b[39;49mpredict(X)\n\u001b[0;32m    721\u001b[0m \u001b[39mreturn\u001b[39;00m r2_score(y, y_pred, sample_weight\u001b[39m=\u001b[39msample_weight)\n",
      "File \u001b[1;32mc:\\Users\\ana mario\\anaconda3\\envs\\DH\\lib\\site-packages\\sklearn\\linear_model\\_base.py:386\u001b[0m, in \u001b[0;36mLinearModel.predict\u001b[1;34m(self, X)\u001b[0m\n\u001b[0;32m    372\u001b[0m \u001b[39mdef\u001b[39;00m \u001b[39mpredict\u001b[39m(\u001b[39mself\u001b[39m, X):\n\u001b[0;32m    373\u001b[0m     \u001b[39m\"\"\"\u001b[39;00m\n\u001b[0;32m    374\u001b[0m \u001b[39m    Predict using the linear model.\u001b[39;00m\n\u001b[0;32m    375\u001b[0m \n\u001b[1;32m   (...)\u001b[0m\n\u001b[0;32m    384\u001b[0m \u001b[39m        Returns predicted values.\u001b[39;00m\n\u001b[0;32m    385\u001b[0m \u001b[39m    \"\"\"\u001b[39;00m\n\u001b[1;32m--> 386\u001b[0m     \u001b[39mreturn\u001b[39;00m \u001b[39mself\u001b[39;49m\u001b[39m.\u001b[39;49m_decision_function(X)\n",
      "File \u001b[1;32mc:\\Users\\ana mario\\anaconda3\\envs\\DH\\lib\\site-packages\\sklearn\\linear_model\\_coordinate_descent.py:1127\u001b[0m, in \u001b[0;36mElasticNet._decision_function\u001b[1;34m(self, X)\u001b[0m\n\u001b[0;32m   1125\u001b[0m     \u001b[39mreturn\u001b[39;00m safe_sparse_dot(X, \u001b[39mself\u001b[39m\u001b[39m.\u001b[39mcoef_\u001b[39m.\u001b[39mT, dense_output\u001b[39m=\u001b[39m\u001b[39mTrue\u001b[39;00m) \u001b[39m+\u001b[39m \u001b[39mself\u001b[39m\u001b[39m.\u001b[39mintercept_\n\u001b[0;32m   1126\u001b[0m \u001b[39melse\u001b[39;00m:\n\u001b[1;32m-> 1127\u001b[0m     \u001b[39mreturn\u001b[39;00m \u001b[39msuper\u001b[39;49m()\u001b[39m.\u001b[39;49m_decision_function(X)\n",
      "File \u001b[1;32mc:\\Users\\ana mario\\anaconda3\\envs\\DH\\lib\\site-packages\\sklearn\\linear_model\\_base.py:369\u001b[0m, in \u001b[0;36mLinearModel._decision_function\u001b[1;34m(self, X)\u001b[0m\n\u001b[0;32m    366\u001b[0m \u001b[39mdef\u001b[39;00m \u001b[39m_decision_function\u001b[39m(\u001b[39mself\u001b[39m, X):\n\u001b[0;32m    367\u001b[0m     check_is_fitted(\u001b[39mself\u001b[39m)\n\u001b[1;32m--> 369\u001b[0m     X \u001b[39m=\u001b[39m \u001b[39mself\u001b[39;49m\u001b[39m.\u001b[39;49m_validate_data(X, accept_sparse\u001b[39m=\u001b[39;49m[\u001b[39m\"\u001b[39;49m\u001b[39mcsr\u001b[39;49m\u001b[39m\"\u001b[39;49m, \u001b[39m\"\u001b[39;49m\u001b[39mcsc\u001b[39;49m\u001b[39m\"\u001b[39;49m, \u001b[39m\"\u001b[39;49m\u001b[39mcoo\u001b[39;49m\u001b[39m\"\u001b[39;49m], reset\u001b[39m=\u001b[39;49m\u001b[39mFalse\u001b[39;49;00m)\n\u001b[0;32m    370\u001b[0m     \u001b[39mreturn\u001b[39;00m safe_sparse_dot(X, \u001b[39mself\u001b[39m\u001b[39m.\u001b[39mcoef_\u001b[39m.\u001b[39mT, dense_output\u001b[39m=\u001b[39m\u001b[39mTrue\u001b[39;00m) \u001b[39m+\u001b[39m \u001b[39mself\u001b[39m\u001b[39m.\u001b[39mintercept_\n",
      "File \u001b[1;32mc:\\Users\\ana mario\\anaconda3\\envs\\DH\\lib\\site-packages\\sklearn\\base.py:600\u001b[0m, in \u001b[0;36mBaseEstimator._validate_data\u001b[1;34m(self, X, y, reset, validate_separately, **check_params)\u001b[0m\n\u001b[0;32m    597\u001b[0m     out \u001b[39m=\u001b[39m X, y\n\u001b[0;32m    599\u001b[0m \u001b[39mif\u001b[39;00m \u001b[39mnot\u001b[39;00m no_val_X \u001b[39mand\u001b[39;00m check_params\u001b[39m.\u001b[39mget(\u001b[39m\"\u001b[39m\u001b[39mensure_2d\u001b[39m\u001b[39m\"\u001b[39m, \u001b[39mTrue\u001b[39;00m):\n\u001b[1;32m--> 600\u001b[0m     \u001b[39mself\u001b[39;49m\u001b[39m.\u001b[39;49m_check_n_features(X, reset\u001b[39m=\u001b[39;49mreset)\n\u001b[0;32m    602\u001b[0m \u001b[39mreturn\u001b[39;00m out\n",
      "File \u001b[1;32mc:\\Users\\ana mario\\anaconda3\\envs\\DH\\lib\\site-packages\\sklearn\\base.py:400\u001b[0m, in \u001b[0;36mBaseEstimator._check_n_features\u001b[1;34m(self, X, reset)\u001b[0m\n\u001b[0;32m    397\u001b[0m     \u001b[39mreturn\u001b[39;00m\n\u001b[0;32m    399\u001b[0m \u001b[39mif\u001b[39;00m n_features \u001b[39m!=\u001b[39m \u001b[39mself\u001b[39m\u001b[39m.\u001b[39mn_features_in_:\n\u001b[1;32m--> 400\u001b[0m     \u001b[39mraise\u001b[39;00m \u001b[39mValueError\u001b[39;00m(\n\u001b[0;32m    401\u001b[0m         \u001b[39mf\u001b[39m\u001b[39m\"\u001b[39m\u001b[39mX has \u001b[39m\u001b[39m{\u001b[39;00mn_features\u001b[39m}\u001b[39;00m\u001b[39m features, but \u001b[39m\u001b[39m{\u001b[39;00m\u001b[39mself\u001b[39m\u001b[39m.\u001b[39m\u001b[39m__class__\u001b[39m\u001b[39m.\u001b[39m\u001b[39m__name__\u001b[39m\u001b[39m}\u001b[39;00m\u001b[39m \u001b[39m\u001b[39m\"\u001b[39m\n\u001b[0;32m    402\u001b[0m         \u001b[39mf\u001b[39m\u001b[39m\"\u001b[39m\u001b[39mis expecting \u001b[39m\u001b[39m{\u001b[39;00m\u001b[39mself\u001b[39m\u001b[39m.\u001b[39mn_features_in_\u001b[39m}\u001b[39;00m\u001b[39m features as input.\u001b[39m\u001b[39m\"\u001b[39m\n\u001b[0;32m    403\u001b[0m     )\n",
      "\u001b[1;31mValueError\u001b[0m: X has 28 features, but Lasso is expecting 27 features as input."
     ]
    }
   ],
   "source": [
    "best_alpha = model_fit_lasso_cv.alpha_\n",
    "model_lasso = linear_model.Lasso(alpha = best_alpha, fit_intercept = True, normalize = False)\n",
    "model_fit_lasso = model_lasso.fit(X_train, y_train)\n",
    "print(model_fit_lasso.coef_)\n",
    "print(model_fit_lasso.intercept_)\n",
    "print(model_fit_lasso.score(X_test, y_test))"
   ]
  },
  {
   "cell_type": "markdown",
   "metadata": {},
   "source": [
    "# 6.2.2 Modelo para Tipo de Propiedad Apartment "
   ]
  },
  {
   "cell_type": "code",
   "execution_count": null,
   "metadata": {},
   "outputs": [],
   "source": [
    "# Para la generación del modelo en un nuevo tipo de Propiedad, trabajaremos sobre el DataFrame base. \n",
    "prop_prueba = propiedades.copy()"
   ]
  },
  {
   "cell_type": "code",
   "execution_count": null,
   "metadata": {},
   "outputs": [],
   "source": [
    "# Realizando 1era validación considerando sólo las variables predictoras relacionadas con superficie de la propiedad\n",
    "\n",
    "apartment = prop_prueba.loc[prop_prueba['property_type'] == 'apartment']\n",
    "    \n",
    "feature_cols = [x for x in apartment.columns if ((x != 'property_type') & (x != 'price_aprox_usd') & (x != 'place_name'))]\n",
    "    \n",
    "# Generando Train y Test \n",
    "X = apartment[feature_cols]\n",
    "y = apartment['price_aprox_usd']\n",
    "\n",
    "# División de los datos en train y test\n",
    "# ==============================================================================\n",
    "X_train, X_test, y_train, y_test = train_test_split(\n",
    "                                        X,\n",
    "                                        y,\n",
    "                                        train_size   = 0.8,\n",
    "                                        random_state = 123,\n",
    "                                     )  \n",
    "\n",
    "X = X_train[['surface_total_in_m2',\n",
    "       'surface_covered_in_m2']]\n",
    "y = y_train\n",
    "\n",
    "# Será agregada explícitamente una constante:\n",
    "X = sm.add_constant(X)\n",
    "\n",
    "model = sm.OLS(y, X).fit()\n",
    "print(model.summary())"
   ]
  },
  {
   "cell_type": "markdown",
   "metadata": {},
   "source": [
    "Como 1er ejercicio considerando como columnas predictoras aquellas relacionadas con superficie, obtenemos un R2 ajustado = R2 bajo de 0.36. Este valor será considerado como valor mínimo a mejorar con la adición de nuevas features al modelo. "
   ]
  },
  {
   "cell_type": "markdown",
   "metadata": {},
   "source": [
    "### 1era Ejecución (Tipo Propiedad Apartment)"
   ]
  },
  {
   "cell_type": "code",
   "execution_count": null,
   "metadata": {},
   "outputs": [],
   "source": [
    "# Ejecutando el modelo considerando todas las columnas\n",
    "\n",
    "tipo_propiedad_train('apartment')"
   ]
  },
  {
   "cell_type": "markdown",
   "metadata": {},
   "source": [
    "### 2da Ejecución (Tipo Propiedad Apartment)"
   ]
  },
  {
   "cell_type": "code",
   "execution_count": null,
   "metadata": {},
   "outputs": [],
   "source": [
    "# En 1era instancia serán eliminadas las features relacionadas con tipo de propiedad ya que sólo estamos estudiando las relaciones para 'apartment'\n",
    "\n",
    "prop_prueba.drop(['apartment', 'house', 'store'], axis = 1, inplace =True)\n",
    "\n",
    "\n",
    "# Eliminando todas estas columnas R2 ajustado disminuye a 47%\n",
    "#prop_prueba.drop(['apartment', 'house', 'store', 'amb_2.0','amb_3.0', 'amb_4.0', 'amb_5.0', \n",
    "#                            'amb_Mayor a 5', 'amb_No Informado'], axis = 1, inplace =True)\n",
    "\n",
    "prop_prueba.columns"
   ]
  },
  {
   "cell_type": "code",
   "execution_count": null,
   "metadata": {},
   "outputs": [],
   "source": [
    "tipo_propiedad_train('apartment')"
   ]
  },
  {
   "cell_type": "markdown",
   "metadata": {},
   "source": [
    "### 3era Ejecución (Tipo Propiedad Apartment)"
   ]
  },
  {
   "cell_type": "code",
   "execution_count": null,
   "metadata": {},
   "outputs": [],
   "source": [
    "# Considerando los valores obtenidos para p-values e IC con 95% de confianza, serán eliminadas features correspondientes a Capital Federal y Recoleta\n",
    "\n",
    "prop_prueba.drop(['Capital Federal', 'Recoleta'], axis = 1, inplace =True)\n",
    "prop_prueba.columns"
   ]
  },
  {
   "cell_type": "code",
   "execution_count": null,
   "metadata": {},
   "outputs": [],
   "source": [
    "tipo_propiedad_train('apartment')"
   ]
  },
  {
   "cell_type": "markdown",
   "metadata": {},
   "source": [
    "### 4ta Ejecución (Tipo Propiedad Apartment) -- No considerada"
   ]
  },
  {
   "cell_type": "code",
   "execution_count": null,
   "metadata": {},
   "outputs": [],
   "source": [
    "# Eliminando las features restantes relacionadas a los Barrios \n",
    "\n",
    "#prop_prueba.drop(['Almagro', 'Balvanera',\n",
    "#       'Barrio Norte', 'Belgrano', 'Boedo', 'Caballito', 'Flores', 'Monserrat',\n",
    "#       'Nuñez', 'Palermo', 'Puerto Madero', 'Saavedra', 'San Telmo',\n",
    "#       'Villa Crespo', 'Villa Urquiza'], axis = 1, inplace =True)"
   ]
  },
  {
   "cell_type": "markdown",
   "metadata": {},
   "source": [
    "# R2 ajustado disminuye a 38%\n",
    "\n",
    "![title](apartment_1.png)"
   ]
  },
  {
   "cell_type": "markdown",
   "metadata": {},
   "source": [
    "### 5ta Ejecución (Tipo Propiedad Apartment) -- No considerada"
   ]
  },
  {
   "cell_type": "code",
   "execution_count": null,
   "metadata": {},
   "outputs": [],
   "source": [
    "# Eliminando las features relacionadas con superficie\n",
    "\n",
    "## prop_prueba.drop(['surface_total_in_m2', 'surface_covered_in_m2'], axis = 1, inplace =True)"
   ]
  },
  {
   "cell_type": "markdown",
   "metadata": {},
   "source": [
    "Disminuye considerablemente (mas de 20%) el R2 , implicando menor poder predictivo para la variable precio por el modelo.\n",
    "\n",
    "![title](apartment_2.png)"
   ]
  },
  {
   "cell_type": "markdown",
   "metadata": {},
   "source": [
    "Considerando que la eliminación de features de diferente naturaleza (numero de ambientes, Barrios) no aumenta el valor de R2 o R2 ajustado, y por lo tanto no mejora la explicación de la variabilidad del modelo, serán tomadas las features de la 2da ejecución para proceder a la evaluación del modelo con el conjunto de datos de test.  "
   ]
  },
  {
   "cell_type": "markdown",
   "metadata": {},
   "source": [
    "## 6.2.2.1 Evaluando el modelo con datos del conjunto test"
   ]
  },
  {
   "cell_type": "code",
   "execution_count": null,
   "metadata": {},
   "outputs": [],
   "source": [
    "prediccion_modelo('apartment')"
   ]
  },
  {
   "cell_type": "code",
   "execution_count": null,
   "metadata": {},
   "outputs": [],
   "source": []
  },
  {
   "cell_type": "code",
   "execution_count": null,
   "metadata": {},
   "outputs": [],
   "source": []
  },
  {
   "cell_type": "code",
   "execution_count": null,
   "metadata": {},
   "outputs": [],
   "source": []
  },
  {
   "cell_type": "markdown",
   "metadata": {},
   "source": [
    "# 6.2.3 Modelo para Tipo de Propiedad House "
   ]
  },
  {
   "cell_type": "code",
   "execution_count": null,
   "metadata": {},
   "outputs": [],
   "source": [
    "# Para la generación del modelo en un nuevo tipo de Propiedad, trabajaremos sobre el DataFrame base. \n",
    "prop_prueba = propiedades.copy()"
   ]
  },
  {
   "cell_type": "code",
   "execution_count": null,
   "metadata": {},
   "outputs": [],
   "source": [
    "# Realizando 1era validación considerando sólo las variables predictoras relacionadas con superficie de la propiedad\n",
    "\n",
    "house = prop_prueba.loc[prop_prueba['property_type'] == 'house']\n",
    "\n",
    "feature_cols = [x for x in house.columns if ((x != 'property_type') & (x != 'price_aprox_usd') & (x != 'place_name'))]\n",
    "    \n",
    "# Generando Train y Test \n",
    "X = house[feature_cols]\n",
    "y = house['price_aprox_usd']\n",
    "\n",
    "# División de los datos en train y test\n",
    "# ==============================================================================\n",
    "X_train, X_test, y_train, y_test = train_test_split(\n",
    "                                        X,\n",
    "                                        y,\n",
    "                                        train_size   = 0.8,\n",
    "                                        random_state = 123,\n",
    "                                     )  \n",
    "\n",
    "X = X_train[['surface_total_in_m2',\n",
    "       'surface_covered_in_m2']]\n",
    "y = y_train\n",
    "\n",
    "# Será agregada explícitamente una constante:\n",
    "X = sm.add_constant(X)\n",
    "\n",
    "model = sm.OLS(y, X).fit()\n",
    "print(model.summary())"
   ]
  },
  {
   "cell_type": "markdown",
   "metadata": {},
   "source": [
    "Como 1er ejercicio considerando como columnas predictoras aquellas relacionadas con superficie, obtenemos un R2 ajustado mayor a 0.5. Este valor será considerado como valor mínimo a mejorar con la adición de nuevas features al modelo. "
   ]
  },
  {
   "cell_type": "markdown",
   "metadata": {},
   "source": [
    "### 1era Ejecución (Tipo Propiedad House)"
   ]
  },
  {
   "cell_type": "code",
   "execution_count": null,
   "metadata": {},
   "outputs": [],
   "source": [
    "tipo_propiedad_train('house')"
   ]
  },
  {
   "cell_type": "markdown",
   "metadata": {},
   "source": [
    "### 2da Ejecución (Tipo Propiedad House)"
   ]
  },
  {
   "cell_type": "code",
   "execution_count": null,
   "metadata": {},
   "outputs": [],
   "source": [
    "# Para el caso del tipo de Propiedad House, serán eliminadas las features relacionadas con \n",
    "# tipo de propiedad y numero de ambientes\n",
    "\n",
    "prop_prueba.drop(['apartment', 'house', 'store', 'amb_2.0','amb_3.0', 'amb_4.0', 'amb_5.0', \n",
    "                            'amb_Mayor a 5', 'amb_No Informado'], axis = 1, inplace =True)\n"
   ]
  },
  {
   "cell_type": "code",
   "execution_count": null,
   "metadata": {},
   "outputs": [],
   "source": [
    "tipo_propiedad_train('house')"
   ]
  },
  {
   "cell_type": "markdown",
   "metadata": {},
   "source": [
    "Eliminando las features relacionadas con tipo de propiedad y numero de ambientes, se obtiene el mismo valor de R2 ajustado que para la 1era ejecución, lo que podría sugerir que dichas features no estarían aportando en la explicación de la variabilidad de la columna target en el modelo."
   ]
  },
  {
   "cell_type": "markdown",
   "metadata": {},
   "source": [
    "### 3era Ejecución (Tipo Propiedad House)"
   ]
  },
  {
   "cell_type": "code",
   "execution_count": null,
   "metadata": {},
   "outputs": [],
   "source": [
    "# Para esta ejecución serán eliminadas las features relacionadas con barrios\n",
    "prop_prueba.drop(['Boedo', 'Nuñez', 'Caballito', 'Villa Crespo', 'Recoleta'], axis = 1, inplace =True)"
   ]
  },
  {
   "cell_type": "code",
   "execution_count": null,
   "metadata": {},
   "outputs": [],
   "source": [
    "tipo_propiedad_train('house')"
   ]
  },
  {
   "cell_type": "markdown",
   "metadata": {},
   "source": [
    "Los p-values obtenidos para el entrenamiento del tipo de propiedad 'House' con la 3era ejecución y anterior eliminación de features relacionadas con Barrios, sugieren que el valor de R2 ajustado alcanzado, que explica en mas del 60% la variabilidad de los resultados, es el valor máximo a registrar para este parámetro. \n",
    "\n",
    "Por ello, se procederá a evaluar el modelo considerando el grupo de datos para test. "
   ]
  },
  {
   "cell_type": "markdown",
   "metadata": {},
   "source": [
    "## 6.2.3.1 Evaluando el modelo con datos del conjunto test"
   ]
  },
  {
   "cell_type": "code",
   "execution_count": null,
   "metadata": {},
   "outputs": [],
   "source": [
    "prediccion_modelo('house')"
   ]
  },
  {
   "cell_type": "markdown",
   "metadata": {},
   "source": [
    "# 6.2.4 Modelo para Tipo de Propiedad Store "
   ]
  },
  {
   "cell_type": "code",
   "execution_count": null,
   "metadata": {},
   "outputs": [],
   "source": [
    "# Para la generación del modelo en un nuevo tipo de Propiedad, trabajaremos sobre el DataFrame base. \n",
    "prop_prueba = propiedades.copy()"
   ]
  },
  {
   "cell_type": "code",
   "execution_count": null,
   "metadata": {},
   "outputs": [],
   "source": [
    "# Como para los tipos de propiedades anteriores, la 1era validación sólo considerará \n",
    "# las variables predictoras relacionadas con superficie de la propiedad\n",
    "\n",
    "store = prop_prueba.loc[prop_prueba['property_type'] == 'store']\n",
    "\n",
    "feature_cols = [x for x in store.columns if ((x != 'property_type') & (x != 'price_aprox_usd') & (x != 'place_name'))]\n",
    "    \n",
    "# Generando Train y Test \n",
    "X = store[feature_cols]\n",
    "y = store['price_aprox_usd']\n",
    "\n",
    "# División de los datos en train y test\n",
    "# ==============================================================================\n",
    "X_train, X_test, y_train, y_test = train_test_split(\n",
    "                                        X,\n",
    "                                        y,\n",
    "                                        train_size   = 0.8,\n",
    "                                        random_state = 123,\n",
    "                                     )  \n",
    "\n",
    "X = X_train[['surface_total_in_m2',\n",
    "       'surface_covered_in_m2']]\n",
    "y = y_train\n",
    "\n",
    "# Será agregada explícitamente una constante:\n",
    "X = sm.add_constant(X)\n",
    "\n",
    "model = sm.OLS(y, X).fit()\n",
    "print(model.summary())"
   ]
  },
  {
   "cell_type": "markdown",
   "metadata": {},
   "source": [
    "Siguiendo la misma metodología que para las otras propiedades, en este caso considerando sólo las features relacionadas con superficie se logra explicar en un 62% la variabilidad de los resultados. Dicho valor será considerado como valor base a mejorar en el entrenamiento del modelo. "
   ]
  },
  {
   "cell_type": "markdown",
   "metadata": {},
   "source": [
    "### 1era Ejecución (Tipo Propiedad Store)"
   ]
  },
  {
   "cell_type": "code",
   "execution_count": null,
   "metadata": {},
   "outputs": [],
   "source": [
    "tipo_propiedad_train('store')"
   ]
  },
  {
   "cell_type": "markdown",
   "metadata": {},
   "source": [
    "### 2da Ejecución (Tipo Propiedad Store)"
   ]
  },
  {
   "cell_type": "code",
   "execution_count": null,
   "metadata": {},
   "outputs": [],
   "source": [
    "# Para el caso del tipo de Propiedad Store, serán eliminadas las features relacionadas con \n",
    "# tipo de propiedad y numero de ambientes\n",
    "\n",
    "prop_prueba.drop(['apartment', 'house', 'store', 'amb_2.0','amb_3.0', 'amb_4.0', 'amb_5.0', \n",
    "                            'amb_Mayor a 5', 'amb_No Informado'], axis = 1, inplace =True)"
   ]
  },
  {
   "cell_type": "code",
   "execution_count": null,
   "metadata": {},
   "outputs": [],
   "source": [
    "tipo_propiedad_train('store')"
   ]
  },
  {
   "cell_type": "markdown",
   "metadata": {},
   "source": [
    "Eliminando las features relacionadas con tipo de propiedad y numero de ambientes, se observa una mínima mejora para el valor de R2 ajustado respecto a la 1era ejecución, lo que podría sugerir que dichas features no estarían aportando en la explicación de la variabilidad de la columna target en el modelo."
   ]
  },
  {
   "cell_type": "markdown",
   "metadata": {},
   "source": [
    "### 3era Ejecución (Tipo Propiedad Store)"
   ]
  },
  {
   "cell_type": "code",
   "execution_count": null,
   "metadata": {},
   "outputs": [],
   "source": [
    "# Para esta ejecución serán eliminadas las features relacionadas con barrios cuyo p-values son los más elevados \n",
    "prop_prueba.drop(['Balvanera', 'Saavedra', 'Flores', 'Belgrano', 'Villa Crespo', \n",
    "                    'Almagro', 'Barrio Norte'], axis = 1, inplace =True)"
   ]
  },
  {
   "cell_type": "code",
   "execution_count": null,
   "metadata": {},
   "outputs": [],
   "source": [
    "tipo_propiedad_train('store')"
   ]
  },
  {
   "cell_type": "markdown",
   "metadata": {},
   "source": [
    "Los p-values obtenidos para el entrenamiento del tipo de propiedad 'Store' con la 3era ejecución y anterior eliminación de features relacionadas con Barrios, encuentra una mejora del R2 ajustado alcanzado, que explica en mas del 65% la variabilidad de los resultados, es el valor máximo a registrar para este parámetro. \n",
    "\n",
    "Por ello, se procederá a evaluar el modelo considerando el grupo de datos para test. "
   ]
  },
  {
   "cell_type": "markdown",
   "metadata": {},
   "source": [
    "## 6.2.4.1 Evaluando el modelo con datos del conjunto test\n"
   ]
  },
  {
   "cell_type": "code",
   "execution_count": null,
   "metadata": {},
   "outputs": [],
   "source": [
    "prediccion_modelo('store')"
   ]
  },
  {
   "cell_type": "markdown",
   "metadata": {},
   "source": [
    "Hay overfitting en el Store, estudiar este caso"
   ]
  },
  {
   "cell_type": "markdown",
   "metadata": {},
   "source": [
    "# Mirar el código hasta acá"
   ]
  },
  {
   "cell_type": "code",
   "execution_count": null,
   "metadata": {},
   "outputs": [],
   "source": []
  },
  {
   "cell_type": "markdown",
   "metadata": {},
   "source": []
  },
  {
   "cell_type": "markdown",
   "metadata": {},
   "source": []
  },
  {
   "cell_type": "markdown",
   "metadata": {},
   "source": []
  },
  {
   "cell_type": "markdown",
   "metadata": {},
   "source": []
  },
  {
   "cell_type": "markdown",
   "metadata": {},
   "source": []
  },
  {
   "cell_type": "markdown",
   "metadata": {},
   "source": []
  },
  {
   "cell_type": "markdown",
   "metadata": {},
   "source": [
    "## Regularización RIDGE"
   ]
  },
  {
   "cell_type": "markdown",
   "metadata": {},
   "source": [
    "Vamos a elegir el tipo de propiedad 'Apartment' por tener mayor cantidad de datos y menor R2, en búsqueda de mejorar su valor. "
   ]
  },
  {
   "cell_type": "markdown",
   "metadata": {},
   "source": []
  },
  {
   "cell_type": "code",
   "execution_count": null,
   "metadata": {},
   "outputs": [],
   "source": [
    "# Para la generación del modelo en un nuevo tipo de Propiedad, trabajaremos sobre el DataFrame base. \n",
    "prop_prueba = propiedades.copy()"
   ]
  },
  {
   "cell_type": "code",
   "execution_count": null,
   "metadata": {},
   "outputs": [],
   "source": [
    "apartment = prop_prueba.loc[prop_prueba['property_type'] == 'apartment']\n",
    "\n",
    "apartment.drop(['apartment', 'house', 'store', 'Capital Federal', 'Recoleta' ], axis = 1, inplace =True)\n",
    "    \n",
    "feature_cols = [x for x in apartment.columns if ((x != 'property_type') & (x != 'price_aprox_usd') & (x != 'place_name'))]\n",
    "    \n",
    "# Generando Train y Test \n",
    "X = apartment[feature_cols]\n",
    "y = apartment['price_aprox_usd']\n",
    "\n",
    "\n",
    "\n",
    "\n",
    "# División de los datos en train y test\n",
    "# ==============================================================================\n",
    "X_train, X_test, y_train, y_test = train_test_split(\n",
    "                                        X,\n",
    "                                        y,\n",
    "                                        train_size   = 0.8,\n",
    "                                        random_state = 123,\n",
    "                                     )  \n",
    "\n",
    "\n",
    "# Normalizando los datos \n",
    "\n",
    "from sklearn.preprocessing import StandardScaler\n",
    "\n",
    "Stdscaler = StandardScaler()\n",
    "X_train = Stdscaler.fit_transform(X_train)\n",
    "X_test = Stdscaler.transform(X_test)\n",
    "\n",
    "\n",
    "\n",
    "\n"
   ]
  },
  {
   "cell_type": "code",
   "execution_count": null,
   "metadata": {},
   "outputs": [],
   "source": [
    "# Creación y entrenamiento del modelo (con búsqueda por CV del valor óptimo alpha)\n",
    "# ==============================================================================\n",
    "# Por defecto RidgeCV utiliza el mean squared error\n",
    "\n",
    "modelo = RidgeCV(\n",
    "            alphas          = np.logspace(-3, 2, 10),\n",
    "            fit_intercept   = True,\n",
    "            normalize       = True,\n",
    "            )\n",
    "\n",
    "_ = modelo.fit(X = X_train, y = y_train)"
   ]
  },
  {
   "cell_type": "markdown",
   "metadata": {},
   "source": [
    "Para evaluar cómo se aproximan a cero los coeficientes a medida que se incrementa el valor de alpha y la evolución del error de validación cruzada en función del alpha empleado."
   ]
  },
  {
   "cell_type": "code",
   "execution_count": null,
   "metadata": {},
   "outputs": [],
   "source": [
    "alphas = modelo.alphas\n",
    "\n",
    "coefs = []\n",
    "\n",
    "for alpha in alphas:\n",
    "    modelo_temp = Ridge(alpha=alpha, fit_intercept=False, normalize = True)\n",
    "    modelo_temp.fit(X_train, y_train)\n",
    "    coefs.append(modelo_temp.coef_.flatten())\n",
    "\n",
    "\n",
    "fig, ax = plt.subplots(figsize=(7, 3.84))\n",
    "ax.plot(alphas, coefs)\n",
    "ax.set_xscale('log')\n",
    "ax.set_xlabel('alpha')\n",
    "ax.set_ylabel('coeficientes')\n",
    "ax.set_title('Coeficientes del modelo en función de la regularización');\n",
    "plt.axis('tight')\n",
    "plt.show()"
   ]
  },
  {
   "cell_type": "code",
   "execution_count": null,
   "metadata": {},
   "outputs": [],
   "source": [
    "# Evolución del error en función de alpha\n",
    "# ==============================================================================\n",
    "# modelo.cv_values almacena el mse de cv para cada valor de alpha. Tiene\n",
    "# dimensiones (n_samples, n_targets, n_alphas)\n",
    "mse_cv = modelo.cv_values_.reshape((-1, 200)).mean(axis=0)\n",
    "mse_sd = modelo.cv_values_.reshape((-1, 200)).std(axis=0)\n",
    "\n",
    "# Se aplica la raíz cuadrada para pasar de mse a rmse\n",
    "rmse_cv = np.sqrt(mse_cv)\n",
    "rmse_sd = np.sqrt(mse_sd)\n",
    "\n",
    "# Se identifica el óptimo y el óptimo + 1std\n",
    "min_rmse     = np.min(rmse_cv)\n",
    "sd_min_rmse  = rmse_sd[np.argmin(rmse_cv)]\n",
    "min_rsme_1sd = np.max(rmse_cv[rmse_cv <= min_rmse + sd_min_rmse])\n",
    "optimo       = modelo.alphas[np.argmin(rmse_cv)]\n",
    "optimo_1sd   = modelo.alphas[rmse_cv == min_rsme_1sd]\n",
    "\n",
    "\n",
    "# Gráfico del error +- 1 desviación estándar\n",
    "fig, ax = plt.subplots(figsize=(7, 3.84))\n",
    "ax.plot(modelo.alphas, rmse_cv)\n",
    "ax.fill_between(\n",
    "    modelo.alphas,\n",
    "    rmse_cv + rmse_sd,\n",
    "    rmse_cv - rmse_sd,\n",
    "    alpha=0.2\n",
    ")\n",
    "\n",
    "ax.axvline(\n",
    "    x         = optimo,\n",
    "    c         = \"gray\",\n",
    "    linestyle = '--',\n",
    "    label     = 'óptimo'\n",
    ")\n",
    "\n",
    "ax.axvline(\n",
    "    x         = optimo_1sd,\n",
    "    c         = \"blue\",\n",
    "    linestyle = '--',\n",
    "    label     = 'óptimo_1sd'\n",
    ")\n",
    "ax.set_xscale('log')\n",
    "ax.set_ylim([0,None])\n",
    "ax.set_title('Evolución del error CV en función de la regularización')\n",
    "ax.set_xlabel('alpha')\n",
    "ax.set_ylabel('RMSE')\n",
    "plt.legend();"
   ]
  },
  {
   "cell_type": "code",
   "execution_count": null,
   "metadata": {},
   "outputs": [],
   "source": [
    "# Mejor valor alpha encontrado\n",
    "# ==============================================================================\n",
    "print(f\"Mejor valor de alpha encontrado: {modelo.alpha_}\")"
   ]
  },
  {
   "cell_type": "code",
   "execution_count": null,
   "metadata": {},
   "outputs": [],
   "source": [
    "# Coeficientes del modelo\n",
    "# ==============================================================================\n",
    "df_coeficientes = pd.DataFrame(\n",
    "                        {'predictor': X_train.columns,\n",
    "                         'coef': modelo.coef_.flatten()}\n",
    "                  )\n",
    "\n",
    "fig, ax = plt.subplots(figsize=(11, 3.84))\n",
    "ax.stem(df_coeficientes.predictor, df_coeficientes.coef, markerfmt=' ')\n",
    "plt.xticks(rotation=90, ha='right', size=5)\n",
    "ax.set_xlabel('variable')\n",
    "ax.set_ylabel('coeficientes')\n",
    "ax.set_title('Coeficientes del modelo');"
   ]
  },
  {
   "cell_type": "code",
   "execution_count": null,
   "metadata": {},
   "outputs": [],
   "source": [
    "# Predicciones test\n",
    "# ==============================================================================\n",
    "predicciones = modelo.predict(X=X_test)\n",
    "predicciones = predicciones.flatten()\n",
    "predicciones[:10]"
   ]
  },
  {
   "cell_type": "code",
   "execution_count": null,
   "metadata": {},
   "outputs": [],
   "source": [
    "# Error de test del modelo \n",
    "# ==============================================================================\n",
    "rmse_ridge = mean_squared_error(\n",
    "                y_true  = y_test,\n",
    "                y_pred  = predicciones,\n",
    "                squared = False\n",
    "             )\n",
    "print(\"\")\n",
    "print(f\"El error (rmse) de test es: {rmse_ridge}\")"
   ]
  },
  {
   "cell_type": "markdown",
   "metadata": {},
   "source": []
  },
  {
   "cell_type": "markdown",
   "metadata": {},
   "source": []
  },
  {
   "cell_type": "markdown",
   "metadata": {},
   "source": [
    "## 2.2 Discriminando por tipo de propiedad y ubicación"
   ]
  },
  {
   "cell_type": "code",
   "execution_count": null,
   "metadata": {},
   "outputs": [],
   "source": [
    "def OLS_ubicacion_propiedad(property_type, ubicacion = 'Capital Federal'):\n",
    "    property_type = propiedades.loc[(propiedades['property_type'] == property_type) & (propiedades['state_name'] == ubicacion) ]\n",
    "    feature_cols = [x for x in property_type.columns if ((x != 'property_type') & (x != 'price_aprox_usd') & (x != 'state_name'))]\n",
    "    \n",
    "    # Generando modelo OLS\n",
    "    X = property_type[feature_cols]\n",
    "    y = property_type['price_aprox_usd']\n",
    "\n",
    "    # Será agregada explícitamente una constante:\n",
    "    X = sm.add_constant(X)\n",
    "\n",
    "    model = sm.OLS(y, X).fit()\n",
    "    return model.summary()"
   ]
  },
  {
   "cell_type": "markdown",
   "metadata": {},
   "source": [
    "## Ridge Regression"
   ]
  },
  {
   "cell_type": "code",
   "execution_count": null,
   "metadata": {},
   "outputs": [],
   "source": [
    "def linear_regression_train(property_type, ubicacion):\n",
    "    property_type = propiedades.loc[(propiedades['property_type'] == property_type) & (propiedades['state_name'] == ubicacion) ]\n",
    "    feature_cols = [x for x in property_type.columns if ((x != 'property_type') & (x != 'price_aprox_usd') & (x != 'state_name'))]\n",
    "    X = property_type[feature_cols]\n",
    "    y = property_type['price_aprox_usd']\n",
    "    Xtrain, Xtest, ytrain, ytest = train_test_split(X, y, random_state=123)\n",
    "    # Hay que normalizar las variables\n",
    "    Xtrain_sklearn = Xtrain[feature_cols]\n",
    "    model = LinearRegression(fit_intercept=True)\n",
    "\n",
    "    model.fit(Xtrain_sklearn, ytrain)\n",
    "\n",
    "    return model.coef_, model.intercept_\n"
   ]
  },
  {
   "cell_type": "code",
   "execution_count": null,
   "metadata": {},
   "outputs": [],
   "source": [
    "linear_regression_train('apartment', 'Capital Federal')"
   ]
  },
  {
   "cell_type": "code",
   "execution_count": null,
   "metadata": {},
   "outputs": [],
   "source": [
    "# Modelo de Regresión lineal\n",
    "Xtrain_sklearn = Xtrain[feature_cols]\n",
    "#deberiamos normalizar las features!! van a ver cómo hacerlo en la práctica guiada\n",
    "\n",
    "model = LinearRegression(fit_intercept=True)\n",
    "\n",
    "model.fit(Xtrain_sklearn, ytrain)\n",
    "\n",
    "print(model.coef_)\n",
    "\n",
    "print(model.intercept_)"
   ]
  },
  {
   "cell_type": "code",
   "execution_count": null,
   "metadata": {},
   "outputs": [],
   "source": [
    "# Aplicando Ridge Regression\n",
    "\n",
    "rlm = linear_model.Ridge(alpha=0.5, normalize=True)\n",
    "\n",
    "# Ajustamos nuevamente, esta vez con regularizacion\n",
    "X = np.vander(xs, 4)[:,:-1]\n",
    "y = ys\n",
    "\n",
    "ridge_model = rlm.fit(X, y)\n",
    "predictions = ridge_model.predict(X)\n",
    "\n",
    "plt.scatter(xs, ys)\n",
    "\n",
    "plt.title(\"Muestra de datos #1\")\n",
    "plt.scatter(xs, predictions, c='r')\n",
    "print (\"r^2:\", ridge_model.score(X, ys))"
   ]
  },
  {
   "cell_type": "markdown",
   "metadata": {},
   "source": [
    "# Falta hacer un modelo considerando otra zona geográfica \n",
    "\n",
    "# Averiguar cuando se hace el Scaler(escalado)"
   ]
  }
 ],
 "metadata": {
  "kernelspec": {
   "display_name": "Python 3.10.4 ('DH')",
   "language": "python",
   "name": "python3"
  },
  "language_info": {
   "codemirror_mode": {
    "name": "ipython",
    "version": 3
   },
   "file_extension": ".py",
   "mimetype": "text/x-python",
   "name": "python",
   "nbconvert_exporter": "python",
   "pygments_lexer": "ipython3",
   "version": "3.10.4"
  },
  "orig_nbformat": 4,
  "vscode": {
   "interpreter": {
    "hash": "9857d48f239df9063f33c484c8a15575ed7cd531fd1c9fe7d3bfd80a2c89c19b"
   }
  }
 },
 "nbformat": 4,
 "nbformat_minor": 2
}
