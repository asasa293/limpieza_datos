{
 "cells": [
  {
   "attachments": {},
   "cell_type": "markdown",
   "metadata": {},
   "source": [
    "### ANÁLISIS DE SERIES DE TIEMPO (VARIACIÓN DE VALOR DE DIFERENTES MONEDAS)"
   ]
  },
  {
   "attachments": {},
   "cell_type": "markdown",
   "metadata": {},
   "source": [
    "Considerando un dataset extraído de la api \"oanda\", que contiene el histórico de la variación por hora del valor de diferentes pares de monedas (EUR-USD, AUD-USD, etc), se propone lo siguiente: "
   ]
  },
  {
   "attachments": {},
   "cell_type": "markdown",
   "metadata": {},
   "source": [
    "* Desarrollar un modelo ARIMA que permita predecir el precio de las monedas en días futuros (forecasting). \n",
    "* Desarrollar un modelo ARMA que permita predecir el precio de las monedas en días futuros (forecasting). \n",
    "* Desarrollar un modelo de clasificación para determinar regímenes de mercado.  "
   ]
  },
  {
   "attachments": {},
   "cell_type": "markdown",
   "metadata": {},
   "source": [
    "### Lectura del Dataframe "
   ]
  },
  {
   "cell_type": "code",
   "execution_count": 1,
   "metadata": {},
   "outputs": [],
   "source": [
    "import pandas as pd\n",
    "import os\n",
    "import glob"
   ]
  },
  {
   "cell_type": "code",
   "execution_count": 2,
   "metadata": {},
   "outputs": [
    {
     "data": {
      "text/html": [
       "<div>\n",
       "<style scoped>\n",
       "    .dataframe tbody tr th:only-of-type {\n",
       "        vertical-align: middle;\n",
       "    }\n",
       "\n",
       "    .dataframe tbody tr th {\n",
       "        vertical-align: top;\n",
       "    }\n",
       "\n",
       "    .dataframe thead th {\n",
       "        text-align: right;\n",
       "    }\n",
       "</style>\n",
       "<table border=\"1\" class=\"dataframe\">\n",
       "  <thead>\n",
       "    <tr style=\"text-align: right;\">\n",
       "      <th></th>\n",
       "      <th>open_bid</th>\n",
       "      <th>high_bid</th>\n",
       "      <th>low_bid</th>\n",
       "      <th>close_bid</th>\n",
       "      <th>open_ask</th>\n",
       "      <th>high_ask</th>\n",
       "      <th>low_ask</th>\n",
       "      <th>close_ask</th>\n",
       "    </tr>\n",
       "    <tr>\n",
       "      <th>time</th>\n",
       "      <th></th>\n",
       "      <th></th>\n",
       "      <th></th>\n",
       "      <th></th>\n",
       "      <th></th>\n",
       "      <th></th>\n",
       "      <th></th>\n",
       "      <th></th>\n",
       "    </tr>\n",
       "  </thead>\n",
       "  <tbody>\n",
       "    <tr>\n",
       "      <th>2015-01-27 08 PM</th>\n",
       "      <td>0.79375</td>\n",
       "      <td>0.79524</td>\n",
       "      <td>0.79347</td>\n",
       "      <td>0.79383</td>\n",
       "      <td>0.79393</td>\n",
       "      <td>0.79549</td>\n",
       "      <td>0.79366</td>\n",
       "      <td>0.79405</td>\n",
       "    </tr>\n",
       "    <tr>\n",
       "      <th>2015-01-27 09 PM</th>\n",
       "      <td>0.79382</td>\n",
       "      <td>0.79382</td>\n",
       "      <td>0.79265</td>\n",
       "      <td>0.79344</td>\n",
       "      <td>0.79405</td>\n",
       "      <td>0.79405</td>\n",
       "      <td>0.79287</td>\n",
       "      <td>0.79402</td>\n",
       "    </tr>\n",
       "    <tr>\n",
       "      <th>2015-01-27 10 PM</th>\n",
       "      <td>0.79338</td>\n",
       "      <td>0.79364</td>\n",
       "      <td>0.79243</td>\n",
       "      <td>0.79250</td>\n",
       "      <td>0.79385</td>\n",
       "      <td>0.79413</td>\n",
       "      <td>0.79283</td>\n",
       "      <td>0.79283</td>\n",
       "    </tr>\n",
       "    <tr>\n",
       "      <th>2015-01-27 11 PM</th>\n",
       "      <td>0.79256</td>\n",
       "      <td>0.79304</td>\n",
       "      <td>0.79184</td>\n",
       "      <td>0.79197</td>\n",
       "      <td>0.79290</td>\n",
       "      <td>0.79333</td>\n",
       "      <td>0.79204</td>\n",
       "      <td>0.79219</td>\n",
       "    </tr>\n",
       "    <tr>\n",
       "      <th>2015-01-28</th>\n",
       "      <td>0.79197</td>\n",
       "      <td>0.80024</td>\n",
       "      <td>0.78991</td>\n",
       "      <td>0.79930</td>\n",
       "      <td>0.79216</td>\n",
       "      <td>0.80055</td>\n",
       "      <td>0.79017</td>\n",
       "      <td>0.79952</td>\n",
       "    </tr>\n",
       "  </tbody>\n",
       "</table>\n",
       "</div>"
      ],
      "text/plain": [
       "                  open_bid  high_bid  low_bid  close_bid  open_ask  high_ask  \\\n",
       "time                                                                           \n",
       "2015-01-27 08 PM   0.79375   0.79524  0.79347    0.79383   0.79393   0.79549   \n",
       "2015-01-27 09 PM   0.79382   0.79382  0.79265    0.79344   0.79405   0.79405   \n",
       "2015-01-27 10 PM   0.79338   0.79364  0.79243    0.79250   0.79385   0.79413   \n",
       "2015-01-27 11 PM   0.79256   0.79304  0.79184    0.79197   0.79290   0.79333   \n",
       "2015-01-28         0.79197   0.80024  0.78991    0.79930   0.79216   0.80055   \n",
       "\n",
       "                  low_ask  close_ask  \n",
       "time                                  \n",
       "2015-01-27 08 PM  0.79366    0.79405  \n",
       "2015-01-27 09 PM  0.79287    0.79402  \n",
       "2015-01-27 10 PM  0.79283    0.79283  \n",
       "2015-01-27 11 PM  0.79204    0.79219  \n",
       "2015-01-28        0.79017    0.79952  "
      ]
     },
     "execution_count": 2,
     "metadata": {},
     "output_type": "execute_result"
    }
   ],
   "source": [
    "datos = pd.read_csv(r'AUD_USD_H1.csv',index_col= 'time')\n",
    "datos.head(5)"
   ]
  },
  {
   "cell_type": "code",
   "execution_count": 3,
   "metadata": {},
   "outputs": [
    {
     "data": {
      "text/plain": [
       "(50000, 8)"
      ]
     },
     "execution_count": 3,
     "metadata": {},
     "output_type": "execute_result"
    }
   ],
   "source": [
    "datos.shape"
   ]
  },
  {
   "attachments": {},
   "cell_type": "markdown",
   "metadata": {},
   "source": [
    "* Descripción del Dataframe.\n",
    "\n",
    "* time: Hora en de apertura para cada periodo.\n",
    "open_bid : Precio de apertura para la venta  a la hora indicada. \n",
    "high_bid : Precio más alto de venta del usuario para esa hora. \n",
    "low_bid : Precio más bajo de venta del usuario para esa hora.\n",
    "close_bid: Precio de cierre para la venta a la hora indicada.\n",
    "open_ask : Precio de apertura para la compra a la hora indicada. \n",
    "high_ask : Precio más alto de compra para el usuario para esa hora. \n",
    "low_ask : Precio más bajo de compra para usuario para esa hora.\n",
    "close_ask : Precio de cierre para la compra a la hora indicada."
   ]
  },
  {
   "cell_type": "code",
   "execution_count": 2,
   "metadata": {},
   "outputs": [],
   "source": [
    "# Lista de todos los .csv de datos \n",
    "path = os.getcwd() \n",
    "files = [os.path.join(path, file) for file in os.listdir(path) if '.csv' in file]\n",
    "\n",
    "# Generación de DataFrame\n",
    "df = pd.concat(map(pd.read_csv, files), ignore_index=True)\n",
    "# Colocar columna time como índice del DataFrame\n",
    "df.index = df.time\n",
    "\n",
    "# Eliminar columna y definición de DataFrame a utilizar\n",
    "datos = df.drop(['time'], axis = 1)\n",
    "datos.head()"
   ]
  }
 ],
 "metadata": {
  "kernelspec": {
   "display_name": "DH",
   "language": "python",
   "name": "python3"
  },
  "language_info": {
   "codemirror_mode": {
    "name": "ipython",
    "version": 3
   },
   "file_extension": ".py",
   "mimetype": "text/x-python",
   "name": "python",
   "nbconvert_exporter": "python",
   "pygments_lexer": "ipython3",
   "version": "3.10.6"
  },
  "orig_nbformat": 4,
  "vscode": {
   "interpreter": {
    "hash": "6becbed91c3db0de89d3be7d755cbeeac818c5017507b382c86305c080f557e9"
   }
  }
 },
 "nbformat": 4,
 "nbformat_minor": 2
}
