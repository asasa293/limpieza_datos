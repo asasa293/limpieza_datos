{
 "cells": [
  {
   "attachments": {},
   "cell_type": "markdown",
   "metadata": {},
   "source": [
    "### ANÁLISIS DE SERIES DE TIEMPO (VARIACIÓN DE VALOR DE DIFERENTES MONEDAS)"
   ]
  },
  {
   "attachments": {},
   "cell_type": "markdown",
   "metadata": {},
   "source": [
    "Considerando un dataset extraído de la api \"oanda\", que contiene el histórico de la variación por hora del valor de diferentes pares de monedas (EUR-USD, AUD-USD, etc), se propone lo siguiente: "
   ]
  },
  {
   "attachments": {},
   "cell_type": "markdown",
   "metadata": {},
   "source": [
    "* Desarrollar un modelo ARIMA que permita predecir el precio de las monedas en días futuros (forecasting). \n",
    "sólo para una moneda por ejemplo, Euro - Dólar.\n",
    "\n",
    "\n",
    "\n",
    "* Desarrollar un modelo ARMA que permita predecir el precio de las monedas en días futuros (forecasting). \n",
    "\n",
    "* Desarrollar un modelo de clasificación para determinar regímenes de mercado.  "
   ]
  },
  {
   "attachments": {},
   "cell_type": "markdown",
   "metadata": {},
   "source": [
    "## 1. Lectura del Dataframe "
   ]
  },
  {
   "cell_type": "code",
   "execution_count": 1,
   "metadata": {},
   "outputs": [],
   "source": [
    "import pandas as pd\n",
    "import os"
   ]
  },
  {
   "cell_type": "code",
   "execution_count": 3,
   "metadata": {},
   "outputs": [
    {
     "name": "stdout",
     "output_type": "stream",
     "text": [
      "El dataframe que se construye con las variaciones de cotización de moneda está compuesto por 8 columnas y 50000 filas\n"
     ]
    },
    {
     "data": {
      "text/html": [
       "<div>\n",
       "<style scoped>\n",
       "    .dataframe tbody tr th:only-of-type {\n",
       "        vertical-align: middle;\n",
       "    }\n",
       "\n",
       "    .dataframe tbody tr th {\n",
       "        vertical-align: top;\n",
       "    }\n",
       "\n",
       "    .dataframe thead th {\n",
       "        text-align: right;\n",
       "    }\n",
       "</style>\n",
       "<table border=\"1\" class=\"dataframe\">\n",
       "  <thead>\n",
       "    <tr style=\"text-align: right;\">\n",
       "      <th></th>\n",
       "      <th>open_bid</th>\n",
       "      <th>high_bid</th>\n",
       "      <th>low_bid</th>\n",
       "      <th>close_bid</th>\n",
       "      <th>open_ask</th>\n",
       "      <th>high_ask</th>\n",
       "      <th>low_ask</th>\n",
       "      <th>close_ask</th>\n",
       "    </tr>\n",
       "    <tr>\n",
       "      <th>time</th>\n",
       "      <th></th>\n",
       "      <th></th>\n",
       "      <th></th>\n",
       "      <th></th>\n",
       "      <th></th>\n",
       "      <th></th>\n",
       "      <th></th>\n",
       "      <th></th>\n",
       "    </tr>\n",
       "  </thead>\n",
       "  <tbody>\n",
       "    <tr>\n",
       "      <th>2015-01-27 08 PM</th>\n",
       "      <td>0.79375</td>\n",
       "      <td>0.79524</td>\n",
       "      <td>0.79347</td>\n",
       "      <td>0.79383</td>\n",
       "      <td>0.79393</td>\n",
       "      <td>0.79549</td>\n",
       "      <td>0.79366</td>\n",
       "      <td>0.79405</td>\n",
       "    </tr>\n",
       "    <tr>\n",
       "      <th>2015-01-27 09 PM</th>\n",
       "      <td>0.79382</td>\n",
       "      <td>0.79382</td>\n",
       "      <td>0.79265</td>\n",
       "      <td>0.79344</td>\n",
       "      <td>0.79405</td>\n",
       "      <td>0.79405</td>\n",
       "      <td>0.79287</td>\n",
       "      <td>0.79402</td>\n",
       "    </tr>\n",
       "    <tr>\n",
       "      <th>2015-01-27 10 PM</th>\n",
       "      <td>0.79338</td>\n",
       "      <td>0.79364</td>\n",
       "      <td>0.79243</td>\n",
       "      <td>0.79250</td>\n",
       "      <td>0.79385</td>\n",
       "      <td>0.79413</td>\n",
       "      <td>0.79283</td>\n",
       "      <td>0.79283</td>\n",
       "    </tr>\n",
       "    <tr>\n",
       "      <th>2015-01-27 11 PM</th>\n",
       "      <td>0.79256</td>\n",
       "      <td>0.79304</td>\n",
       "      <td>0.79184</td>\n",
       "      <td>0.79197</td>\n",
       "      <td>0.79290</td>\n",
       "      <td>0.79333</td>\n",
       "      <td>0.79204</td>\n",
       "      <td>0.79219</td>\n",
       "    </tr>\n",
       "    <tr>\n",
       "      <th>2015-01-28</th>\n",
       "      <td>0.79197</td>\n",
       "      <td>0.80024</td>\n",
       "      <td>0.78991</td>\n",
       "      <td>0.79930</td>\n",
       "      <td>0.79216</td>\n",
       "      <td>0.80055</td>\n",
       "      <td>0.79017</td>\n",
       "      <td>0.79952</td>\n",
       "    </tr>\n",
       "  </tbody>\n",
       "</table>\n",
       "</div>"
      ],
      "text/plain": [
       "                  open_bid  high_bid  low_bid  close_bid  open_ask  high_ask  \\\n",
       "time                                                                           \n",
       "2015-01-27 08 PM   0.79375   0.79524  0.79347    0.79383   0.79393   0.79549   \n",
       "2015-01-27 09 PM   0.79382   0.79382  0.79265    0.79344   0.79405   0.79405   \n",
       "2015-01-27 10 PM   0.79338   0.79364  0.79243    0.79250   0.79385   0.79413   \n",
       "2015-01-27 11 PM   0.79256   0.79304  0.79184    0.79197   0.79290   0.79333   \n",
       "2015-01-28         0.79197   0.80024  0.78991    0.79930   0.79216   0.80055   \n",
       "\n",
       "                  low_ask  close_ask  \n",
       "time                                  \n",
       "2015-01-27 08 PM  0.79366    0.79405  \n",
       "2015-01-27 09 PM  0.79287    0.79402  \n",
       "2015-01-27 10 PM  0.79283    0.79283  \n",
       "2015-01-27 11 PM  0.79204    0.79219  \n",
       "2015-01-28        0.79017    0.79952  "
      ]
     },
     "execution_count": 3,
     "metadata": {},
     "output_type": "execute_result"
    }
   ],
   "source": [
    "datos = pd.read_csv(r'AUD_USD_H1.csv',index_col= 'time')\n",
    "print(f'El dataframe que se construye con las variaciones de cotización de moneda está compuesto por {datos.shape[1]} columnas y {datos.shape[0]} filas') \n",
    "\n",
    "datos.head(5)"
   ]
  },
  {
   "cell_type": "code",
   "execution_count": 4,
   "metadata": {},
   "outputs": [
    {
     "data": {
      "text/plain": [
       "(50000, 8)"
      ]
     },
     "execution_count": 4,
     "metadata": {},
     "output_type": "execute_result"
    }
   ],
   "source": [
    "datos.shape"
   ]
  },
  {
   "attachments": {},
   "cell_type": "markdown",
   "metadata": {},
   "source": [
    "* Descripción del Dataframe.\n",
    "\n",
    "* time: Hora en de apertura para cada periodo.\n",
    "\n",
    "open_bid : Precio de apertura para la venta  a la hora indicada. \n",
    "\n",
    "high_bid : Precio más alto de venta del usuario para esa hora. \n",
    "\n",
    "low_bid : Precio más bajo de venta del usuario para esa hora.\n",
    "\n",
    "close_bid: Precio de cierre para la venta a la hora indicada.\n",
    "\n",
    "open_ask : Precio de apertura para la compra a la hora indicada. \n",
    "\n",
    "high_ask : Precio más alto de compra para el usuario para esa hora. \n",
    "\n",
    "low_ask : Precio más bajo de compra para usuario para esa hora.\n",
    "\n",
    "close_ask : Precio de cierre para la compra a la hora indicada."
   ]
  },
  {
   "cell_type": "code",
   "execution_count": 5,
   "metadata": {},
   "outputs": [
    {
     "data": {
      "text/html": [
       "<div>\n",
       "<style scoped>\n",
       "    .dataframe tbody tr th:only-of-type {\n",
       "        vertical-align: middle;\n",
       "    }\n",
       "\n",
       "    .dataframe tbody tr th {\n",
       "        vertical-align: top;\n",
       "    }\n",
       "\n",
       "    .dataframe thead th {\n",
       "        text-align: right;\n",
       "    }\n",
       "</style>\n",
       "<table border=\"1\" class=\"dataframe\">\n",
       "  <thead>\n",
       "    <tr style=\"text-align: right;\">\n",
       "      <th></th>\n",
       "      <th>open_bid</th>\n",
       "      <th>high_bid</th>\n",
       "      <th>low_bid</th>\n",
       "      <th>close_bid</th>\n",
       "      <th>open_ask</th>\n",
       "      <th>high_ask</th>\n",
       "      <th>low_ask</th>\n",
       "      <th>close_ask</th>\n",
       "    </tr>\n",
       "    <tr>\n",
       "      <th>time</th>\n",
       "      <th></th>\n",
       "      <th></th>\n",
       "      <th></th>\n",
       "      <th></th>\n",
       "      <th></th>\n",
       "      <th></th>\n",
       "      <th></th>\n",
       "      <th></th>\n",
       "    </tr>\n",
       "  </thead>\n",
       "  <tbody>\n",
       "    <tr>\n",
       "      <th>2015-01-27 08 PM</th>\n",
       "      <td>0.79375</td>\n",
       "      <td>0.79524</td>\n",
       "      <td>0.79347</td>\n",
       "      <td>0.79383</td>\n",
       "      <td>0.79393</td>\n",
       "      <td>0.79549</td>\n",
       "      <td>0.79366</td>\n",
       "      <td>0.79405</td>\n",
       "    </tr>\n",
       "    <tr>\n",
       "      <th>2015-01-27 09 PM</th>\n",
       "      <td>0.79382</td>\n",
       "      <td>0.79382</td>\n",
       "      <td>0.79265</td>\n",
       "      <td>0.79344</td>\n",
       "      <td>0.79405</td>\n",
       "      <td>0.79405</td>\n",
       "      <td>0.79287</td>\n",
       "      <td>0.79402</td>\n",
       "    </tr>\n",
       "    <tr>\n",
       "      <th>2015-01-27 10 PM</th>\n",
       "      <td>0.79338</td>\n",
       "      <td>0.79364</td>\n",
       "      <td>0.79243</td>\n",
       "      <td>0.79250</td>\n",
       "      <td>0.79385</td>\n",
       "      <td>0.79413</td>\n",
       "      <td>0.79283</td>\n",
       "      <td>0.79283</td>\n",
       "    </tr>\n",
       "    <tr>\n",
       "      <th>2015-01-27 11 PM</th>\n",
       "      <td>0.79256</td>\n",
       "      <td>0.79304</td>\n",
       "      <td>0.79184</td>\n",
       "      <td>0.79197</td>\n",
       "      <td>0.79290</td>\n",
       "      <td>0.79333</td>\n",
       "      <td>0.79204</td>\n",
       "      <td>0.79219</td>\n",
       "    </tr>\n",
       "    <tr>\n",
       "      <th>2015-01-28</th>\n",
       "      <td>0.79197</td>\n",
       "      <td>0.80024</td>\n",
       "      <td>0.78991</td>\n",
       "      <td>0.79930</td>\n",
       "      <td>0.79216</td>\n",
       "      <td>0.80055</td>\n",
       "      <td>0.79017</td>\n",
       "      <td>0.79952</td>\n",
       "    </tr>\n",
       "  </tbody>\n",
       "</table>\n",
       "</div>"
      ],
      "text/plain": [
       "                  open_bid  high_bid  low_bid  close_bid  open_ask  high_ask  \\\n",
       "time                                                                           \n",
       "2015-01-27 08 PM   0.79375   0.79524  0.79347    0.79383   0.79393   0.79549   \n",
       "2015-01-27 09 PM   0.79382   0.79382  0.79265    0.79344   0.79405   0.79405   \n",
       "2015-01-27 10 PM   0.79338   0.79364  0.79243    0.79250   0.79385   0.79413   \n",
       "2015-01-27 11 PM   0.79256   0.79304  0.79184    0.79197   0.79290   0.79333   \n",
       "2015-01-28         0.79197   0.80024  0.78991    0.79930   0.79216   0.80055   \n",
       "\n",
       "                  low_ask  close_ask  \n",
       "time                                  \n",
       "2015-01-27 08 PM  0.79366    0.79405  \n",
       "2015-01-27 09 PM  0.79287    0.79402  \n",
       "2015-01-27 10 PM  0.79283    0.79283  \n",
       "2015-01-27 11 PM  0.79204    0.79219  \n",
       "2015-01-28        0.79017    0.79952  "
      ]
     },
     "execution_count": 5,
     "metadata": {},
     "output_type": "execute_result"
    }
   ],
   "source": [
    "# Lista de todos los .csv de datos \n",
    "path = os.getcwd() \n",
    "files = [os.path.join(path, file) for file in os.listdir(path) if '.csv' in file]\n",
    "\n",
    "# Generación de DataFrame\n",
    "df = pd.concat(map(pd.read_csv, files), ignore_index=True)\n",
    "# Colocar columna time como índice del DataFrame\n",
    "df.index = df.time\n",
    "\n",
    "# Eliminar columna y definición de DataFrame a utilizar\n",
    "datos = df.drop(['time'], axis = 1)\n",
    "datos.head()"
   ]
  },
  {
   "cell_type": "code",
   "execution_count": 6,
   "metadata": {},
   "outputs": [
    {
     "data": {
      "text/plain": [
       "(350000, 8)"
      ]
     },
     "execution_count": 6,
     "metadata": {},
     "output_type": "execute_result"
    }
   ],
   "source": [
    "datos.shape"
   ]
  },
  {
   "attachments": {},
   "cell_type": "markdown",
   "metadata": {},
   "source": [
    "* Calcular con todas las monedas el retorno (precio actual - precio del pasado), y luego de ello construir una regresión lineal buscando discernir si el retorno de varias monedas (features) logra explicar el retorno de una combinación de moneda (target)"
   ]
  },
  {
   "attachments": {},
   "cell_type": "markdown",
   "metadata": {},
   "source": [
    "## Construcción modelo ARIMA"
   ]
  },
  {
   "attachments": {},
   "cell_type": "markdown",
   "metadata": {},
   "source": [
    "# Variación Dolar Euro"
   ]
  },
  {
   "cell_type": "code",
   "execution_count": 18,
   "metadata": {},
   "outputs": [
    {
     "name": "stdout",
     "output_type": "stream",
     "text": [
      "El dataframe que se construye con las variaciones de cotización de par de moneda (Euro-Dólar) está compuesto por 9 columnas y 50000 filas\n"
     ]
    },
    {
     "data": {
      "text/html": [
       "<div>\n",
       "<style scoped>\n",
       "    .dataframe tbody tr th:only-of-type {\n",
       "        vertical-align: middle;\n",
       "    }\n",
       "\n",
       "    .dataframe tbody tr th {\n",
       "        vertical-align: top;\n",
       "    }\n",
       "\n",
       "    .dataframe thead th {\n",
       "        text-align: right;\n",
       "    }\n",
       "</style>\n",
       "<table border=\"1\" class=\"dataframe\">\n",
       "  <thead>\n",
       "    <tr style=\"text-align: right;\">\n",
       "      <th></th>\n",
       "      <th>open_bid</th>\n",
       "      <th>time</th>\n",
       "    </tr>\n",
       "  </thead>\n",
       "  <tbody>\n",
       "    <tr>\n",
       "      <th>0</th>\n",
       "      <td>1.13343</td>\n",
       "      <td>2015-01-28 02 AM</td>\n",
       "    </tr>\n",
       "    <tr>\n",
       "      <th>1</th>\n",
       "      <td>1.13335</td>\n",
       "      <td>2015-01-28 03 AM</td>\n",
       "    </tr>\n",
       "    <tr>\n",
       "      <th>2</th>\n",
       "      <td>1.13399</td>\n",
       "      <td>2015-01-28 04 AM</td>\n",
       "    </tr>\n",
       "    <tr>\n",
       "      <th>3</th>\n",
       "      <td>1.13358</td>\n",
       "      <td>2015-01-28 05 AM</td>\n",
       "    </tr>\n",
       "    <tr>\n",
       "      <th>4</th>\n",
       "      <td>1.13544</td>\n",
       "      <td>2015-01-28 06 AM</td>\n",
       "    </tr>\n",
       "  </tbody>\n",
       "</table>\n",
       "</div>"
      ],
      "text/plain": [
       "   open_bid              time\n",
       "0   1.13343  2015-01-28 02 AM\n",
       "1   1.13335  2015-01-28 03 AM\n",
       "2   1.13399  2015-01-28 04 AM\n",
       "3   1.13358  2015-01-28 05 AM\n",
       "4   1.13544  2015-01-28 06 AM"
      ]
     },
     "execution_count": 18,
     "metadata": {},
     "output_type": "execute_result"
    }
   ],
   "source": [
    "datos_euro_dolar = pd.read_csv(r'EUR_USD_H1.csv')\n",
    "print(f'El dataframe que se construye con las variaciones de cotización de par de moneda (Euro-Dólar) está compuesto por {datos_euro_dolar.shape[1]} columnas y {datos_euro_dolar.shape[0]} filas') \n",
    "\n",
    "#print(datos_euro_dolar.head())\n",
    "\n",
    "datos_euro_dolar_ARIMA = datos_euro_dolar[['open_bid', 'time']]\n",
    "datos_euro_dolar_ARIMA.head()"
   ]
  },
  {
   "cell_type": "markdown",
   "metadata": {},
   "source": []
  },
  {
   "cell_type": "code",
   "execution_count": 20,
   "metadata": {},
   "outputs": [
    {
     "data": {
      "text/html": [
       "<div>\n",
       "<style scoped>\n",
       "    .dataframe tbody tr th:only-of-type {\n",
       "        vertical-align: middle;\n",
       "    }\n",
       "\n",
       "    .dataframe tbody tr th {\n",
       "        vertical-align: top;\n",
       "    }\n",
       "\n",
       "    .dataframe thead th {\n",
       "        text-align: right;\n",
       "    }\n",
       "</style>\n",
       "<table border=\"1\" class=\"dataframe\">\n",
       "  <thead>\n",
       "    <tr style=\"text-align: right;\">\n",
       "      <th></th>\n",
       "      <th>open_bid</th>\n",
       "    </tr>\n",
       "    <tr>\n",
       "      <th>time</th>\n",
       "      <th></th>\n",
       "    </tr>\n",
       "  </thead>\n",
       "  <tbody>\n",
       "    <tr>\n",
       "      <th>2015-01-28 02 AM</th>\n",
       "      <td>1.13343</td>\n",
       "    </tr>\n",
       "    <tr>\n",
       "      <th>2015-01-28 03 AM</th>\n",
       "      <td>1.13335</td>\n",
       "    </tr>\n",
       "    <tr>\n",
       "      <th>2015-01-28 04 AM</th>\n",
       "      <td>1.13399</td>\n",
       "    </tr>\n",
       "    <tr>\n",
       "      <th>2015-01-28 05 AM</th>\n",
       "      <td>1.13358</td>\n",
       "    </tr>\n",
       "    <tr>\n",
       "      <th>2015-01-28 06 AM</th>\n",
       "      <td>1.13544</td>\n",
       "    </tr>\n",
       "  </tbody>\n",
       "</table>\n",
       "</div>"
      ],
      "text/plain": [
       "                  open_bid\n",
       "time                      \n",
       "2015-01-28 02 AM   1.13343\n",
       "2015-01-28 03 AM   1.13335\n",
       "2015-01-28 04 AM   1.13399\n",
       "2015-01-28 05 AM   1.13358\n",
       "2015-01-28 06 AM   1.13544"
      ]
     },
     "execution_count": 20,
     "metadata": {},
     "output_type": "execute_result"
    }
   ],
   "source": [
    "datos_euro_dolar_ARIMA.index = datos_euro_dolar_ARIMA.time\n",
    "exchange_rate = datos_euro_dolar_ARIMA.drop(['time'], axis = 1)\n",
    "exchange_rate.head()"
   ]
  },
  {
   "cell_type": "code",
   "execution_count": 21,
   "metadata": {},
   "outputs": [
    {
     "data": {
      "text/html": [
       "<div>\n",
       "<style scoped>\n",
       "    .dataframe tbody tr th:only-of-type {\n",
       "        vertical-align: middle;\n",
       "    }\n",
       "\n",
       "    .dataframe tbody tr th {\n",
       "        vertical-align: top;\n",
       "    }\n",
       "\n",
       "    .dataframe thead th {\n",
       "        text-align: right;\n",
       "    }\n",
       "</style>\n",
       "<table border=\"1\" class=\"dataframe\">\n",
       "  <thead>\n",
       "    <tr style=\"text-align: right;\">\n",
       "      <th></th>\n",
       "      <th>open_bid</th>\n",
       "    </tr>\n",
       "  </thead>\n",
       "  <tbody>\n",
       "    <tr>\n",
       "      <th>count</th>\n",
       "      <td>50000.000000</td>\n",
       "    </tr>\n",
       "    <tr>\n",
       "      <th>mean</th>\n",
       "      <td>1.127106</td>\n",
       "    </tr>\n",
       "    <tr>\n",
       "      <th>std</th>\n",
       "      <td>0.053942</td>\n",
       "    </tr>\n",
       "    <tr>\n",
       "      <th>min</th>\n",
       "      <td>0.953880</td>\n",
       "    </tr>\n",
       "    <tr>\n",
       "      <th>25%</th>\n",
       "      <td>1.094008</td>\n",
       "    </tr>\n",
       "    <tr>\n",
       "      <th>50%</th>\n",
       "      <td>1.125215</td>\n",
       "    </tr>\n",
       "    <tr>\n",
       "      <th>75%</th>\n",
       "      <td>1.169330</td>\n",
       "    </tr>\n",
       "    <tr>\n",
       "      <th>max</th>\n",
       "      <td>1.254860</td>\n",
       "    </tr>\n",
       "  </tbody>\n",
       "</table>\n",
       "</div>"
      ],
      "text/plain": [
       "           open_bid\n",
       "count  50000.000000\n",
       "mean       1.127106\n",
       "std        0.053942\n",
       "min        0.953880\n",
       "25%        1.094008\n",
       "50%        1.125215\n",
       "75%        1.169330\n",
       "max        1.254860"
      ]
     },
     "execution_count": 21,
     "metadata": {},
     "output_type": "execute_result"
    }
   ],
   "source": [
    "# Para conocer la distribución de los datos \n",
    "exchange_rate.describe()"
   ]
  },
  {
   "cell_type": "code",
   "execution_count": 22,
   "metadata": {},
   "outputs": [
    {
     "data": {
      "text/plain": [
       "<AxesSubplot: xlabel='time'>"
      ]
     },
     "execution_count": 22,
     "metadata": {},
     "output_type": "execute_result"
    },
    {
     "data": {
      "image/png": "[encoded data removed]",
      "text/plain": [
       "<Figure size 640x480 with 1 Axes>"
      ]
     },
     "metadata": {},
     "output_type": "display_data"
    }
   ],
   "source": [
    "exchange_rate.plot(color = 'green')"
   ]
  },
  {
   "cell_type": "code",
   "execution_count": 23,
   "metadata": {},
   "outputs": [
    {
     "data": {
      "text/plain": [
       "array([[<AxesSubplot: title={'center': 'open_bid'}>]], dtype=object)"
      ]
     },
     "execution_count": 23,
     "metadata": {},
     "output_type": "execute_result"
    },
    {
     "data": {
      "image/png": "[encoded data removed]",
      "text/plain": [
       "<Figure size 640x480 with 1 Axes>"
      ]
     },
     "metadata": {},
     "output_type": "display_data"
    }
   ],
   "source": [
    "exchange_rate.hist()"
   ]
  },
  {
   "cell_type": "code",
   "execution_count": 26,
   "metadata": {},
   "outputs": [
    {
     "data": {
      "text/plain": [
       "<AxesSubplot: xlabel='time'>"
      ]
     },
     "execution_count": 26,
     "metadata": {},
     "output_type": "execute_result"
    },
    {
     "data": {
      "text/plain": [
       "<Figure size 1000x900 with 0 Axes>"
      ]
     },
     "metadata": {},
     "output_type": "display_data"
    },
    {
     "data": {
      "image/png": "[encoded data removed]",
      "text/plain": [
       "<Figure size 640x480 with 1 Axes>"
      ]
     },
     "metadata": {},
     "output_type": "display_data"
    }
   ],
   "source": [
    "import matplotlib.pyplot as plt\n",
    "plt.figure(figsize=(10,9))\n",
    "exchange_rate.plot()"
   ]
  }
 ],
 "metadata": {
  "kernelspec": {
   "display_name": "DH",
   "language": "python",
   "name": "python3"
  },
  "language_info": {
   "codemirror_mode": {
    "name": "ipython",
    "version": 3
   },
   "file_extension": ".py",
   "mimetype": "text/x-python",
   "name": "python",
   "nbconvert_exporter": "python",
   "pygments_lexer": "ipython3",
   "version": "3.10.6"
  },
  "orig_nbformat": 4,
  "vscode": {
   "interpreter": {
    "hash": "6becbed91c3db0de89d3be7d755cbeeac818c5017507b382c86305c080f557e9"
   }
  }
 },
 "nbformat": 4,
 "nbformat_minor": 2
}
