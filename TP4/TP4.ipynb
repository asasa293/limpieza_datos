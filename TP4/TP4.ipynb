{
 "cells": [
  {
   "cell_type": "code",
   "execution_count": null,
   "metadata": {},
   "outputs": [],
   "source": []
  }
 ],
 "metadata": {
  "kernelspec": {
   "display_name": "Python 3",
   "language": "python",
   "name": "python3"
  },
  "language_info": {
   "name": "python",
   "version": "3.10.5"
  },
  "orig_nbformat": 4,
  "vscode": {
   "interpreter": {
    "hash": "6bb5198e5f6aa7119c50adbb108d39d349f22ed8b6a74397f1a3e805286996c6"
   }
  }
 },
 "nbformat": 4,
 "nbformat_minor": 2
}
