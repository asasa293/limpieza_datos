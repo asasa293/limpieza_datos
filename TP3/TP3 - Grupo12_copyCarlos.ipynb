{
 "cells": [
  {
   "attachments": {},
   "cell_type": "markdown",
   "metadata": {},
   "source": [
    "# TP3 Grupo 12"
   ]
  },
  {
   "cell_type": "code",
   "execution_count": 1,
   "metadata": {},
   "outputs": [],
   "source": [
    "# Importando librerías  \n",
    "import numpy as np\n",
    "import pandas as pd \n",
    "import matplotlib.pyplot as plt\n",
    "import missingno as msno\n",
    "import seaborn as sns \n",
    "from sklearn.linear_model import LogisticRegression\n",
    "from sklearn.model_selection import train_test_split\n",
    "from sklearn.preprocessing import StandardScaler\n",
    "from sklearn.metrics import confusion_matrix\n",
    "from sklearn.metrics import accuracy_score\n",
    "from sklearn.metrics import recall_score\n",
    "from sklearn.metrics import f1_score\n",
    "from sklearn.metrics import roc_auc_score\n",
    "from sklearn.metrics import classification_report\n",
    "from collections import Counter\n",
    "\n",
    "from imblearn.under_sampling import NearMiss\n",
    "from imblearn.over_sampling import RandomOverSampler\n",
    "from imblearn.combine import SMOTETomek\n",
    "from imblearn.ensemble import BalancedBaggingClassifier\n",
    "%matplotlib inline\n",
    "\n",
    "from sklearn.naive_bayes import GaussianNB, MultinomialNB\n",
    "\n",
    "from tqdm import tqdm\n",
    "from sklearn.neighbors import KNeighborsClassifier\n"
   ]
  },
  {
   "attachments": {},
   "cell_type": "markdown",
   "metadata": {},
   "source": [
    "Función para evaluación del modelo con regresión logística, variando datos de entrada"
   ]
  },
  {
   "cell_type": "code",
   "execution_count": null,
   "metadata": {},
   "outputs": [],
   "source": [
    "def logistic_model(X_train, X_test, y_train, y_test):\n",
    "    '''Creacióm del modelo de Regresión Logistica variando datos de entrada'''\n",
    "    \n",
    "    lr = LogisticRegression(C=1.0,penalty='l2',random_state=1,solver=\"newton-cholesky\")\n",
    "    scaler = StandardScaler()\n",
    "    X_train_scaled = scaler.fit_transform(X_train)\n",
    "    lr.fit(X_train_scaled, y_train)\n",
    "    return lr"
   ]
  },
  {
   "cell_type": "code",
   "execution_count": null,
   "metadata": {},
   "outputs": [],
   "source": [
    "def mostrar_resultados(y_test, y_pred):\n",
    "    confusion_matrix(y_test, y_test_pred)\n",
    "    #plt.figure(figsize=(12, 12))\n",
    "    sns.heatmap(confusion_matrix(y_test, y_test_pred), annot=True, fmt='.0f');\n",
    "    plt.title(\"Confusion matrix\")\n",
    "    plt.ylabel('Verdaderos')\n",
    "    plt.xlabel('Predichos')\n",
    "    plt.show()\n",
    "    print(classification_report(y_test, y_test_pred))"
   ]
  },
  {
   "attachments": {},
   "cell_type": "markdown",
   "metadata": {},
   "source": [
    "## 1. Lectura de DataFrame "
   ]
  },
  {
   "attachments": {},
   "cell_type": "markdown",
   "metadata": {},
   "source": [
    "El DataFrame usado para este TP consta de datos provenientes de la plataforma Kaggle, en el que se evalúan algunas variables relacionadas con evaluación de posible fraude en transacciones bancarias realizadas con tarjetas de crédito. Se trata de un Dataset desbalanceado, respecto a la proporción en la variable target (fraud). "
   ]
  },
  {
   "cell_type": "code",
   "execution_count": 2,
   "metadata": {},
   "outputs": [
    {
     "name": "stdout",
     "output_type": "stream",
     "text": [
      "El dataframe de transacciones está compuesto por 8 columnas y 1000000 filas\n",
      "        distance_from_home  distance_from_last_transaction  \\\n",
      "514064            1.649850                        0.986466   \n",
      "838724           22.024146                        0.736133   \n",
      "989958            1.888643                        0.270915   \n",
      "\n",
      "        ratio_to_median_purchase_price  repeat_retailer  used_chip  \\\n",
      "514064                        5.655958              0.0        1.0   \n",
      "838724                        4.507864              1.0        1.0   \n",
      "989958                        0.206799              0.0        0.0   \n",
      "\n",
      "        used_pin_number  online_order  fraud  \n",
      "514064              0.0           0.0    0.0  \n",
      "838724              0.0           0.0    0.0  \n",
      "989958              0.0           0.0    0.0  \n"
     ]
    },
    {
     "data": {
      "text/plain": [
       "(1000000, 8)"
      ]
     },
     "execution_count": 2,
     "metadata": {},
     "output_type": "execute_result"
    }
   ],
   "source": [
    "data = pd.read_csv(r'card_transdata.csv', sep=',')\n",
    "print(f'El dataframe de transacciones está compuesto por {data.shape[1]} columnas y {data.shape[0]} filas') \n",
    "print(data.sample(3))\n",
    "data.shape"
   ]
  },
  {
   "attachments": {},
   "cell_type": "markdown",
   "metadata": {},
   "source": [
    "## 2. Descripción breve del DataFrame.\n",
    "\n",
    "\n",
    "El DataFrame en estudio cuenta con 8 columnas y un total de 1000000 filas (no tiene valores nulos). \n",
    "\n",
    "Las columnas contenidas en el DataFrame son: \n",
    "\n",
    "2.1 distance_from_home. Indica la distancia desde casa respecto al lugar en donde ocurrió la transacción. Ejemplo: 2.813104. \n",
    "\n",
    "2.2 distance_from_last_transaction. Indica la distancia entre el punto de la transacción con respecto a la última transacción registrada. Ejemplo: 0.153290.\n",
    "\n",
    "2.3 ratio_to_median_purchase_price. es la relación entre el monto de la transacción y el precio medio de compra del cliente. Ejemplo: 1.135134.\n",
    "\n",
    "2.4 repeat_retailer. Columna con variables dummies para indicar con 1 si la transacción se realizó desde el mismo minorista y con 0 si no. Ejemplo: 1.0.\n",
    "\n",
    "2.5 used_chip. Columna con variables dummies para indicar con 1 si en la transacción se utilizó el chip de la tarjeta de crédito y con 0 si no se utilizó. Ejemplo: 0.0.\n",
    "\n",
    "2.6 used_pin_number. Columna con variables dummies que indica con 1 si en la transacción se usó el número de pin y con 0 en caso contrario. Ejemplo: 1.0.\n",
    "\n",
    "2.7 online_order. Columna con variables dummies en la que se indica con 1 si la transacción corresponde a un pedido en línea y 0 si no fue así. Ejemplo: 1.0. \n",
    "\n",
    "2.8 fraud. Columna con variable target que indica si la transacción fue identificada como fraude (1) o no (0). Ejemplo: 1.0."
   ]
  },
  {
   "cell_type": "code",
   "execution_count": null,
   "metadata": {},
   "outputs": [],
   "source": [
    "# Resumen de nombre y tipo de dato por columna\n",
    "\n",
    "print('\\n')\n",
    "print('-----------Tipo de datos por columna-----------')\n",
    "print(data.dtypes)"
   ]
  },
  {
   "cell_type": "markdown",
   "metadata": {},
   "source": [
    "## 3. Distribución de los datos.  "
   ]
  },
  {
   "cell_type": "code",
   "execution_count": null,
   "metadata": {},
   "outputs": [],
   "source": [
    "# Para saber valores no nulos\n",
    "\n",
    "msno.bar(data)"
   ]
  },
  {
   "attachments": {},
   "cell_type": "markdown",
   "metadata": {},
   "source": [
    "## Observemos la correlación entre las variables"
   ]
  },
  {
   "cell_type": "code",
   "execution_count": null,
   "metadata": {},
   "outputs": [],
   "source": [
    "# Matriz de correlación\n",
    "\n",
    "corr_matrix = data.corr(method='spearman')\n",
    "corr_matrix"
   ]
  },
  {
   "cell_type": "code",
   "execution_count": null,
   "metadata": {},
   "outputs": [],
   "source": [
    "# Heatmap matriz de correlaión\n",
    "\n",
    "f, ax = plt.subplots(figsize = (9, 8))\n",
    "sns.heatmap(corr_matrix, ax = ax, annot=True, cmap= 'Reds', linewidths= 0.5)"
   ]
  },
  {
   "attachments": {},
   "cell_type": "markdown",
   "metadata": {},
   "source": [
    "En el resultado se puede apreciar una fuerte correlación (0.56) entre las variables distancia desde casa y si la compra se realizó en el mismo minorista. Además, se puede apreciar un adelanto de las variables que influyen en la variable de nuestro interés (fraude) donde la razón respecto a la media de compra es la variable que tiene mayor correlación con fraude (0.3) aunque el valor no es tan alto, le sigue la variable compra en línea con 0.19 y distancia desde casa con 0.095. Un punto importante resalta de este análisis, aparecen dos variables con correlación negativa con fraude, las cuales son uso de chip (-0.061) y uso de número de pin con un valor de -0.1 lo que se podría interpretar que el uso de esto dos métodos de seguridad son efectivos para evitar el fraude en las transacciones."
   ]
  },
  {
   "cell_type": "code",
   "execution_count": null,
   "metadata": {},
   "outputs": [],
   "source": [
    "VAMOS A HACER UN PAIR PLOT PARA VER SI LOS DATOS ESTÁN BIEN DIFERENCIADOS ENTRE CLASES.\n",
    "PARA MAYOR VELOCIDAD AL GRAFICAR, USAREMOS UN DF MUY PEQUEÑO.\n",
    "PARA ENTRENAR EL MODELO SE USARÁ UNO MÁS GRANDE\n",
    "X_train, x_test, y_train, y_test = train_test_split(X, y,\n",
    "                                                    test_size=0.99,\n",
    "                                                    random_state=0,\n",
    "                                                    stratify=y)"
   ]
  },
  {
   "cell_type": "code",
   "execution_count": null,
   "metadata": {},
   "outputs": [],
   "source": [
    "y_train.value_counts()"
   ]
  },
  {
   "cell_type": "code",
   "execution_count": null,
   "metadata": {},
   "outputs": [],
   "source": [
    "# DE IGUAL FORMA, SE ESCALARÁN LOS DATOS PARA VISUALIZAR MEJOR EL PAIR PLOT.\n",
    "ss = StandardScaler()\n",
    "xscaled = pd.DataFrame(ss.fit_transform(x_train),columns = x_train.columns)"
   ]
  },
  {
   "cell_type": "code",
   "execution_count": null,
   "metadata": {},
   "outputs": [],
   "source": [
    "LAS CLASES PARECEN ESTAR BIEN SEPARADAS PARA ALGUNAS VARIABLES \n",
    "POR LO QUE ES VIABLE HACER UN MODELO DE CLASIFICACIÓN.\n",
    "pd.plotting.scatter_matrix(xscaled, c=y_train, figsize=(20,20),\n",
    "                           marker='o', )"
   ]
  },
  {
   "attachments": {},
   "cell_type": "markdown",
   "metadata": {},
   "source": [
    "Dentro del DataFrame no se encuentran valores nulos, todas las variables a usar en los diferentes modelos (KNN, Naives Bayes y Regresión Logística) tienen los los datos completos. "
   ]
  },
  {
   "cell_type": "markdown",
   "metadata": {},
   "source": [
    "## * Variable TARGET a Determinar"
   ]
  },
  {
   "attachments": {},
   "cell_type": "markdown",
   "metadata": {},
   "source": [
    "Según el análisis realizado y la propuesta original en el dataset, la variable target a considerar, en la construcción de los diferentes modelos,  será la columna \"fraud\"."
   ]
  },
  {
   "cell_type": "code",
   "execution_count": null,
   "metadata": {},
   "outputs": [],
   "source": [
    "# Considerando lo anterior, resulta necesario conocer la proporción de la variable target\n",
    "count_classes = data.fraud.value_counts(sort=True)\n",
    "count_classes"
   ]
  },
  {
   "attachments": {},
   "cell_type": "markdown",
   "metadata": {},
   "source": [
    "Para una población de 1000000 de transacciones, tan sólo 87403 son etiquetadas como casos de fraude. Representan aproximadamente el 9% de las muestras."
   ]
  },
  {
   "cell_type": "code",
   "execution_count": null,
   "metadata": {},
   "outputs": [],
   "source": [
    "count_classes.plot(kind = 'bar', rot=0)\n",
    "plt.title(\"Frecuencia de numero de observaciones\")\n",
    "plt.xlabel(\"Class\")\n",
    "plt.ylabel(\"Numero de observaciones\");"
   ]
  },
  {
   "attachments": {},
   "cell_type": "markdown",
   "metadata": {},
   "source": [
    "# Propuestas \n",
    "\n",
    "1. Trabajar con dataset total. (1MM de registros, proporción variable target 90-10)\n",
    "2. Seleccionar menor cantidad de registros y buscando una proporción de la variable target 70-30, para tener el datasets menos desbalanceado. Según cálculos , se debería extraer una muestra de 291343 datos totales. \n",
    "\n",
    "\n",
    "A partir de la selección del dataset: \n",
    "\n",
    "1. Aplicar los siguientes modelos sobre el conjunto de datos: \n",
    "\n",
    "   1.a. KNN. (Carlos)\n",
    "\n",
    "   1.b. Naives Bayes. (Santiago)\n",
    "   \n",
    "   1.c. Regresión Logística. (Moises) "
   ]
  },
  {
   "attachments": {},
   "cell_type": "markdown",
   "metadata": {},
   "source": [
    "## Generación de Hipótesis nula"
   ]
  },
  {
   "attachments": {},
   "cell_type": "markdown",
   "metadata": {},
   "source": [
    "Considerando que el dataframe elegido presenta una proporción aproximada 90-10 entre las clases a predecir, el punto de partida y el valor a mejorar por los posteriores modelos, será: "
   ]
  },
  {
   "cell_type": "code",
   "execution_count": null,
   "metadata": {},
   "outputs": [],
   "source": [
    "count_classes = data.fraud.value_counts(sort=True)\n",
    "count_classes[0]/data.shape[0]"
   ]
  },
  {
   "attachments": {},
   "cell_type": "markdown",
   "metadata": {},
   "source": [
    "## 4. Aplicando modelo de Regresión Logística"
   ]
  },
  {
   "attachments": {},
   "cell_type": "markdown",
   "metadata": {},
   "source": [
    "4.1 Full Datos. \n",
    "    \n",
    "    Como 1era aproximación para la generación del modelo, será usado todo el volumne de datos. Sabiendo que la variable a predecir se encuentra desbalanceada.  "
   ]
  },
  {
   "cell_type": "code",
   "execution_count": null,
   "metadata": {},
   "outputs": [],
   "source": [
    "# Para considerar las variables predictoras\n",
    "\n",
    "feature_cols = [x for x in data.columns if ((x != 'fraud'))]\n",
    "feature_cols"
   ]
  },
  {
   "cell_type": "code",
   "execution_count": null,
   "metadata": {},
   "outputs": [],
   "source": [
    "# División de los datos en train y test\n",
    "# ==============================================================================\n",
    "X = data[feature_cols]\n",
    "y = data['fraud']\n",
    "\n",
    "\n",
    "X_train, X_test, y_train, y_test = train_test_split(\n",
    "                                        X,\n",
    "                                        y,\n",
    "                                        stratify=y,\n",
    "                                        train_size   = 0.8,\n",
    "                                        random_state = 123,\n",
    "                                     )  "
   ]
  },
  {
   "cell_type": "code",
   "execution_count": null,
   "metadata": {},
   "outputs": [],
   "source": [
    "# Estandarización\n",
    "scaler = StandardScaler()\n",
    "X_train_scaled = scaler.fit_transform(X_train)"
   ]
  },
  {
   "cell_type": "code",
   "execution_count": null,
   "metadata": {},
   "outputs": [],
   "source": [
    "# Entrenando al modelo \n",
    "# Instanciamos un objeto de esa clase\n",
    "logistic_regression = LogisticRegression()\n",
    "# Ajustamos esta instancia con los datos de entrenamiento\n",
    "logistic_regression.fit(X_train_scaled, y_train)\n",
    "print(logistic_regression.coef_)\n",
    "print(logistic_regression.intercept_)\n"
   ]
  },
  {
   "cell_type": "code",
   "execution_count": null,
   "metadata": {},
   "outputs": [],
   "source": [
    "# Hacemos predicciones con el modelo entrenado\n",
    "y_train_pred = logistic_regression.predict(X_train_scaled)\n",
    "y_test_pred = logistic_regression.predict(scaler.transform(X_test)) # Notar que debemos escalar los datos de testeo antes de realizar predicciones"
   ]
  },
  {
   "cell_type": "code",
   "execution_count": null,
   "metadata": {},
   "outputs": [],
   "source": [
    "# Elaboramos la matriz de confusión\n",
    "confusion_matrix(y_test, y_test_pred)\n",
    "sns.heatmap(confusion_matrix(y_test, y_test_pred), annot=True, fmt='.0f')\n",
    "plt.ylabel('Verdaderos')\n",
    "plt.xlabel('Predichos');"
   ]
  },
  {
   "cell_type": "code",
   "execution_count": null,
   "metadata": {},
   "outputs": [],
   "source": [
    "logistic_regression.predict_proba(X_test)"
   ]
  },
  {
   "cell_type": "code",
   "execution_count": null,
   "metadata": {},
   "outputs": [],
   "source": [
    "logistic_regression.predict_proba(X_test).shape"
   ]
  },
  {
   "cell_type": "code",
   "execution_count": null,
   "metadata": {},
   "outputs": [],
   "source": [
    "# Calculemos el accuracy\n",
    "accuracy_score(y_test, y_test_pred)"
   ]
  },
  {
   "cell_type": "code",
   "execution_count": null,
   "metadata": {},
   "outputs": [],
   "source": [
    "# Calculo la sensibilidad del modelo\n",
    "sensibilidad = recall_score(y_test, y_test_pred)\n",
    "print('Sensibilidad del modelo:')\n",
    "print(sensibilidad)"
   ]
  },
  {
   "cell_type": "code",
   "execution_count": null,
   "metadata": {},
   "outputs": [],
   "source": [
    "puntajef1 = f1_score(y_test, y_test_pred)\n",
    "print('Puntaje F1 del modelo:')\n",
    "print(puntajef1)"
   ]
  },
  {
   "cell_type": "code",
   "execution_count": null,
   "metadata": {},
   "outputs": [],
   "source": [
    "roc_auc = roc_auc_score(y_test, y_test_pred)\n",
    "print('Curva ROC - AUC del modelo:')\n",
    "print(roc_auc)"
   ]
  },
  {
   "cell_type": "code",
   "execution_count": null,
   "metadata": {},
   "outputs": [],
   "source": [
    "# Haciendo un resumen de los parámetros obtenidos usando todo el dataset \n",
    "print(classification_report(y_test, y_test_pred))"
   ]
  },
  {
   "attachments": {},
   "cell_type": "markdown",
   "metadata": {},
   "source": [
    "En la matriz de confusión se obtienen alrededor de 7000 fallos y 10000 aciertos dando un recall de 0.60 y es el valor que queremos mejorar. También es interesante notar que en la columna de f1-score obtenemos muy buenos resultados, a pesar de ello deben ser considerados con ciertas reservas, pues están reflejando una realidad parcial. "
   ]
  },
  {
   "attachments": {},
   "cell_type": "markdown",
   "metadata": {},
   "source": [
    "Estas métricas serán consideradas como línea base para comparación y búsqueda de mejora. Un aspecto a evaluar será el tema del hecho que el dataset se encuentra desbalanceado. "
   ]
  },
  {
   "attachments": {},
   "cell_type": "markdown",
   "metadata": {},
   "source": [
    "## 4.2. Buscando balancear las clases"
   ]
  },
  {
   "attachments": {},
   "cell_type": "markdown",
   "metadata": {},
   "source": [
    "### 4.2.1 Penalización de clases mayoritarias\n",
    "\n",
    "Según literatura de LogisticRegression (https://scikit-learn.org/stable/modules/generated/sklearn.linear_model.LogisticRegression.html)\n",
    "\n",
    "- class_weight: dict or ‘balanced’, default=None\n",
    "Weights associated with classes in the form {class_label: weight}. If not given, all classes are supposed to have weight one.\n",
    "\n",
    "The “balanced” mode uses the values of y to automatically adjust weights inversely proportional to class frequencies in the input data as n_samples / (n_classes * np.bincount(y)).\n",
    "\n",
    "Note that these weights will be multiplied with sample_weight (passed through the fit method) if sample_weight is specified.\n",
    "\n",
    "- solver{‘lbfgs’, ‘liblinear’, ‘newton-cg’, ‘newton-cholesky’, ‘sag’, ‘saga’}, default=’lbfgs’\n",
    "Algorithm to use in the optimization problem. Default is ‘lbfgs’. To choose a solver, you might want to consider the following aspects:\n",
    "‘newton-cholesky’ is a good choice for n_samples >> n_features, especially with one-hot encoded categorical features with rare categories. Note that it is limited to binary classification and the one-versus-rest reduction for multiclass classification.\n",
    "\n"
   ]
  },
  {
   "cell_type": "code",
   "execution_count": null,
   "metadata": {},
   "outputs": [],
   "source": [
    "penalidad = LogisticRegression(C=1.0,penalty='l2',random_state=1,solver=\"newton-cholesky\",class_weight=\"balanced\")\n",
    "penalidad.fit(X_train_scaled, y_train)\n",
    "\n",
    "y_test_pred = penalidad.predict(scaler.transform(X_test))"
   ]
  },
  {
   "cell_type": "code",
   "execution_count": null,
   "metadata": {},
   "outputs": [],
   "source": [
    "mostrar_resultados(y_test, y_test_pred)"
   ]
  },
  {
   "attachments": {},
   "cell_type": "markdown",
   "metadata": {},
   "source": [
    "### 4.2.1 Undersampling (us) sobre la clase predominante (No Fraude)"
   ]
  },
  {
   "cell_type": "code",
   "execution_count": null,
   "metadata": {},
   "outputs": [],
   "source": [
    "# us trabaja parecido a KNN\n",
    "us = NearMiss(n_neighbors=3, version=1)\n",
    "# Para cambiar proporciones podemos usar version = 3\n",
    "\n",
    "X_train_res, y_train_res = us.fit_resample(X_train, y_train)\n",
    " \n",
    "print(f'Distribución antes de resampling {Counter(y_train)}')\n",
    "print(f'Distribución antes de resampling {Counter(y_train_res)}')"
   ]
  },
  {
   "cell_type": "code",
   "execution_count": null,
   "metadata": {},
   "outputs": [],
   "source": [
    "model = logistic_model(X_train_res, X_test, y_train_res, y_test)\n",
    "y_test_pred = model.predict(scaler.transform(X_test))\n",
    "\n",
    "mostrar_resultados(y_test, y_test_pred)"
   ]
  },
  {
   "attachments": {},
   "cell_type": "markdown",
   "metadata": {},
   "source": [
    "Identifica todos los fraudes porque la probabilidad en el set de entrenamiento la proporción es 50/50. Aumentan los falsos positivos, disminuye el f1 score."
   ]
  },
  {
   "attachments": {},
   "cell_type": "markdown",
   "metadata": {},
   "source": [
    "### 4.2.2 Oversampling (os) de la clase minoritaria (Fraude)"
   ]
  },
  {
   "attachments": {},
   "cell_type": "markdown",
   "metadata": {},
   "source": [
    "Para este caso se usará RandomOverSampler para crear nuevas muestras \"sintéticas\" para la clase 'Fraude'. \n",
    "Al usar 'sampling_strategy' = 0.5, estamos creando muestras sintéticas hasta alcanzar un numero de muestras igual al 50% de la clase mayoritaria (No Fraude), es decir 365039 casos Fraude."
   ]
  },
  {
   "cell_type": "code",
   "execution_count": null,
   "metadata": {},
   "outputs": [],
   "source": [
    "os =  RandomOverSampler(sampling_strategy = 0.5, random_state=1234)\n",
    "X_train_res, y_train_res = os.fit_resample(X_train, y_train)\n",
    " \n",
    "print(f'Distribución antes de resampling {Counter(y_train)}')\n",
    "print(f'Distribución después de resampling {Counter(y_train_res)}')"
   ]
  },
  {
   "cell_type": "code",
   "execution_count": null,
   "metadata": {},
   "outputs": [],
   "source": [
    "model = logistic_model(X_train_res, X_test, y_train_res, y_test)\n",
    "y_test_pred = model.predict(scaler.transform(X_test))\n",
    "\n",
    "mostrar_resultados(y_test, y_test_pred)"
   ]
  },
  {
   "attachments": {},
   "cell_type": "markdown",
   "metadata": {},
   "source": [
    "Aumentan los falsos negativos, disminuyen los falsos positivos, aumenta la precisión y el F1 score. Se identifican menor cantidad de casos de Fraude que el caso anterior. "
   ]
  },
  {
   "attachments": {},
   "cell_type": "markdown",
   "metadata": {},
   "source": [
    "### 4.2.3 Aplicando modelos conjuntos. (Oversampling (os) y Undersampling (us)) -- Smote-Tomek "
   ]
  },
  {
   "attachments": {},
   "cell_type": "markdown",
   "metadata": {},
   "source": [
    "* SMOTE (Synthetic Minority Over-sampling Technique) para oversampling. Puntos vecinos cercanos y agrega puntos “en linea recta” entre ellos. \n",
    "\n",
    "* Tomek para undersampling. Elimina los de distinta clase que sean nearest neighbor y deja ver mejor el decisión boundary (la zona limítrofe de las clases)."
   ]
  },
  {
   "cell_type": "code",
   "execution_count": null,
   "metadata": {},
   "outputs": [],
   "source": [
    "os_us = SMOTETomek(sampling_strategy=0.5, random_state=1234)\n",
    "X_train_res, y_train_res = os_us.fit_resample(X_train, y_train)\n",
    " \n",
    "print(f'Distribución antes de resampling {Counter(y_train)}')\n",
    "print(f'Distribución antes de resampling {Counter(y_train_res)}')"
   ]
  },
  {
   "cell_type": "code",
   "execution_count": null,
   "metadata": {},
   "outputs": [],
   "source": [
    "model = logistic_model(X_train_res, X_test, y_train_res, y_test)\n",
    "y_test_pred = model.predict(scaler.transform(X_test))\n",
    "\n",
    "mostrar_resultados(y_test, y_test_pred)"
   ]
  },
  {
   "attachments": {},
   "cell_type": "markdown",
   "metadata": {},
   "source": [
    "Aumentan los falsos negativos. "
   ]
  },
  {
   "attachments": {},
   "cell_type": "markdown",
   "metadata": {},
   "source": [
    "## 5. Aplicando modelo Naiyes Bayes"
   ]
  },
  {
   "cell_type": "code",
   "execution_count": null,
   "metadata": {},
   "outputs": [],
   "source": [
    "X = data.iloc[:, 0:-1]\n",
    "y = data.iloc[:, -1]"
   ]
  },
  {
   "cell_type": "code",
   "execution_count": null,
   "metadata": {},
   "outputs": [],
   "source": [
    "data.head()"
   ]
  },
  {
   "attachments": {},
   "cell_type": "markdown",
   "metadata": {},
   "source": [
    "### 5.1. Naive Bayes (Todos los datos)"
   ]
  },
  {
   "cell_type": "code",
   "execution_count": null,
   "metadata": {},
   "outputs": [],
   "source": [
    "# VOLVEMOS A SEPARAR EN TRAIN Y TEST PERO ESTA VEZ\n",
    "x_train, x_test, y_train, y_test = train_test_split(X, y,\n",
    "                                                    test_size=0.25,\n",
    "                                                    random_state=123,\n",
    "                                                    stratify=y)"
   ]
  },
  {
   "cell_type": "code",
   "execution_count": null,
   "metadata": {},
   "outputs": [],
   "source": [
    "model1 = GaussianNB()\n",
    "model1.fit(x_train, y_train); "
   ]
  },
  {
   "cell_type": "code",
   "execution_count": null,
   "metadata": {},
   "outputs": [],
   "source": [
    "model2 = MultinomialNB()\n",
    "model2.fit(x_train, y_train)"
   ]
  },
  {
   "cell_type": "code",
   "execution_count": null,
   "metadata": {},
   "outputs": [],
   "source": [
    "y_pred_gnb = model1.predict(x_test)\n",
    "y_pred_mnb = model2.predict(x_test)"
   ]
  },
  {
   "cell_type": "code",
   "execution_count": null,
   "metadata": {},
   "outputs": [],
   "source": [
    "print (f'Accuracy para modelo gaussiano: {accuracy_score(y_pred_gnb,y_test)}')\n",
    "print (f'Accuracy para modelo multinomial: {accuracy_score(y_pred_mnb,y_test)}')\n",
    "print()\n",
    "print (f'Recall para modelo gaussiano: {recall_score(y_test,y_pred_gnb)}')\n",
    "print (f'Recall para modelo multinomial: {recall_score(y_test,y_pred_mnb)}')"
   ]
  },
  {
   "cell_type": "code",
   "execution_count": null,
   "metadata": {},
   "outputs": [],
   "source": [
    "g = sns.heatmap(confusion_matrix(y_test,model1.predict(x_test)),annot=True, fmt='.0f')\n",
    "g.set_xlabel('predicho')\n",
    "g.set_ylabel('real')\n",
    "g.set_title('GaussianNB')"
   ]
  },
  {
   "cell_type": "code",
   "execution_count": null,
   "metadata": {},
   "outputs": [],
   "source": [
    "g = sns.heatmap(confusion_matrix(y_test,model2.predict(x_test)),annot=True, fmt='.2f')\n",
    "g.set_xlabel('predicho')\n",
    "g.set_ylabel('real')\n",
    "g.set_title('MultinomialNB')"
   ]
  },
  {
   "attachments": {},
   "cell_type": "markdown",
   "metadata": {},
   "source": [
    "### 5.2. Naive Bayes (Balanceado)"
   ]
  },
  {
   "attachments": {},
   "cell_type": "markdown",
   "metadata": {},
   "source": [
    "### Para este modelo sólo será construido un DataFrame considerando la siguiente premisa: \n",
    "* Seleccionar menor cantidad de registros y buscando una proporción de la variable target 70-30, para tener el datasets menos desbalanceado. Según cálculos , se debería extraer una muestra de 291343 datos totales. "
   ]
  },
  {
   "cell_type": "code",
   "execution_count": null,
   "metadata": {},
   "outputs": [],
   "source": [
    "# Dataset de sólo no fraude \n",
    "df_nf = data.loc[data['fraud'] == 0]\n",
    "df_nf.fraud.value_counts()\n",
    "df_nf2 = df_nf.sample(203940, random_state=123)\n",
    "print(df_nf2.fraud.value_counts())\n",
    "\n",
    "# Generar otro dataset con los registros de fraude \n",
    "df_f = data.loc[data['fraud'] == 1]\n",
    "df_f.fraud.value_counts()"
   ]
  },
  {
   "cell_type": "code",
   "execution_count": null,
   "metadata": {},
   "outputs": [],
   "source": [
    "definitivo = pd.merge(df_nf2, df_f, how = 'outer')\n",
    "definitivo.fraud.value_counts()\n",
    "\n",
    "display(definitivo.sample(10))"
   ]
  },
  {
   "cell_type": "code",
   "execution_count": null,
   "metadata": {},
   "outputs": [],
   "source": [
    "X = definitivo.iloc[:, 0:-1]\n",
    "y = definitivo.iloc[:, -1]\n",
    "\n",
    "\n",
    "x_train, x_test, y_train, y_test = train_test_split(X, y,\n",
    "                                                    test_size=0.25,\n",
    "                                                    random_state=123,\n",
    "                                                    stratify=y)"
   ]
  },
  {
   "cell_type": "code",
   "execution_count": null,
   "metadata": {},
   "outputs": [],
   "source": [
    "model1 = GaussianNB()\n",
    "model1.fit(x_train, y_train);  "
   ]
  },
  {
   "cell_type": "code",
   "execution_count": null,
   "metadata": {},
   "outputs": [],
   "source": [
    "model2 = MultinomialNB()\n",
    "model2.fit(x_train, y_train)"
   ]
  },
  {
   "cell_type": "code",
   "execution_count": null,
   "metadata": {},
   "outputs": [],
   "source": [
    "y_pred_gnb = model1.predict(x_test)\n",
    "y_pred_mnb = model2.predict(x_test)"
   ]
  },
  {
   "cell_type": "code",
   "execution_count": null,
   "metadata": {},
   "outputs": [],
   "source": [
    "print (f'Accuracy para modelo gaussiano: {accuracy_score(y_pred_gnb,y_test)}')\n",
    "print (f'Accuracy para modelo multinomial: {accuracy_score(y_pred_mnb,y_test),}')\n",
    "print()\n",
    "print (f'Recall para modelo gaussiano: {recall_score(y_test,y_pred_gnb)}')\n",
    "print (f'Recall para modelo multinomial: {recall_score(y_test,y_pred_mnb)}')"
   ]
  },
  {
   "cell_type": "code",
   "execution_count": null,
   "metadata": {},
   "outputs": [],
   "source": [
    "g = sns.heatmap(confusion_matrix(y_test,model1.predict(x_test)),annot=True, fmt='.2f')\n",
    "g.set_xlabel('predicho')\n",
    "g.set_ylabel('real')\n",
    "g.set_title('GaussianNB')"
   ]
  },
  {
   "cell_type": "code",
   "execution_count": null,
   "metadata": {},
   "outputs": [],
   "source": [
    "g = sns.heatmap(confusion_matrix(y_test,model2.predict(x_test)),annot=True, fmt='.2f')\n",
    "g.set_xlabel('predicho')\n",
    "g.set_ylabel('real')\n",
    "g.set_title('MultinomialNB')"
   ]
  },
  {
   "attachments": {},
   "cell_type": "markdown",
   "metadata": {},
   "source": [
    "## 6. Aplicando modelo KNN"
   ]
  },
  {
   "attachments": {},
   "cell_type": "markdown",
   "metadata": {},
   "source": [
    "### 6.1. KNN (Todos los datos)"
   ]
  },
  {
   "cell_type": "code",
   "execution_count": 3,
   "metadata": {},
   "outputs": [],
   "source": [
    "# Construimos la matriz de features donde tomamos todo el DataFrame en la eje X\n",
    "X = data.iloc[:, 0:-1]\n",
    "# Construimos el vector target Y con la columna Fraud del DF\n",
    "y = data['fraud']"
   ]
  },
  {
   "cell_type": "code",
   "execution_count": null,
   "metadata": {},
   "outputs": [],
   "source": [
    "## Serán generados los datos de entrenamiento y test\n",
    "# El argumento stratify nos permite generar una división que respeta la misma proporción entre clases en ambos sets\n",
    "X_train, X_test, y_train, y_test = train_test_split(X, y, stratify=y, random_state=12)"
   ]
  },
  {
   "cell_type": "code",
   "execution_count": null,
   "metadata": {},
   "outputs": [],
   "source": [
    "# Clasificando el dataframe con el modelo KNN \n",
    "# Inicialmente tomamos el hiperparametro por defecto, sin estandarizar la matriz\n",
    "\n",
    "knn = KNeighborsClassifier()\n",
    "# Ajustamos a los datos de entrenamiento\n",
    "knn.fit(X_train, y_train)\n",
    "\n",
    "# Predecimos etiquetas para los datos de test\n",
    "y_pred = knn.predict(X_test)"
   ]
  },
  {
   "attachments": {},
   "cell_type": "markdown",
   "metadata": {},
   "source": [
    "#### Entre los datos de pruebas y prediccion, vemos que se obtiene un 98% de Precision de conincidencia entre la muestra real y la prediccion"
   ]
  },
  {
   "cell_type": "code",
   "execution_count": null,
   "metadata": {},
   "outputs": [],
   "source": [
    "# Evaluamos el accuracy del modelo\n",
    "accuracy_score(y_test, y_pred).round(2)"
   ]
  },
  {
   "attachments": {},
   "cell_type": "markdown",
   "metadata": {},
   "source": [
    "#### Optimizamos el valor del hiperparametro K, haciendo unsando recall_score tomando un rango de 1 a 10 para posterioirmente determinar el valor optimo en K"
   ]
  },
  {
   "cell_type": "code",
   "execution_count": null,
   "metadata": {},
   "outputs": [],
   "source": [
    "recall_score(y_test, y_pred)"
   ]
  },
  {
   "cell_type": "code",
   "execution_count": null,
   "metadata": {},
   "outputs": [],
   "source": [
    "#optimizar el valor de K\n",
    "\n",
    "scores_para_df = []\n",
    "\n",
    "for i in tqdm(range(1,10)):\n",
    "    model = KNeighborsClassifier(n_neighbors=i)\n",
    "    model.fit(X_train, y_train)\n",
    "    y_pred = model.predict(X_test)\n",
    "    dict_row_score = {'recall': recall_score(y_test, y_pred), 'n_neighbors':i}\n",
    "    # Guardamos cada uno en la lista de diccionarios\n",
    "    scores_para_df.append(dict_row_score)"
   ]
  },
  {
   "cell_type": "code",
   "execution_count": null,
   "metadata": {},
   "outputs": [],
   "source": [
    "df_scores = pd.DataFrame(scores_para_df)\n",
    "df_scores.head()"
   ]
  },
  {
   "cell_type": "code",
   "execution_count": null,
   "metadata": {},
   "outputs": [],
   "source": [
    "# Graficamos los resultados\n",
    "plt.plot(df_scores['n_neighbors'], df_scores['recall'], color='g');\n",
    "plt.xlabel('n_neighbors'); plt.ylabel('Recall')\n",
    "plt.grid(); plt.show()"
   ]
  },
  {
   "attachments": {},
   "cell_type": "markdown",
   "metadata": {},
   "source": [
    "#### Validamos cual es el valor que maximiza el score de recall, siendo en este caso el n_neighbors= 1"
   ]
  },
  {
   "attachments": {},
   "cell_type": "markdown",
   "metadata": {},
   "source": [
    "### 6.2. Estandarizacion de los datos de train"
   ]
  },
  {
   "cell_type": "code",
   "execution_count": null,
   "metadata": {},
   "outputs": [],
   "source": [
    "#Estandarizacion Matriz\n",
    "# Utilizamos sklearn para estandarizar la matriz de features\n",
    "\n",
    "scaler = StandardScaler()\n",
    "X_train_Knn_scaler = scaler.fit_transform(X_train)\n",
    "X_test_Knn_scales = scaler.fit_transform(X_test)"
   ]
  },
  {
   "cell_type": "code",
   "execution_count": null,
   "metadata": {},
   "outputs": [],
   "source": [
    "# Verificamos que las variables ahora tengan media 0 y desvío 1.\n",
    "print('Medias:', np.mean(X_train_Knn_scaler, axis=0).round(2))\n",
    "print('Desvio:', np.std(X_train_Knn_scaler, axis=0).round(2))"
   ]
  },
  {
   "cell_type": "code",
   "execution_count": null,
   "metadata": {},
   "outputs": [],
   "source": [
    "# Hacemos predicciones con el modelo entrenado\n",
    "y_train_knn_pred = knn.predict(X_train_Knn_scaler)\n",
    "y_test_Knn_pred = knn.predict(scaler.transform(X_test)) # Notar que debemos escalar los datos de testeo antes de realizar predicciones"
   ]
  },
  {
   "cell_type": "code",
   "execution_count": null,
   "metadata": {},
   "outputs": [],
   "source": [
    "# Calculamos nuevamente los scores de Recall pero esta vez sobre los features estandarizados:\n",
    "\n",
    "scores_para_df_standard = []\n",
    "\n",
    "for i in tqdm(range(1,10)):\n",
    "    model = KNeighborsClassifier(n_neighbors=i)\n",
    "    model.fit(X_train_Knn_scaler, y_train_knn_pred)\n",
    "    y_pred = model.predict(X_test_Knn_scales)\n",
    "    dict_row_score = {'recall': recall_score(y_test_Knn_pred, y_pred), 'n_neighbors':i}\n",
    "    # Guardamos cada uno en la lista de diccionarios\n",
    "    scores_para_df_standard.append(dict_row_score)"
   ]
  },
  {
   "cell_type": "code",
   "execution_count": null,
   "metadata": {},
   "outputs": [],
   "source": [
    "# Creamos el DataFrame a partir de la lista de diccionarios\n",
    "df_scores_standard = pd.DataFrame(scores_para_df_standard)\n",
    "df_scores_standard"
   ]
  },
  {
   "cell_type": "code",
   "execution_count": null,
   "metadata": {},
   "outputs": [],
   "source": [
    "# Graficamos los resultados\n",
    "plt.plot(df_scores_standard['n_neighbors'], df_scores_standard['recall'], color='g');\n",
    "plt.xlabel('n_neighbors'); plt.ylabel('Recall')\n",
    "plt.grid(); plt.show()"
   ]
  },
  {
   "attachments": {},
   "cell_type": "markdown",
   "metadata": {},
   "source": [
    "Ahora obteniendo el valor optimo, conseguido en el paso anterioir, hacemos de nuevo el entramiento de los datos"
   ]
  },
  {
   "cell_type": "code",
   "execution_count": null,
   "metadata": {},
   "outputs": [],
   "source": [
    "# Asignamos el valor del k óptimo a una variable\n",
    "best_k = df_scores_standard.loc[df_scores.recall == df_scores.recall.max(), 'n_neighbors'].values[0]\n",
    "best_k"
   ]
  },
  {
   "cell_type": "code",
   "execution_count": null,
   "metadata": {},
   "outputs": [],
   "source": [
    "# Elegimos el modelo óptimo de acuerdo a las pruebas de recall_score\n",
    "model = KNeighborsClassifier(n_neighbors=best_k)\n",
    "\n",
    "# Lo ajustamos sobre los datos de entrenamiento\n",
    "model.fit(X_train, y_train)"
   ]
  },
  {
   "attachments": {},
   "cell_type": "markdown",
   "metadata": {},
   "source": [
    "Obtenemos un ajuste cerca de 100%"
   ]
  },
  {
   "cell_type": "code",
   "execution_count": null,
   "metadata": {},
   "outputs": [],
   "source": [
    "# Evaluamos qué accuracy obtenemos en train\n",
    "accuracy_score(y_train, model.predict(X_train)).round(2)"
   ]
  },
  {
   "cell_type": "code",
   "execution_count": null,
   "metadata": {},
   "outputs": [],
   "source": [
    "# Generación de la matriz de confusión\n",
    "cm = confusion_matrix(y_test, y_pred)\n",
    "cm"
   ]
  },
  {
   "attachments": {},
   "cell_type": "markdown",
   "metadata": {},
   "source": [
    "sns.heatmap(cm, annot=True, fmt='.0f')\n",
    "plt.title(\"Confusion matrix\")\n",
    "plt.ylabel('Real')\n",
    "plt.xlabel('Predicción');\n",
    "plt.show()"
   ]
  },
  {
   "cell_type": "markdown",
   "metadata": {},
   "source": [
    "* Casos negativos reales 62.397, correspondientes a la primera fila.\n",
    "\n",
    "* Casos positivos reales 14.318, correspondientes a la segunda fila.\n",
    "\n",
    "* Casos negativos predichos, corresponden a la primera columna.\n",
    "\n",
    "* Casos positivos predichos, corresponden a la segunda columna.\n",
    "\n",
    "* Diagonal en la matriz corresponde a las clasificaciones correctas. Siendo 62.397 casos negativos y 14.318 a casos positivos de Fraude.\n",
    "Los Elementos de la diagonal inversa, nuestro modelo los confude siendo 165.752 casos mal etiquetado para negativo y 7.533 para positivo de fraude."
   ]
  },
  {
   "attachments": {},
   "cell_type": "markdown",
   "metadata": {},
   "source": [
    "* Finalmente calculamos la exactitud de nuestro modelo, de manera manual y computada, siendo ambas de precision del 92%"
   ]
  },
  {
   "cell_type": "code",
   "execution_count": null,
   "metadata": {},
   "outputs": [],
   "source": [
    "((cm[0,0] + cm[1,1]) / len(y_pred)).round(2)"
   ]
  },
  {
   "cell_type": "code",
   "execution_count": null,
   "metadata": {},
   "outputs": [],
   "source": [
    "accuracy_score(y_test, y_pred).round(2)"
   ]
  },
  {
   "attachments": {},
   "cell_type": "markdown",
   "metadata": {},
   "source": [
    "### 6.3 Balanceo de clases"
   ]
  },
  {
   "attachments": {},
   "cell_type": "markdown",
   "metadata": {},
   "source": [
    "Partiendo desde la misma premisa considerada para Naives Bayes, será usado el DataFrame generado de manera manual obtenemos lo siguiente:\n"
   ]
  },
  {
   "cell_type": "code",
   "execution_count": 4,
   "metadata": {},
   "outputs": [
    {
     "name": "stdout",
     "output_type": "stream",
     "text": [
      "0.0    203940\n",
      "Name: fraud, dtype: int64\n"
     ]
    },
    {
     "data": {
      "text/plain": [
       "1.0    87403\n",
       "Name: fraud, dtype: int64"
      ]
     },
     "execution_count": 4,
     "metadata": {},
     "output_type": "execute_result"
    }
   ],
   "source": [
    "# Dataset de sólo no fraude \n",
    "df_nf = data.loc[data['fraud'] == 0]\n",
    "df_nf.fraud.value_counts()\n",
    "df_nf2 = df_nf.sample(203940)\n",
    "print(df_nf2.fraud.value_counts())\n",
    "\n",
    "# Generar otro dataset con los registros de fraude \n",
    "df_f = data.loc[data['fraud'] == 1]\n",
    "df_f.fraud.value_counts()"
   ]
  },
  {
   "cell_type": "code",
   "execution_count": 5,
   "metadata": {},
   "outputs": [
    {
     "data": {
      "text/plain": [
       "0.0    0.7\n",
       "1.0    0.3\n",
       "Name: fraud, dtype: float64"
      ]
     },
     "execution_count": 5,
     "metadata": {},
     "output_type": "execute_result"
    }
   ],
   "source": [
    "df = pd.merge(df_nf2, df_f, how = 'outer')\n",
    "df.fraud.value_counts(normalize=True).round(2)"
   ]
  },
  {
   "cell_type": "code",
   "execution_count": 6,
   "metadata": {},
   "outputs": [
    {
     "data": {
      "text/html": [
       "<div>\n",
       "<style scoped>\n",
       "    .dataframe tbody tr th:only-of-type {\n",
       "        vertical-align: middle;\n",
       "    }\n",
       "\n",
       "    .dataframe tbody tr th {\n",
       "        vertical-align: top;\n",
       "    }\n",
       "\n",
       "    .dataframe thead th {\n",
       "        text-align: right;\n",
       "    }\n",
       "</style>\n",
       "<table border=\"1\" class=\"dataframe\">\n",
       "  <thead>\n",
       "    <tr style=\"text-align: right;\">\n",
       "      <th></th>\n",
       "      <th>distance_from_home</th>\n",
       "      <th>distance_from_last_transaction</th>\n",
       "      <th>ratio_to_median_purchase_price</th>\n",
       "      <th>repeat_retailer</th>\n",
       "      <th>used_chip</th>\n",
       "      <th>used_pin_number</th>\n",
       "      <th>online_order</th>\n",
       "      <th>fraud</th>\n",
       "    </tr>\n",
       "  </thead>\n",
       "  <tbody>\n",
       "    <tr>\n",
       "      <th>57781</th>\n",
       "      <td>22.240979</td>\n",
       "      <td>0.436778</td>\n",
       "      <td>0.721116</td>\n",
       "      <td>1.0</td>\n",
       "      <td>1.0</td>\n",
       "      <td>0.0</td>\n",
       "      <td>1.0</td>\n",
       "      <td>0.0</td>\n",
       "    </tr>\n",
       "    <tr>\n",
       "      <th>284929</th>\n",
       "      <td>6.522278</td>\n",
       "      <td>5.082920</td>\n",
       "      <td>9.094798</td>\n",
       "      <td>1.0</td>\n",
       "      <td>0.0</td>\n",
       "      <td>0.0</td>\n",
       "      <td>1.0</td>\n",
       "      <td>1.0</td>\n",
       "    </tr>\n",
       "    <tr>\n",
       "      <th>55532</th>\n",
       "      <td>15.754156</td>\n",
       "      <td>4.300985</td>\n",
       "      <td>0.999839</td>\n",
       "      <td>1.0</td>\n",
       "      <td>0.0</td>\n",
       "      <td>0.0</td>\n",
       "      <td>1.0</td>\n",
       "      <td>0.0</td>\n",
       "    </tr>\n",
       "    <tr>\n",
       "      <th>34862</th>\n",
       "      <td>1.902395</td>\n",
       "      <td>25.864208</td>\n",
       "      <td>0.139165</td>\n",
       "      <td>1.0</td>\n",
       "      <td>0.0</td>\n",
       "      <td>0.0</td>\n",
       "      <td>1.0</td>\n",
       "      <td>0.0</td>\n",
       "    </tr>\n",
       "    <tr>\n",
       "      <th>271540</th>\n",
       "      <td>1.020323</td>\n",
       "      <td>1.009397</td>\n",
       "      <td>12.532165</td>\n",
       "      <td>0.0</td>\n",
       "      <td>1.0</td>\n",
       "      <td>0.0</td>\n",
       "      <td>1.0</td>\n",
       "      <td>1.0</td>\n",
       "    </tr>\n",
       "    <tr>\n",
       "      <th>149849</th>\n",
       "      <td>5.155598</td>\n",
       "      <td>1.938809</td>\n",
       "      <td>2.058610</td>\n",
       "      <td>1.0</td>\n",
       "      <td>0.0</td>\n",
       "      <td>0.0</td>\n",
       "      <td>0.0</td>\n",
       "      <td>0.0</td>\n",
       "    </tr>\n",
       "    <tr>\n",
       "      <th>276803</th>\n",
       "      <td>97.669161</td>\n",
       "      <td>0.402303</td>\n",
       "      <td>5.842697</td>\n",
       "      <td>1.0</td>\n",
       "      <td>0.0</td>\n",
       "      <td>0.0</td>\n",
       "      <td>1.0</td>\n",
       "      <td>1.0</td>\n",
       "    </tr>\n",
       "    <tr>\n",
       "      <th>83874</th>\n",
       "      <td>78.008410</td>\n",
       "      <td>0.711507</td>\n",
       "      <td>0.177461</td>\n",
       "      <td>1.0</td>\n",
       "      <td>1.0</td>\n",
       "      <td>0.0</td>\n",
       "      <td>1.0</td>\n",
       "      <td>0.0</td>\n",
       "    </tr>\n",
       "    <tr>\n",
       "      <th>61744</th>\n",
       "      <td>1.494902</td>\n",
       "      <td>0.836659</td>\n",
       "      <td>0.938505</td>\n",
       "      <td>0.0</td>\n",
       "      <td>0.0</td>\n",
       "      <td>0.0</td>\n",
       "      <td>1.0</td>\n",
       "      <td>0.0</td>\n",
       "    </tr>\n",
       "    <tr>\n",
       "      <th>56623</th>\n",
       "      <td>28.946568</td>\n",
       "      <td>1.315995</td>\n",
       "      <td>1.462935</td>\n",
       "      <td>1.0</td>\n",
       "      <td>0.0</td>\n",
       "      <td>0.0</td>\n",
       "      <td>1.0</td>\n",
       "      <td>0.0</td>\n",
       "    </tr>\n",
       "  </tbody>\n",
       "</table>\n",
       "</div>"
      ],
      "text/plain": [
       "        distance_from_home  distance_from_last_transaction  \\\n",
       "57781            22.240979                        0.436778   \n",
       "284929            6.522278                        5.082920   \n",
       "55532            15.754156                        4.300985   \n",
       "34862             1.902395                       25.864208   \n",
       "271540            1.020323                        1.009397   \n",
       "149849            5.155598                        1.938809   \n",
       "276803           97.669161                        0.402303   \n",
       "83874            78.008410                        0.711507   \n",
       "61744             1.494902                        0.836659   \n",
       "56623            28.946568                        1.315995   \n",
       "\n",
       "        ratio_to_median_purchase_price  repeat_retailer  used_chip  \\\n",
       "57781                         0.721116              1.0        1.0   \n",
       "284929                        9.094798              1.0        0.0   \n",
       "55532                         0.999839              1.0        0.0   \n",
       "34862                         0.139165              1.0        0.0   \n",
       "271540                       12.532165              0.0        1.0   \n",
       "149849                        2.058610              1.0        0.0   \n",
       "276803                        5.842697              1.0        0.0   \n",
       "83874                         0.177461              1.0        1.0   \n",
       "61744                         0.938505              0.0        0.0   \n",
       "56623                         1.462935              1.0        0.0   \n",
       "\n",
       "        used_pin_number  online_order  fraud  \n",
       "57781               0.0           1.0    0.0  \n",
       "284929              0.0           1.0    1.0  \n",
       "55532               0.0           1.0    0.0  \n",
       "34862               0.0           1.0    0.0  \n",
       "271540              0.0           1.0    1.0  \n",
       "149849              0.0           0.0    0.0  \n",
       "276803              0.0           1.0    1.0  \n",
       "83874               0.0           1.0    0.0  \n",
       "61744               0.0           1.0    0.0  \n",
       "56623               0.0           1.0    0.0  "
      ]
     },
     "metadata": {},
     "output_type": "display_data"
    }
   ],
   "source": [
    "display(df.sample(10))"
   ]
  },
  {
   "cell_type": "code",
   "execution_count": 29,
   "metadata": {},
   "outputs": [
    {
     "data": {
      "image/png": "[encoded data removed]",
      "text/plain": [
       "<Figure size 640x480 with 1 Axes>"
      ]
     },
     "metadata": {},
     "output_type": "display_data"
    }
   ],
   "source": [
    "count_classes = pd.value_counts(df['fraud'], sort = True)\n",
    "count_classes.plot(kind = 'bar', rot=0)\n",
    "plt.title(\"Frequency by observation number\")\n",
    "plt.xlabel(\"Class\")\n",
    "plt.ylabel(\"Number of Observations\");"
   ]
  },
  {
   "attachments": {},
   "cell_type": "markdown",
   "metadata": {},
   "source": [
    "Aplicamos los siete pasos para generar un modelo."
   ]
  },
  {
   "cell_type": "code",
   "execution_count": 7,
   "metadata": {},
   "outputs": [],
   "source": [
    "# Preparar matriz de *features* y vector *target*\n",
    "X = df.iloc[: , :7]\n",
    "y = df['fraud']"
   ]
  },
  {
   "cell_type": "code",
   "execution_count": 8,
   "metadata": {},
   "outputs": [],
   "source": [
    "# Elegir los hiperparámetros del modelo. Instanciamos el modelo con su configuración por defecto\n",
    "knn = KNeighborsClassifier(n_neighbors=5)"
   ]
  },
  {
   "cell_type": "code",
   "execution_count": 9,
   "metadata": {},
   "outputs": [],
   "source": [
    "# Separar los sets de entrenamiento y de testing\n",
    "X_train, X_test, y_train, y_test = train_test_split(X, y,random_state=2)\n",
    "\n",
    "# Ajustamos a los datos de entrenamiento.\n",
    "knn.fit(X_train, y_train);\n",
    "\n",
    "# Predecimos etiquetas para los datos de test.\n",
    "y_pred = knn.predict(X_test)"
   ]
  },
  {
   "cell_type": "code",
   "execution_count": 10,
   "metadata": {},
   "outputs": [
    {
     "data": {
      "text/plain": [
       "0.97"
      ]
     },
     "execution_count": 10,
     "metadata": {},
     "output_type": "execute_result"
    }
   ],
   "source": [
    "# # Evaluamos el accuracy del modelo\n",
    "accuracy_score(y_test, y_pred).round(2)"
   ]
  },
  {
   "cell_type": "code",
   "execution_count": 11,
   "metadata": {},
   "outputs": [
    {
     "data": {
      "text/plain": [
       "0.9895321610578026"
      ]
     },
     "execution_count": 11,
     "metadata": {},
     "output_type": "execute_result"
    }
   ],
   "source": [
    "recall_score(y_test, y_pred)"
   ]
  },
  {
   "attachments": {},
   "cell_type": "markdown",
   "metadata": {},
   "source": [
    " Nuestro modelo puede clasificar correctamente el 97% de las observaciones del dataset de test."
   ]
  },
  {
   "cell_type": "code",
   "execution_count": 12,
   "metadata": {},
   "outputs": [
    {
     "name": "stderr",
     "output_type": "stream",
     "text": [
      "100%|██████████| 20/20 [02:18<00:00,  6.91s/it]\n"
     ]
    }
   ],
   "source": [
    "# Ahora, vamos a evaluar el modelo\n",
    "\n",
    "scores_para_definitivo = []\n",
    "\n",
    "for i in tqdm(range(1, 21)):\n",
    "    \n",
    "    model = KNeighborsClassifier(n_neighbors=i)\n",
    "    model.fit(X_train, y_train)\n",
    "    y_pred = model.predict(X_test)\n",
    "    recall_scores = recall_score(y_test, y_pred)\n",
    "    dict_row_score = {'score_medio':np.mean(recall_scores),\n",
    "                      'score_std':np.std(recall_scores), 'n_neighbors':i}\n",
    "    \n",
    "    scores_para_definitivo.append(dict_row_score)"
   ]
  },
  {
   "cell_type": "code",
   "execution_count": 13,
   "metadata": {},
   "outputs": [],
   "source": [
    "# Creamos el DataFrame a partir de la lista de diccionarios\n",
    "df_scores = pd.DataFrame(scores_para_definitivo)\n",
    "# df_scores"
   ]
  },
  {
   "cell_type": "code",
   "execution_count": 14,
   "metadata": {},
   "outputs": [],
   "source": [
    "# Generamos los límites inferior y superior\n",
    "df_scores['limite_inferior'] = df_scores['score_medio'] - df_scores['score_std']\n",
    "df_scores['limite_superior'] = df_scores['score_medio'] + df_scores['score_std']"
   ]
  },
  {
   "cell_type": "code",
   "execution_count": 15,
   "metadata": {},
   "outputs": [
    {
     "data": {
      "image/png": "[encoded data removed]",
      "text/plain": [
       "<Figure size 640x480 with 1 Axes>"
      ]
     },
     "metadata": {},
     "output_type": "display_data"
    }
   ],
   "source": [
    "# Graficamos los resultados\n",
    "\n",
    "plt.plot(df_scores['n_neighbors'], df_scores['limite_inferior'], color='r')\n",
    "plt.plot(df_scores['n_neighbors'], df_scores['score_medio'], color='b')\n",
    "plt.plot(df_scores['n_neighbors'], df_scores['limite_superior'], color='r');\n",
    "plt.xlabel('Valor de K'); plt.ylabel('Test Recall')\n",
    "plt.grid(); plt.show()\n"
   ]
  },
  {
   "cell_type": "code",
   "execution_count": 16,
   "metadata": {},
   "outputs": [
    {
     "data": {
      "text/html": [
       "<div>\n",
       "<style scoped>\n",
       "    .dataframe tbody tr th:only-of-type {\n",
       "        vertical-align: middle;\n",
       "    }\n",
       "\n",
       "    .dataframe tbody tr th {\n",
       "        vertical-align: top;\n",
       "    }\n",
       "\n",
       "    .dataframe thead th {\n",
       "        text-align: right;\n",
       "    }\n",
       "</style>\n",
       "<table border=\"1\" class=\"dataframe\">\n",
       "  <thead>\n",
       "    <tr style=\"text-align: right;\">\n",
       "      <th></th>\n",
       "      <th>score_medio</th>\n",
       "      <th>score_std</th>\n",
       "      <th>n_neighbors</th>\n",
       "      <th>limite_inferior</th>\n",
       "      <th>limite_superior</th>\n",
       "    </tr>\n",
       "  </thead>\n",
       "  <tbody>\n",
       "    <tr>\n",
       "      <th>18</th>\n",
       "      <td>0.995087</td>\n",
       "      <td>0.0</td>\n",
       "      <td>19</td>\n",
       "      <td>0.995087</td>\n",
       "      <td>0.995087</td>\n",
       "    </tr>\n",
       "  </tbody>\n",
       "</table>\n",
       "</div>"
      ],
      "text/plain": [
       "    score_medio  score_std  n_neighbors  limite_inferior  limite_superior\n",
       "18     0.995087        0.0           19         0.995087         0.995087"
      ]
     },
     "execution_count": 16,
     "metadata": {},
     "output_type": "execute_result"
    }
   ],
   "source": [
    "# Identificamos el score máximo\n",
    "df_scores.loc[df_scores.score_medio == df_scores.score_medio.max()]"
   ]
  },
  {
   "attachments": {},
   "cell_type": "markdown",
   "metadata": {},
   "source": [
    "Por lo tanto, el valor de n_neighbors óptimo es 19."
   ]
  },
  {
   "attachments": {},
   "cell_type": "markdown",
   "metadata": {},
   "source": [
    "Matriz de Confusión"
   ]
  },
  {
   "cell_type": "code",
   "execution_count": 17,
   "metadata": {},
   "outputs": [
    {
     "data": {
      "text/plain": [
       "array([[47918,  3137],\n",
       "       [  143, 21638]], dtype=int64)"
      ]
     },
     "execution_count": 17,
     "metadata": {},
     "output_type": "execute_result"
    }
   ],
   "source": [
    "confusion_matrix(y_test, y_pred)"
   ]
  },
  {
   "cell_type": "code",
   "execution_count": 18,
   "metadata": {},
   "outputs": [
    {
     "data": {
      "image/png": "[encoded data removed]",
      "text/plain": [
       "<Figure size 640x480 with 2 Axes>"
      ]
     },
     "metadata": {},
     "output_type": "display_data"
    }
   ],
   "source": [
    "sns.heatmap(confusion_matrix(y_test, y_pred), annot=True, fmt='.0f')\n",
    "plt.ylabel('Verdaderos')\n",
    "plt.xlabel('Predichos');"
   ]
  },
  {
   "cell_type": "code",
   "execution_count": 19,
   "metadata": {},
   "outputs": [
    {
     "name": "stdout",
     "output_type": "stream",
     "text": [
      "              precision    recall  f1-score   support\n",
      "\n",
      "         0.0       1.00      0.94      0.97     51055\n",
      "         1.0       0.87      0.99      0.93     21781\n",
      "\n",
      "    accuracy                           0.95     72836\n",
      "   macro avg       0.94      0.97      0.95     72836\n",
      "weighted avg       0.96      0.95      0.96     72836\n",
      "\n"
     ]
    }
   ],
   "source": [
    "print(classification_report(y_test, y_pred))"
   ]
  },
  {
   "attachments": {},
   "cell_type": "markdown",
   "metadata": {},
   "source": [
    "## Usando la estrategia Resampling y Muestras sintéticas para datos Desbalanceados."
   ]
  },
  {
   "cell_type": "code",
   "execution_count": 20,
   "metadata": {},
   "outputs": [
    {
     "name": "stdout",
     "output_type": "stream",
     "text": [
      "Distribución antes de resampling Counter({0.0: 152885, 1.0: 65622})\n",
      "Distribución después de resampling Counter({0.0: 65622, 1.0: 65622})\n"
     ]
    }
   ],
   "source": [
    "# Undersampling (us) sobre la clase predominante (No Fraude)\n",
    "\n",
    "us = NearMiss(n_neighbors=3, version=1)\n",
    "# Para cambiar proporciones podemos usar version = 3\n",
    "\n",
    "X_train_res, y_train_res = us.fit_resample(X_train, y_train)\n",
    " \n",
    "print(f'Distribución antes de resampling {Counter(y_train)}')\n",
    "print(f'Distribución después de resampling {Counter(y_train_res)}')"
   ]
  },
  {
   "cell_type": "code",
   "execution_count": 21,
   "metadata": {},
   "outputs": [],
   "source": [
    "# Separar los sets de entrenamiento y de testing\n",
    "X_train_res, X_test, y_train_res, y_test = train_test_split(X, y,random_state=2)\n",
    "\n",
    "# Ajustamos a los datos de entrenamiento.\n",
    "knn.fit(X_train_res, y_train_res);\n"
   ]
  },
  {
   "cell_type": "code",
   "execution_count": 22,
   "metadata": {},
   "outputs": [
    {
     "name": "stdout",
     "output_type": "stream",
     "text": [
      "              precision    recall  f1-score   support\n",
      "\n",
      "         0.0       1.00      0.96      0.98     51055\n",
      "         1.0       0.91      0.99      0.95     21781\n",
      "\n",
      "    accuracy                           0.97     72836\n",
      "   macro avg       0.95      0.97      0.96     72836\n",
      "weighted avg       0.97      0.97      0.97     72836\n",
      "\n"
     ]
    },
    {
     "data": {
      "image/png": "[encoded data removed]",
      "text/plain": [
       "<Figure size 640x480 with 2 Axes>"
      ]
     },
     "metadata": {},
     "output_type": "display_data"
    }
   ],
   "source": [
    "# Aplicando el modelo KNN en undersampling\n",
    "y_pred_knn = knn.predict(X_test)\n",
    "\n",
    "sns.heatmap(confusion_matrix(y_test, y_pred_knn), annot=True, fmt='.0f')\n",
    "plt.ylabel('Verdaderos')\n",
    "plt.xlabel('Predichos');\n",
    "\n",
    "print(classification_report(y_test, y_pred_knn))"
   ]
  },
  {
   "cell_type": "code",
   "execution_count": 23,
   "metadata": {},
   "outputs": [
    {
     "name": "stdout",
     "output_type": "stream",
     "text": [
      "Distribución antes de resampling Counter({0.0: 152885, 1.0: 65622})\n",
      "Distribución después de resampling Counter({0.0: 152885, 1.0: 76442})\n"
     ]
    }
   ],
   "source": [
    "# Oversampling (os) de la clase minoritaria (Fraude)\n",
    "\n",
    "os =  RandomOverSampler(sampling_strategy = 0.5, random_state=1234)\n",
    "X_train_res, y_train_res = os.fit_resample(X_train, y_train)\n",
    " \n",
    "print(f'Distribución antes de resampling {Counter(y_train)}')\n",
    "print(f'Distribución después de resampling {Counter(y_train_res)}')"
   ]
  },
  {
   "cell_type": "code",
   "execution_count": 24,
   "metadata": {},
   "outputs": [],
   "source": [
    "# Separar los sets de entrenamiento y de testing\n",
    "X_train_res, X_test, y_train_res, y_test = train_test_split(X, y,random_state=2)\n",
    "\n",
    "# Ajustamos a los datos de entrenamiento.\n",
    "knn.fit(X_train_res, y_train_res);"
   ]
  },
  {
   "cell_type": "code",
   "execution_count": 25,
   "metadata": {},
   "outputs": [
    {
     "name": "stdout",
     "output_type": "stream",
     "text": [
      "              precision    recall  f1-score   support\n",
      "\n",
      "         0.0       1.00      0.96      0.98     51055\n",
      "         1.0       0.91      0.99      0.95     21781\n",
      "\n",
      "    accuracy                           0.97     72836\n",
      "   macro avg       0.95      0.97      0.96     72836\n",
      "weighted avg       0.97      0.97      0.97     72836\n",
      "\n"
     ]
    },
    {
     "data": {
      "image/png": "[encoded data removed]",
      "text/plain": [
       "<Figure size 640x480 with 2 Axes>"
      ]
     },
     "metadata": {},
     "output_type": "display_data"
    }
   ],
   "source": [
    "# Aplicando el modelo KNN en Oversampling\n",
    "y_pred_knn = knn.predict(X_test)\n",
    "\n",
    "sns.heatmap(confusion_matrix(y_test, y_pred_knn), annot=True, fmt='.0f')\n",
    "plt.ylabel('Verdaderos')\n",
    "plt.xlabel('Predichos');\n",
    "\n",
    "print(classification_report(y_test, y_pred_knn))"
   ]
  },
  {
   "cell_type": "code",
   "execution_count": 26,
   "metadata": {},
   "outputs": [
    {
     "name": "stdout",
     "output_type": "stream",
     "text": [
      "Distribución antes de resampling Counter({0.0: 152885, 1.0: 65622})\n",
      "Distribución antes de resampling Counter({0.0: 152119, 1.0: 75676})\n"
     ]
    }
   ],
   "source": [
    "# Aplicando modelos conjuntos. (Oversampling (os) y Undersampling (us)) -- Smote-Tomek\n",
    "\n",
    "os_us = SMOTETomek(sampling_strategy=0.5, random_state=1234)\n",
    "X_train_res, y_train_res = os_us.fit_resample(X_train, y_train)\n",
    " \n",
    "print(f'Distribución antes de resampling {Counter(y_train)}')\n",
    "print(f'Distribución antes de resampling {Counter(y_train_res)}')"
   ]
  },
  {
   "cell_type": "code",
   "execution_count": 27,
   "metadata": {},
   "outputs": [],
   "source": [
    "# Separar los sets de entrenamiento y de testing\n",
    "X_train_res, X_test, y_train_res, y_test = train_test_split(X, y,random_state=2)\n",
    "\n",
    "# Ajustamos a los datos de entrenamiento.\n",
    "knn.fit(X_train_res, y_train_res);\n"
   ]
  },
  {
   "cell_type": "code",
   "execution_count": 28,
   "metadata": {},
   "outputs": [
    {
     "name": "stdout",
     "output_type": "stream",
     "text": [
      "              precision    recall  f1-score   support\n",
      "\n",
      "         0.0       1.00      0.96      0.98     51055\n",
      "         1.0       0.91      0.99      0.95     21781\n",
      "\n",
      "    accuracy                           0.97     72836\n",
      "   macro avg       0.95      0.97      0.96     72836\n",
      "weighted avg       0.97      0.97      0.97     72836\n",
      "\n"
     ]
    },
    {
     "data": {
      "image/png": "[encoded data removed]",
      "text/plain": [
       "<Figure size 640x480 with 2 Axes>"
      ]
     },
     "metadata": {},
     "output_type": "display_data"
    }
   ],
   "source": [
    "# Aplicando el modelo KNN en smotetomek\n",
    "y_pred_knn = knn.predict(X_test)\n",
    "\n",
    "sns.heatmap(confusion_matrix(y_test, y_pred_knn), annot=True, fmt='.0f')\n",
    "plt.ylabel('Verdaderos')\n",
    "plt.xlabel('Predichos');\n",
    "\n",
    "print(classification_report(y_test, y_pred_knn))"
   ]
  }
 ],
 "metadata": {
  "kernelspec": {
   "display_name": "DH",
   "language": "python",
   "name": "python3"
  },
  "language_info": {
   "codemirror_mode": {
    "name": "ipython",
    "version": 3
   },
   "file_extension": ".py",
   "mimetype": "text/x-python",
   "name": "python",
   "nbconvert_exporter": "python",
   "pygments_lexer": "ipython3",
   "version": "3.10.6 | packaged by conda-forge | (main, Aug 22 2022, 20:30:19) [MSC v.1929 64 bit (AMD64)]"
  },
  "orig_nbformat": 4,
  "vscode": {
   "interpreter": {
    "hash": "6becbed91c3db0de89d3be7d755cbeeac818c5017507b382c86305c080f557e9"
   }
  }
 },
 "nbformat": 4,
 "nbformat_minor": 2
}
